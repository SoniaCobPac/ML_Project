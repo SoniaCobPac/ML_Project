{
 "cells": [
  {
   "cell_type": "markdown",
   "source": [
    "# **Soni - do:  Generating Music with Machine Learning**\r\n"
   ],
   "metadata": {}
  },
  {
   "cell_type": "markdown",
   "source": [
    "#### Author: Sonia Cobo\n",
    "#### Date: July 2021"
   ],
   "metadata": {}
  },
  {
   "cell_type": "markdown",
   "source": [
    "<table align=\"center\"> \r\n",
    "<tr><td width=\"800\"><img src=\"../resources/title.jpeg\" style=\"width:10;height:10\"></td> \r\n",
    "<td style=\"image-align:center\"> \r\n",
    "</td></tr> \r\n",
    "</table>"
   ],
   "metadata": {}
  },
  {
   "cell_type": "markdown",
   "source": [
    "### Music is associated with emotions, experiences and creativity, all o them considered human's qualities. \r\n",
    "\r\n",
    "### Though this project doesn't have a hypothesis per se it was done to prove that technology has advanced to the point where a machine, that cannot experience these feelings, can generate music.\r\n",
    "\r\n",
    "### Tis project will explain and show how music has been generated using a differente types of neural networks in Python using the Keras library."
   ],
   "metadata": {}
  },
  {
   "cell_type": "markdown",
   "source": [
    "# Data"
   ],
   "metadata": {}
  },
  {
   "cell_type": "markdown",
   "source": [
    "### Music files have been imported to Python in MIDI format. MIDI (Musical Instrument Digital Interface) is a technical standard that describes a communications protocol, digital interface, and electrical connectors that connect a wide variety of electronic musical instruments and computers. They don't contain actual audio data and are small in size. They explain what notes are played, when they're played, and how long or loud each note should be.\r\n",
    "\r\n",
    "### To optimise results only MIDI files consisting of a single instrument were chosen. In this case, the chosen instrument is piano and the type of songs is classical. \r\n",
    "\r\n",
    "### These songs have been obtained from the following datasets: http://www.piano-midi.de/ and https://www.mfiles.co.uk/classical-midi.htm\r\n",
    "### As guidance for the project the following example was considered: 'How to Generate Music using a LSTM Neural Network in Keras' by Sigurður Skúli.\r\n"
   ],
   "metadata": {}
  },
  {
   "cell_type": "markdown",
   "source": [
    "## Import all libraries"
   ],
   "metadata": {}
  },
  {
   "cell_type": "code",
   "execution_count": 292,
   "source": [
    "# data manipulation\r\n",
    "import numpy as np\r\n",
    "import pandas as pd \r\n",
    "from collections import Counter\r\n",
    "\r\n",
    "\r\n",
    "# manipulate midi files\r\n",
    "import glob\r\n",
    "from music21 import *\r\n",
    "import pygame\r\n",
    "\r\n",
    "# visualization\r\n",
    "import seaborn as sns\r\n",
    "import matplotlib.pyplot as plt\r\n",
    "\r\n",
    "# route files\r\n",
    "import os\r\n",
    "import sys\r\n",
    "\r\n",
    "# ml model\r\n",
    "import pickle\r\n",
    "\r\n",
    "import tensorflow as tf\r\n",
    "from tensorflow import keras\r\n",
    "\r\n",
    "from keras.models import Sequential\r\n",
    "from keras.layers import Dense\r\n",
    "from keras.layers import Dropout\r\n",
    "from keras.layers import LSTM\r\n",
    "from keras.layers import Activation\r\n",
    "from keras.layers import BatchNormalization\r\n",
    "from keras.layers import Bidirectional\r\n",
    "from keras.layers import Dropout\r\n",
    "from keras.layers import Flatten\r\n",
    "\r\n",
    "# my libraries\r\n",
    "import utils.mining_data_tb as md\r\n",
    "from utils.folders_tb import read_json\r\n",
    "#import utils.visualization_tb as vis\r\n",
    "from utils.sql_tb import MySQL\r\n",
    "\r\n",
    "import warnings\r\n",
    "warnings.filterwarnings(\"ignore\")\r\n"
   ],
   "outputs": [],
   "metadata": {}
  },
  {
   "cell_type": "markdown",
   "source": [
    "## Paths"
   ],
   "metadata": {}
  },
  {
   "cell_type": "code",
   "execution_count": 293,
   "source": [
    "# The route of this file is added to the sys path to be able to import/export functions\r\n",
    "sep = os.sep\r\n",
    "def route (steps):\r\n",
    "    \"\"\"\r\n",
    "    This function appends the route of the file to the sys path\r\n",
    "    to be able to import files from/to other foders within the EDA project folder.\r\n",
    "    \"\"\"\r\n",
    "    route = os.getcwd()\r\n",
    "    for i in range(steps):\r\n",
    "        route = os.path.dirname(route)\r\n",
    "    sys.path.append(route)\r\n",
    "    return route"
   ],
   "outputs": [],
   "metadata": {}
  },
  {
   "cell_type": "code",
   "execution_count": 294,
   "source": [
    "# path to raw data\r\n",
    "path = route(1) + sep + \"data\" + sep + \"raw_data\" + sep\r\n",
    "# path to data in the right key\r\n",
    "path_1 = route(1) + sep + \"data\" + sep + \"converted_data\" + sep\r\n",
    "# path to compiled notes list\r\n",
    "path_2 = route(1) + sep + \"data\" + sep + \"notes\" + sep\r\n",
    "# path to generated models\r\n",
    "path_3 = route(1) + sep + \"models\" + sep\r\n",
    "# path to generated midi files\r\n",
    "path_4 = route(1) + sep + \"reports\" + sep\r\n",
    "# path to output information\r\n",
    "path_5 = route(1) + sep + \"data\" + sep + \"output\" + sep"
   ],
   "outputs": [],
   "metadata": {}
  },
  {
   "cell_type": "markdown",
   "source": [
    "## Midi file exploration"
   ],
   "metadata": {}
  },
  {
   "cell_type": "markdown",
   "source": [
    "### The Python library 'Music21' has been used to read and manipulate MIDI files. This library has the necessary classes to allow us to read music. \r\n",
    "\r\n",
    "### To start working with MIDI files these need to be converted to Score objects, which are a subclass for handling multi-part music. Once this is done it is possible to use the library build-in classes to view the file information. Knowing all the file components it is possible to select the useful ones for our prediction. The main components to generate new melodies, and those considered in this project, are notes, rests and chords. To make prediccions more accurate more components could be considered, such us the time signature or offsets.\r\n",
    "\r\n",
    "### Note objects contain information about the pitch, octave, and offset of the note. Pitch refers to the frequency of the sound, or how high or low it is and is represented with the letters [A, B, C, D, E, F, G] or [Do, Re, Mi, Fa, Sol, La, Si] in Spanish. Octave refers to which set of pitches you use on a piano. Offset refers to where the note is located in the piece.\r\n",
    "\r\n",
    "### Rests are the silences in the piece.\r\n",
    "\r\n",
    "### Chord objects are a set of notes that are played at the same time.\r\n",
    "\r\n",
    "### The below figure represents pitches and octaves in a keyboard for reference."
   ],
   "metadata": {}
  },
  {
   "cell_type": "markdown",
   "source": [
    "<table align=\"center\"> \r\n",
    "<tr><td width=\"10000\"><img src=\"../resources/pitch_and_octaves.png\" style=\"width:14000;height:1500\"></td> \r\n",
    "<td style=\"image-align:center\"> \r\n",
    "</td></tr> \r\n",
    "</table>"
   ],
   "metadata": {}
  },
  {
   "cell_type": "code",
   "execution_count": 295,
   "source": [
    "# All information from the midi file (i.e. notes, pitch, chord, time signature, etc) is contained within the component list\r\n",
    "\r\n",
    "def info_midi (path, filename):\r\n",
    "    \"\"\"\r\n",
    "    It returns all midi file information given its path and filename\r\n",
    "\r\n",
    "    \"\"\"\r\n",
    "    # Convert to Score object\r\n",
    "    file = converter.parse(path + filename)\r\n",
    "    components = []\r\n",
    "    # read file information\r\n",
    "    for element in file.recurse():  \r\n",
    "        components.append(element)\r\n",
    "    return components\r\n",
    "\r\n",
    "components = info_midi(path, \"alb_esp1.mid\")\r\n",
    "components[:15]"
   ],
   "outputs": [
    {
     "output_type": "execute_result",
     "data": {
      "text/plain": [
       "[<music21.stream.Part 0x131d0d1e2c8>,\n",
       " <music21.instrument.Piano 'Piano right: Piano right'>,\n",
       " <music21.instrument.Piano 'Piano'>,\n",
       " <music21.tempo.MetronomeMark moderate Quarter=93.43>,\n",
       " <music21.key.Key of F major>,\n",
       " <music21.meter.TimeSignature 3/4>,\n",
       " <music21.stream.Voice 0x131bcf9c9c8>,\n",
       " <music21.note.Rest rest>,\n",
       " <music21.note.Note A>,\n",
       " <music21.note.Note E>,\n",
       " <music21.note.Note D>,\n",
       " <music21.note.Note D>,\n",
       " <music21.note.Note C>,\n",
       " <music21.note.Note D>,\n",
       " <music21.note.Note E>]"
      ]
     },
     "metadata": {},
     "execution_count": 295
    }
   ],
   "metadata": {}
  },
  {
   "cell_type": "markdown",
   "source": [
    "### The component list also shows the piece key, which is the group of pitches, or scale, that forms the basis of a music composition. Each piece has its own key signature but using the same, in this case C major / A minor assists the model to not go off key. The below function read each piece key and transpose it to C major / A minor."
   ],
   "metadata": {}
  },
  {
   "cell_type": "code",
   "execution_count": 128,
   "source": [
    "md.transpose_key(path, path_1)"
   ],
   "outputs": [],
   "metadata": {}
  },
  {
   "cell_type": "code",
   "execution_count": null,
   "source": [
    "#  probar que pasa si le meto cualquier midi, de varios instrumentos, etc\r\n",
    "# data augmentation = min_notes_freq"
   ],
   "outputs": [],
   "metadata": {}
  },
  {
   "cell_type": "markdown",
   "source": [
    "### The project considers the below amount of data. However, it is possible to make predictions with only one piece and much more if wanted.\r\n"
   ],
   "metadata": {}
  },
  {
   "cell_type": "code",
   "execution_count": 296,
   "source": [
    "print(f\"Total number of songs: {len(os.listdir(path_1))}\")\r\n",
    "print(f\"Total number of notes: {len(all_notes)}\")\r\n",
    "print(f\"Total number of unique notes: {len(set(all_notes))}\")"
   ],
   "outputs": [
    {
     "output_type": "stream",
     "name": "stdout",
     "text": [
      "Total number of songs: 342\n",
      "Total number of notes: 696938\n",
      "Total number of unique notes: 589\n"
     ]
    }
   ],
   "metadata": {}
  },
  {
   "cell_type": "markdown",
   "source": [
    "## EDA"
   ],
   "metadata": {}
  },
  {
   "cell_type": "markdown",
   "source": [
    "### It is now understood all information provided by the MIDI file. This relevant information needs now to be encoded and saved into an array to feed the neural network. This project will only considered the notes (which relates to pitches), rests and chords.\r\n",
    "\r\n",
    "### The pitch of every note object is appended to a list using string notation since the most significant parts of the note can be recreated using the string notation of the pitch. Chords are enconded using the id of every note together into a single string, with each note being separated by a dot."
   ],
   "metadata": {}
  },
  {
   "cell_type": "code",
   "execution_count": 297,
   "source": [
    "# Each midi file contains notes, rests and chords. These three properties will be the input and output of the LSTM network so \r\n",
    "# they need to be taken out from all midi files. \r\n",
    "\r\n",
    "def get_notes_per_song(path, filename, save_path, save_name):\r\n",
    "    \"\"\"\r\n",
    "    This function extracts all the notes, rests and chords from one midi file\r\n",
    "    and saves it in a list in the converted_data folder.\r\n",
    "\r\n",
    "    Param: Path of the midi file, its filename (str), path where the list will be saved and its name.\r\n",
    "    \"\"\"\r\n",
    "    components = info_midi(path, filename)\r\n",
    "    note_list = []\r\n",
    "    \r\n",
    "    for element in components:\r\n",
    "        # note pitches are extracted\r\n",
    "        if isinstance(element, note.Note):\r\n",
    "            note_list.append(str(element.pitch))\r\n",
    "        # chords are extracted\r\n",
    "        elif isinstance(element, chord.Chord):\r\n",
    "            note_list.append(\".\".join(str(n) for n in element.normalOrder))    \r\n",
    "        # rests are extracted\r\n",
    "        elif isinstance(element, note.Rest):\r\n",
    "            note_list.append(\"REST\")    \r\n",
    "\r\n",
    "    # data cleaning\r\n",
    "    note_list = [elem.replace(\"-\", \"\") for elem in note_list]\r\n",
    "    # save list with all componenets extracted\r\n",
    "    with open(save_path + save_name, \"wb\") as filepath:\r\n",
    "        pickle.dump(note_list, filepath)\r\n",
    "    \r\n",
    "    return note_list"
   ],
   "outputs": [],
   "metadata": {}
  },
  {
   "cell_type": "code",
   "execution_count": 299,
   "source": [
    "one_song = get_notes_per_song(path_1, \"C_alb_esp1.mid\", path_2, \"one_notes\")\r\n",
    "\r\n",
    "print(f\" This list contains a total number of {len(one_song)} notes and chords, being {len(set(one_song))} of them unique.\")"
   ],
   "outputs": [
    {
     "output_type": "stream",
     "name": "stdout",
     "text": [
      " This list contains a total number of 687 notes and chords, being 46 of them unique.\n"
     ]
    }
   ],
   "metadata": {}
  },
  {
   "cell_type": "markdown",
   "source": [
    "### It is possible to encode a list of songs at the same time rather than going one song at a time:"
   ],
   "metadata": {}
  },
  {
   "cell_type": "code",
   "execution_count": 121,
   "source": [
    "def get_all_notes(path, save_name, save_path):\r\n",
    "    \"\"\"\r\n",
    "    This function extracts all the notes, rests and chords from all midi files \r\n",
    "    and saves it in a list in the converted_data folder.\r\n",
    "\r\n",
    "    Param: Path of the midi file, path where the list will be saved and its name.\r\n",
    "    \"\"\"\r\n",
    "    all_notes = []\r\n",
    "    list_path = os.listdir(path)\r\n",
    "    for filename in list_path:\r\n",
    "        output = get_notes_per_song(path, filename, save_path, save_name)\r\n",
    "        all_notes += output\r\n",
    "        \r\n",
    "    # data cleaning\r\n",
    "    all_notes = [elem.replace(\"-\", \"\") for elem in all_notes]\r\n",
    "\r\n",
    "    return all_notes"
   ],
   "outputs": [],
   "metadata": {}
  },
  {
   "cell_type": "code",
   "execution_count": 300,
   "source": [
    "all_notes = get_all_notes(path = path_1, save_path = path_2, save_name = \"all_notes\")\r\n",
    "\r\n",
    "print(f\" This list contains a total number of {len(all_notes)} notes and chords, being {len(set(all_notes))} unique.\")"
   ],
   "outputs": [
    {
     "output_type": "stream",
     "name": "stdout",
     "text": [
      " This list contains a total number of 696938 notes and chords, being 589 unique.\n"
     ]
    }
   ],
   "metadata": {}
  },
  {
   "cell_type": "markdown",
   "source": [
    "### To avoid having to read and save all pieces each time the below function returns the previously coded and saved list containing the extracted notes from the pieces."
   ],
   "metadata": {}
  },
  {
   "cell_type": "code",
   "execution_count": 124,
   "source": [
    "# Load notes and chords previously separated\r\n",
    "def load_notes (path, filename):\r\n",
    "    \"\"\"\r\n",
    "    Load the note list containing pitches, rests and chords.\r\n",
    "    \r\n",
    "    Param: Path of the saved note list, and its name as string\r\n",
    "    \"\"\"\r\n",
    "    with open(path + filename, \"rb\") as f:\r\n",
    "        loaded_notes = pickle.load(f)\r\n",
    "        return loaded_notes"
   ],
   "outputs": [],
   "metadata": {}
  },
  {
   "cell_type": "markdown",
   "source": [
    "### The model will be first trained with a small proportion of the pieces to expedite time. Once the model is tunned properly all pieces will be passed to improve its predictions."
   ],
   "metadata": {}
  },
  {
   "cell_type": "code",
   "execution_count": null,
   "source": [
    "#load_chopin = load_notes(path_2, \"notes_chopin\")\r\n",
    "one_song = load_notes(path_2, \"one_notes\")"
   ],
   "outputs": [],
   "metadata": {}
  },
  {
   "cell_type": "markdown",
   "source": [
    "### To be able to share the input data a dataframe with all pieces and their notes has been created."
   ],
   "metadata": {}
  },
  {
   "cell_type": "code",
   "execution_count": 301,
   "source": [
    "# generate dataframe\r\n",
    "\r\n",
    "def create_dataframe(path, save_path, save_name):\r\n",
    "    \"\"\"\r\n",
    "    Create a dataframe and a list with all pieces title and the notes, rests and chrods included in the piece. \r\n",
    "\r\n",
    "    Param: Path of the midi file, filename (str), path where the list will be saved and its name.\r\n",
    "    \"\"\"\r\n",
    "    list_path = os.listdir(path)\r\n",
    "    piece_list = []\r\n",
    "    notes = []\r\n",
    "    # extracting all songs from the list\r\n",
    "    for elem in list_path:\r\n",
    "        output = get_notes_per_song(path, elem, save_path, save_name)\r\n",
    "        piece_list.append(elem[2:-4])\r\n",
    "        notes.append(output)\r\n",
    "\r\n",
    "    # create dataframe\r\n",
    "    df = pd.DataFrame.from_dict({\"Piece\":piece_list, \"Notes\":notes}, orient=\"index\")\r\n",
    "    df = df.transpose()\r\n",
    "\r\n",
    "    return df"
   ],
   "outputs": [],
   "metadata": {}
  },
  {
   "cell_type": "code",
   "execution_count": 302,
   "source": [
    "df_music = create_dataframe(path= path_1, save_path = path_2, save_name = \"all_notes\")"
   ],
   "outputs": [],
   "metadata": {}
  },
  {
   "cell_type": "code",
   "execution_count": 303,
   "source": [
    "df_music"
   ],
   "outputs": [
    {
     "output_type": "execute_result",
     "data": {
      "text/plain": [
       "                           Piece  \\\n",
       "0                       alb_esp1   \n",
       "1                       alb_esp2   \n",
       "2                       alb_esp3   \n",
       "3                       alb_esp4   \n",
       "4                       alb_esp5   \n",
       "..                           ...   \n",
       "337                  waldstein_1   \n",
       "338                  waldstein_2   \n",
       "339                  waldstein_3   \n",
       "340  waltz-op18-grande-brillante   \n",
       "341               Waltz-op64-no2   \n",
       "\n",
       "                                                 Notes  \n",
       "0    [REST, E5, B5, A5, A5, G5, A5, B5, C6, D6, B5,...  \n",
       "1    [REST, G3, 0.4.7, REST, G3, 0.4.7, 7.0, E4, F4...  \n",
       "2    [E5, REST, G#5, REST, B5, REST, A5, A5, F5, RE...  \n",
       "3    [A5, REST, E5, REST, F5, REST, A5, REST, G#5, ...  \n",
       "4    [REST, 0.4, 11.2, 2.5, 11.2, 0.4, 9.0, 5.9, 4....  \n",
       "..                                                 ...  \n",
       "337  [REST, 0.4, REST, 0.4, REST, 0.4, REST, 0.4, R...  \n",
       "338  [REST, C3, REST, A3, REST, A3, A3, REST, 4.8, ...  \n",
       "339  [REST, A5, G5, A5, G5, A5, G5, A5, G5, A5, G5,...  \n",
       "340  [D5, D5, REST, D5, REST, D5, D5, REST, D5, RES...  \n",
       "341  [E4, 11.3, REST, E2, G4, REST, 2.4, 8.11.2.4, ...  \n",
       "\n",
       "[342 rows x 2 columns]"
      ],
      "text/html": [
       "<div>\n",
       "<style scoped>\n",
       "    .dataframe tbody tr th:only-of-type {\n",
       "        vertical-align: middle;\n",
       "    }\n",
       "\n",
       "    .dataframe tbody tr th {\n",
       "        vertical-align: top;\n",
       "    }\n",
       "\n",
       "    .dataframe thead th {\n",
       "        text-align: right;\n",
       "    }\n",
       "</style>\n",
       "<table border=\"1\" class=\"dataframe\">\n",
       "  <thead>\n",
       "    <tr style=\"text-align: right;\">\n",
       "      <th></th>\n",
       "      <th>Piece</th>\n",
       "      <th>Notes</th>\n",
       "    </tr>\n",
       "  </thead>\n",
       "  <tbody>\n",
       "    <tr>\n",
       "      <th>0</th>\n",
       "      <td>alb_esp1</td>\n",
       "      <td>[REST, E5, B5, A5, A5, G5, A5, B5, C6, D6, B5,...</td>\n",
       "    </tr>\n",
       "    <tr>\n",
       "      <th>1</th>\n",
       "      <td>alb_esp2</td>\n",
       "      <td>[REST, G3, 0.4.7, REST, G3, 0.4.7, 7.0, E4, F4...</td>\n",
       "    </tr>\n",
       "    <tr>\n",
       "      <th>2</th>\n",
       "      <td>alb_esp3</td>\n",
       "      <td>[E5, REST, G#5, REST, B5, REST, A5, A5, F5, RE...</td>\n",
       "    </tr>\n",
       "    <tr>\n",
       "      <th>3</th>\n",
       "      <td>alb_esp4</td>\n",
       "      <td>[A5, REST, E5, REST, F5, REST, A5, REST, G#5, ...</td>\n",
       "    </tr>\n",
       "    <tr>\n",
       "      <th>4</th>\n",
       "      <td>alb_esp5</td>\n",
       "      <td>[REST, 0.4, 11.2, 2.5, 11.2, 0.4, 9.0, 5.9, 4....</td>\n",
       "    </tr>\n",
       "    <tr>\n",
       "      <th>...</th>\n",
       "      <td>...</td>\n",
       "      <td>...</td>\n",
       "    </tr>\n",
       "    <tr>\n",
       "      <th>337</th>\n",
       "      <td>waldstein_1</td>\n",
       "      <td>[REST, 0.4, REST, 0.4, REST, 0.4, REST, 0.4, R...</td>\n",
       "    </tr>\n",
       "    <tr>\n",
       "      <th>338</th>\n",
       "      <td>waldstein_2</td>\n",
       "      <td>[REST, C3, REST, A3, REST, A3, A3, REST, 4.8, ...</td>\n",
       "    </tr>\n",
       "    <tr>\n",
       "      <th>339</th>\n",
       "      <td>waldstein_3</td>\n",
       "      <td>[REST, A5, G5, A5, G5, A5, G5, A5, G5, A5, G5,...</td>\n",
       "    </tr>\n",
       "    <tr>\n",
       "      <th>340</th>\n",
       "      <td>waltz-op18-grande-brillante</td>\n",
       "      <td>[D5, D5, REST, D5, REST, D5, D5, REST, D5, RES...</td>\n",
       "    </tr>\n",
       "    <tr>\n",
       "      <th>341</th>\n",
       "      <td>Waltz-op64-no2</td>\n",
       "      <td>[E4, 11.3, REST, E2, G4, REST, 2.4, 8.11.2.4, ...</td>\n",
       "    </tr>\n",
       "  </tbody>\n",
       "</table>\n",
       "<p>342 rows × 2 columns</p>\n",
       "</div>"
      ]
     },
     "metadata": {},
     "execution_count": 303
    }
   ],
   "metadata": {}
  },
  {
   "cell_type": "code",
   "execution_count": 304,
   "source": [
    "# Save cleaned data in the appropriate folder, in this case it is the folder 'data'\r\n",
    "def save_dataframe(path, dataframe, dataframe_name):\r\n",
    "    \"\"\"\r\n",
    "    Create a cvs file from a dataframe.\r\n",
    "    Param: Path to save the dataframe, dataframe to save and its name as string\r\n",
    "    \"\"\"\r\n",
    "    dataframe.reset_index(inplace = True)\r\n",
    "    if \"index\" in dataframe.columns:\r\n",
    "        dataframe.drop(columns = \"index\", inplace = True)\r\n",
    "    dataframe.to_csv(path + dataframe_name + \".csv\", index=False)\r\n",
    "    return \"Your file has been saved\""
   ],
   "outputs": [],
   "metadata": {}
  },
  {
   "cell_type": "markdown",
   "source": [
    "### To avoid having to create and load the dataframe each time, it can be saved and read it back for its simple use."
   ],
   "metadata": {}
  },
  {
   "cell_type": "code",
   "execution_count": 305,
   "source": [
    "save_dataframe(path_5, df_music, \"df_music\")"
   ],
   "outputs": [
    {
     "output_type": "execute_result",
     "data": {
      "text/plain": [
       "'Your file has been saved'"
      ]
     },
     "metadata": {},
     "execution_count": 305
    }
   ],
   "metadata": {}
  },
  {
   "cell_type": "code",
   "execution_count": 62,
   "source": [
    "md.read_dataframe(path_5, \"df_music\")"
   ],
   "outputs": [],
   "metadata": {}
  },
  {
   "cell_type": "markdown",
   "source": [
    "## Visualization"
   ],
   "metadata": {}
  },
  {
   "cell_type": "code",
   "execution_count": null,
   "source": [
    "# Represent all different notes in one song-------------------\r\n",
    "# ---------------------in streamlit let user choose the song, o hacer las gráficas en streamlit para que sean interactivas\r\n"
   ],
   "outputs": [],
   "metadata": {}
  },
  {
   "cell_type": "code",
   "execution_count": 306,
   "source": [
    "def plot_one_song(data_notes, data_piece, number):\r\n",
    "    \"\"\"\r\n",
    "    Plot all different notes and rests contained in one song\r\n",
    "    \"\"\"\r\n",
    "    clean_column = data_notes[number]\r\n",
    "    contador = 0\r\n",
    "    while contador <= len(clean_column):\r\n",
    "        contador +=1\r\n",
    "        for elem in clean_column:\r\n",
    "            if elem.count(\".\") >= 1 or elem == \"REST\" or elem.isdigit() == True:\r\n",
    "                clean_column.remove(elem)\r\n",
    "\r\n",
    "    # notes are organised by occurence\r\n",
    "    d = Counter(clean_column)\r\n",
    "    data = {\"Note\":list(d.keys()), \"count\": list(d.values())}\r\n",
    "    df = pd.DataFrame(data, index=range(len(data[\"Note\"])))\r\n",
    "    df = df.sort_values(\"count\", ascending=False)\r\n",
    "\r\n",
    "    fig, ax = plt.subplots(figsize=(8, 4))\r\n",
    "    \r\n",
    "    piece_title= data_piece[number]\r\n",
    "\r\n",
    "    chart = sns.barplot(df[\"Note\"], df[\"count\"] ,color = \"green\")\r\n",
    "\r\n",
    "    for p in chart.patches:\r\n",
    "        chart.annotate(\"%.0f\" % p.get_height(), (p.get_x() + p.get_width() / 2., p.get_height()),\r\n",
    "            ha='center', va='center', fontsize=8, color='black', xytext=(0, 5),\r\n",
    "            textcoords='offset points')\r\n",
    "\r\n",
    "    ax.set_title(f\"Note distribution per piece - Piece title: {piece_title}\")\r\n",
    "    ax.set_xlabel(\"Notes\")\r\n",
    "    ax.set_ylabel(\"Ocurrence\")\r\n",
    "    plt.xticks(rotation = 90)\r\n",
    "\r\n",
    "    plt.show()\r\n",
    "    "
   ],
   "outputs": [],
   "metadata": {}
  },
  {
   "cell_type": "code",
   "execution_count": 307,
   "source": [
    "plot_one_song(df_music[\"Notes\"], df_music[\"Piece\"], 0)"
   ],
   "outputs": [
    {
     "output_type": "display_data",
     "data": {
      "text/plain": [
       "<Figure size 576x288 with 1 Axes>"
      ],
      "image/png": "[encoded data removed]"
     },
     "metadata": {
      "image/png": {
       "width": 494,
       "height": 290
      },
      "needs_background": "light"
     }
    }
   ],
   "metadata": {}
  },
  {
   "cell_type": "markdown",
   "source": [
    "### It is also possible to compare the note distribution considering all analysed pieces."
   ],
   "metadata": {}
  },
  {
   "cell_type": "code",
   "execution_count": 290,
   "source": [
    "# Represent all different notes in all songs\r\n",
    "\r\n",
    "def plot_all_songs(notes):\r\n",
    "    \"\"\"\r\n",
    "    Plot all different notes contained in all pieces\r\n",
    "    \"\"\"\r\n",
    "    fig, ax = plt.subplots(figsize=(8, 4))\r\n",
    "\r\n",
    "    # copy of note_list to not delete info for the model\r\n",
    "    clean_list = notes[::]\r\n",
    "    contador = 0\r\n",
    "    while contador <= len(clean_list):\r\n",
    "        contador +=1\r\n",
    "        for elem in clean_list:\r\n",
    "            # remove chords and rests\r\n",
    "            if elem.count(\".\") >= 1 or elem == \"REST\" or elem.isdigit() == True:\r\n",
    "                clean_list.remove(elem)\r\n",
    "\r\n",
    "    # notes are organised by occurence\r\n",
    "    d = Counter(clean_list)\r\n",
    "    data = {\"Note\":list(d.keys()), \"count\": list(d.values())}\r\n",
    "    df = pd.DataFrame(data, index=range(len(data[\"Note\"])))\r\n",
    "    df = df.sort_values(\"count\", ascending=False)\r\n",
    "\r\n",
    "    fig, ax = plt.subplots(figsize=(8, 4))\r\n",
    "    \r\n",
    "    chart = sns.barplot(df[\"Note\"], df[\"count\"] ,color = \"green\")\r\n",
    "\r\n",
    "\r\n",
    "    #chart = sns.barplot(clean_list, color = \"green\")\r\n",
    "\r\n",
    "    for p in chart.patches:\r\n",
    "        chart.annotate(\"%.0f\" % p.get_height(), (p.get_x() + p.get_width() / 2., p.get_height()),\r\n",
    "            ha='center', va='center', fontsize=8, color='black', xytext=(0, 5),\r\n",
    "            textcoords='offset points')\r\n",
    "\r\n",
    "    ax.set_title(\"Note distribution in all pieces\")\r\n",
    "    ax.set_xlabel(\"Notes\")\r\n",
    "    ax.set_ylabel(\"Ocurrence\")\r\n",
    "    plt.xticks(rotation = 90)\r\n",
    "\r\n",
    "    plt.show()"
   ],
   "outputs": [],
   "metadata": {}
  },
  {
   "cell_type": "code",
   "execution_count": 308,
   "source": [
    "# plot_all_songs(all_notes) ------------------------------nunca acaba de cargar. Dejarlo toda la noche"
   ],
   "outputs": [],
   "metadata": {}
  },
  {
   "cell_type": "code",
   "execution_count": null,
   "source": [],
   "outputs": [],
   "metadata": {}
  },
  {
   "cell_type": "markdown",
   "source": [
    "## Pre-processing"
   ],
   "metadata": {}
  },
  {
   "cell_type": "markdown",
   "source": [
    "### Now that all notes, rests and chords are in a list, these will be transformed from categorical data to integer-based numerical data. It is necessary to create input sequences for the network and their respective outputs. The output for each input sequence will be the first note or chord that comes after the sequence of notes in the input sequence in our list of notes. \r\n",
    "\r\n",
    "### The length of each sequence will be 100 notes for now. This means that to predict the next note in the sequence the network has the previous 100 notes to help make the prediction.\r\n",
    "\r\n",
    "### If a long list is passed to the neural network the computer does not have the required memory to carry out all operations. To solve this issue without having to reduce the sequence length or another parameter it is possible to reduce the number of notes/chords given to the newtork based on its occurence in the piece. If a note does not appear more than the specified occurence value then it is removed from the list.\r\n",
    "\r\n",
    "### If this solution does not resolve the memory issue, and other parameters don't want to be changed, less songs will need to be taken all at once."
   ],
   "metadata": {}
  },
  {
   "cell_type": "code",
   "execution_count": 309,
   "source": [
    "def prepare_sequences(notes, min_note_occurence, sequence_length, step):\r\n",
    "    \"\"\" \r\n",
    "    This function creates the input and output sequences used by the neural network.\r\n",
    "    It returns the x and y of the model.\r\n",
    "\r\n",
    "    Param: \r\n",
    "        Note: List containing all notes, rests and chords\r\n",
    "        Min_note_ocurrence: Note occurence (int)\r\n",
    "        Sequence_length: Lenght of notes given to the model to help predict the next\r\n",
    "        Step: Step (int) between one input sequence and the next one\r\n",
    "    \"\"\"\r\n",
    "    # get all pitchnames\r\n",
    "    pitchnames = sorted(set(notes))\r\n",
    "\r\n",
    "    # Calculate note occurence\r\n",
    "    note_occ = {}\r\n",
    "    for elem in notes:\r\n",
    "        note_occ[elem] = note_occ.get(elem, 0) + 1\r\n",
    "\r\n",
    "    ignored_notes = set()\r\n",
    "    for k, v in note_occ.items():\r\n",
    "        if note_occ[k] < min_note_occurence:\r\n",
    "            ignored_notes.add(k)\r\n",
    "    \r\n",
    "    # create a dictionary to convert pitches (strings) to integers\r\n",
    "    note_to_int = dict((note, number) for number, note in enumerate(pitchnames))  # rests are included  \r\n",
    "\r\n",
    "    network_input = []\r\n",
    "    network_output = []\r\n",
    "\r\n",
    "    # create input sequences and the corresponding outputs\r\n",
    "    for i in range(0, len(notes) - sequence_length, step): \r\n",
    "        # remove ignored notes from the note list   \r\n",
    "        if len(set(notes[i: i+ sequence_length + 1]).intersection(ignored_notes)) == 0:\r\n",
    "            network_input.append(notes[i:i + sequence_length])\r\n",
    "            network_output.append(notes[i + sequence_length])\r\n",
    "    # array of zeros\r\n",
    "    x = np.zeros((len(network_input), sequence_length, len(pitchnames)))\r\n",
    "    y = np.zeros((len(network_input), len(pitchnames)))\r\n",
    "    # exchange note values for their integer-code\r\n",
    "    for i, sequence in enumerate(network_input):\r\n",
    "        for j, note in enumerate(sequence):\r\n",
    "            x[i, j, note_to_int[note]] = 1\r\n",
    "        y[i, note_to_int[network_output[i]]] = 1\r\n",
    "\r\n",
    "    return x, y"
   ],
   "outputs": [],
   "metadata": {}
  },
  {
   "cell_type": "markdown",
   "source": [
    "### To test the model the first trial considered only one piece. As they have been arranged alphabetically this piece was Prélude (1890) by Albéniz.\t\r\n"
   ],
   "metadata": {}
  },
  {
   "cell_type": "code",
   "execution_count": 310,
   "source": [
    "x, y = prepare_sequences(notes=one_song, min_note_occurence=1, sequence_length=100, step=3)  # dif sequence_length para comparar modelos"
   ],
   "outputs": [],
   "metadata": {}
  },
  {
   "cell_type": "markdown",
   "source": [
    "## Neural Network"
   ],
   "metadata": {}
  },
  {
   "cell_type": "markdown",
   "source": [
    "### The baseline model is a recurrent network consisting of a LSTM layer which takes a sequence as an input and can return a matrix.\r\n",
    "\r\n",
    "### This model consists of one LSTM layers, one Dense layers and one activation layer. The network structure can be modified to improve the quality of the predictions. The Dense layer is a fully connected neural network layer where each input node is connected to each output node, and the Activation layer determines what activation function will be used to calculate the output of a node.\r\n"
   ],
   "metadata": {}
  },
  {
   "cell_type": "code",
   "execution_count": 311,
   "source": [
    "# baseline model\r\n",
    "def lstm_model (num_units, num_dense, input_shape):\r\n",
    "    \"\"\"\r\n",
    "    Builds and compiles a simple RNN model\r\n",
    "    Param:\r\n",
    "              num_units: Number of units of a the simple RNN layer\r\n",
    "              num_dense: Number of neurons in the dense layer followed by the RNN layer\r\n",
    "              input_shape: input_shape\r\n",
    "    \"\"\"\r\n",
    "    model = Sequential()\r\n",
    "    model.add(LSTM(num_units, input_shape=input_shape))\r\n",
    "    model.add(Dense(num_dense))\r\n",
    "    model.add(Activation(\"softmax\"))\r\n",
    "    model.compile(loss=\"categorical_crossentropy\", optimizer=\"rmsprop\", metrics=[\"RootMeanSquaredError\", \"Accuracy\"])\r\n",
    "\r\n",
    "    return model"
   ],
   "outputs": [],
   "metadata": {}
  },
  {
   "cell_type": "code",
   "execution_count": 312,
   "source": [
    "model = lstm_model(num_units=x.shape[0], num_dense=x.shape[2], input_shape=(x.shape[1],x.shape[2]))"
   ],
   "outputs": [],
   "metadata": {}
  },
  {
   "cell_type": "code",
   "execution_count": 313,
   "source": [
    "model.summary()"
   ],
   "outputs": [
    {
     "output_type": "stream",
     "name": "stdout",
     "text": [
      "Model: \"sequential\"\n",
      "_________________________________________________________________\n",
      "Layer (type)                 Output Shape              Param #   \n",
      "=================================================================\n",
      "lstm (LSTM)                  (None, 196)               190512    \n",
      "_________________________________________________________________\n",
      "dense (Dense)                (None, 46)                9062      \n",
      "_________________________________________________________________\n",
      "activation (Activation)      (None, 46)                0         \n",
      "=================================================================\n",
      "Total params: 199,574\n",
      "Trainable params: 199,574\n",
      "Non-trainable params: 0\n",
      "_________________________________________________________________\n"
     ]
    }
   ],
   "metadata": {}
  },
  {
   "cell_type": "code",
   "execution_count": 86,
   "source": [
    "# early stopping if the model is too big"
   ],
   "outputs": [
    {
     "output_type": "stream",
     "name": "stdout",
     "text": [
      "109\n"
     ]
    }
   ],
   "metadata": {}
  },
  {
   "cell_type": "markdown",
   "source": [
    "### Train the model considering only 1 epoch (iteration). This variable can be adjusted to improve the quality of predictions. Future trials will increase this value to compare model results. It is also possible to include batches to avoid giving all data at the same time."
   ],
   "metadata": {}
  },
  {
   "cell_type": "code",
   "execution_count": 314,
   "source": [
    "model.fit(x, y, epochs=1)"
   ],
   "outputs": [
    {
     "output_type": "stream",
     "name": "stdout",
     "text": [
      "7/7 [==============================] - 13s 67ms/step - loss: 3.7502 - root_mean_squared_error: 0.1461 - accuracy: 0.0000e+00\n"
     ]
    },
    {
     "output_type": "execute_result",
     "data": {
      "text/plain": [
       "<keras.callbacks.History at 0x131de555188>"
      ]
     },
     "metadata": {},
     "execution_count": 314
    }
   ],
   "metadata": {}
  },
  {
   "cell_type": "markdown",
   "source": [
    "### The network loss, accuracy and root mean squared error are inserted into a dataframe to be able to compare different models."
   ],
   "metadata": {}
  },
  {
   "cell_type": "code",
   "execution_count": 316,
   "source": [
    "result_errors = model.evaluate(x, y, verbose=1)"
   ],
   "outputs": [
    {
     "output_type": "stream",
     "name": "stdout",
     "text": [
      "7/7 [==============================] - 1s 19ms/step - loss: 3.2412 - root_mean_squared_error: 0.1437 - accuracy: 0.0000e+00\n"
     ]
    }
   ],
   "metadata": {}
  },
  {
   "cell_type": "code",
   "execution_count": 317,
   "source": [
    "# Dataframe with model information\r\n",
    "params = [\"loss=categorical_crossentropy, optimizer=rmsprop, 20 epoch\"]\r\n",
    "\r\n",
    "df_error = pd.DataFrame({\"model\": \"LSTM\", \"parameters\": params, \"loss\": result_errors[0], \"rmse\": result_errors[1], \"accuracy\": result_errors[2]}, index=[1])\r\n",
    "df_error\r\n",
    "\r\n",
    "# ver si puedo automatizar los parametros"
   ],
   "outputs": [
    {
     "output_type": "execute_result",
     "data": {
      "text/plain": [
       "  model                                         parameters      loss  \\\n",
       "1  LSTM  loss=categorical_crossentropy, optimizer=rmspr...  3.241231   \n",
       "\n",
       "       rmse  accuracy  \n",
       "1  0.143739       0.0  "
      ],
      "text/html": [
       "<div>\n",
       "<style scoped>\n",
       "    .dataframe tbody tr th:only-of-type {\n",
       "        vertical-align: middle;\n",
       "    }\n",
       "\n",
       "    .dataframe tbody tr th {\n",
       "        vertical-align: top;\n",
       "    }\n",
       "\n",
       "    .dataframe thead th {\n",
       "        text-align: right;\n",
       "    }\n",
       "</style>\n",
       "<table border=\"1\" class=\"dataframe\">\n",
       "  <thead>\n",
       "    <tr style=\"text-align: right;\">\n",
       "      <th></th>\n",
       "      <th>model</th>\n",
       "      <th>parameters</th>\n",
       "      <th>loss</th>\n",
       "      <th>rmse</th>\n",
       "      <th>accuracy</th>\n",
       "    </tr>\n",
       "  </thead>\n",
       "  <tbody>\n",
       "    <tr>\n",
       "      <th>1</th>\n",
       "      <td>LSTM</td>\n",
       "      <td>loss=categorical_crossentropy, optimizer=rmspr...</td>\n",
       "      <td>3.241231</td>\n",
       "      <td>0.143739</td>\n",
       "      <td>0.0</td>\n",
       "    </tr>\n",
       "  </tbody>\n",
       "</table>\n",
       "</div>"
      ]
     },
     "metadata": {},
     "execution_count": 317
    }
   ],
   "metadata": {}
  },
  {
   "cell_type": "markdown",
   "source": [
    "### Save model for its possible future use"
   ],
   "metadata": {}
  },
  {
   "cell_type": "code",
   "execution_count": 319,
   "source": [
    "# save model\r\n",
    "model.save(path_3 + \"baseline_lstm_1epoch_1song_1.h5\")"
   ],
   "outputs": [],
   "metadata": {}
  },
  {
   "cell_type": "code",
   "execution_count": 320,
   "source": [
    "# load model\r\n",
    "model = tf.keras.models.load_model(path_3 + \"baseline_lstm_1epoch_1song_1.h5\")"
   ],
   "outputs": [],
   "metadata": {}
  },
  {
   "cell_type": "code",
   "execution_count": 321,
   "source": [
    "# clean garbage\r\n",
    "import gc\r\n",
    "gc.collect()"
   ],
   "outputs": [
    {
     "output_type": "execute_result",
     "data": {
      "text/plain": [
       "10138"
      ]
     },
     "metadata": {},
     "execution_count": 321
    }
   ],
   "metadata": {}
  },
  {
   "cell_type": "markdown",
   "source": [
    "## Predictions"
   ],
   "metadata": {}
  },
  {
   "cell_type": "markdown",
   "source": [
    "### Once the model has been trained, some post-processing operations are required to be able to make predictions. \r\n",
    "\r\n",
    "### To make a prediction a full list of note sequences is chosen using a random index in the original list. This allows to re-run the generation code without changing anything and get different results every time. Contrary to the first process done, a mapping function here will decode the output of the network. This function will transform from numerical data (integers) to categorical data (notes).\r\n",
    "\r\n",
    "### For each predicted note that we want to generate we have to submit a sequence to the network. \r\n",
    "\r\n",
    "### A sequence to the network is fed for each generated note. The first submitted sequence is the sequence of notes at the starting index. A sliding-window method is applied and every subsequent sequence is the output of the previous iteration at the end of the sequence without the first note. To determine the most likely prediction from the output the index of the highest value is considered and then decoded to represent its note, rest or chord.\r\n",
    "\r\n",
    "### The amount of generated notes can be chosen, for reference 500 notes is roughly two minutes of music."
   ],
   "metadata": {}
  },
  {
   "cell_type": "markdown",
   "source": [
    "### To try to improve predictions differente temperatures can be used. Temperature is a hyperparameter of neural networks used to control the randomness of predictions by scaling the logits before applying softmax. \r\n",
    "\r\n",
    "### Using a higher temperature value produces a softer probability distribution over the classes, and makes the neural network less conservative in its samples, resulting in more diversity and also more mistakes."
   ],
   "metadata": {}
  },
  {
   "cell_type": "code",
   "execution_count": 322,
   "source": [
    "# Temperature to control prediction randomness\r\n",
    "\r\n",
    "def sample(preds, temperature=1.0):\r\n",
    "    \"\"\"\r\n",
    "    Helper function to sample an index from a probability array\r\n",
    "\r\n",
    "    \"\"\"\r\n",
    "    # probability distribution \r\n",
    "    preds = np.asarray(preds).astype(\"float64\")\r\n",
    "    # convert to the correct numpy array type\r\n",
    "    preds = np.log(preds) / temperature\r\n",
    "    # scaling\r\n",
    "    exp_preds = np.exp(preds)\r\n",
    "    preds = exp_preds / np.sum(exp_preds)\r\n",
    "    probas = np.random.multinomial(1, preds, 1)\r\n",
    "    return np.argmax(probas)"
   ],
   "outputs": [],
   "metadata": {}
  },
  {
   "cell_type": "code",
   "execution_count": 323,
   "source": [
    "def generate_notes(notes, model, temperature=1.0):\r\n",
    "    \"\"\" \r\n",
    "    Generate notes from the neural network based on a sequence of notes\r\n",
    "\r\n",
    "    Param: \r\n",
    "        Notes: List containing notes\r\n",
    "        Model: Neural network\r\n",
    "        Temperature: int to control prediction randomness \r\n",
    "    \"\"\"\r\n",
    "    # pick a random sequence from the input as a starting point for the prediction\r\n",
    "    start = np.random.randint(0, len(notes)-100-1)\r\n",
    "\r\n",
    "    pitchnames = sorted(set(notes))\r\n",
    "    note_to_int = dict((note, number) for number, note in enumerate(pitchnames)) \r\n",
    "    int_to_note = dict((number, note) for number, note in enumerate(pitchnames))\r\n",
    "    \r\n",
    "    pattern = notes[start: (start+100)] \r\n",
    "    prediction_output = []\r\n",
    "    patterns = []\r\n",
    "\r\n",
    "    # 500 notes equals to roughly two minutes of music\r\n",
    "    for note_index in range(100):\r\n",
    "        prediction_input = np.zeros((1, 100, len(pitchnames)))\r\n",
    "        for j, note in enumerate(pattern):\r\n",
    "            prediction_input[0, j, note_to_int[note]] = 1.0\r\n",
    "        preds = model.predict(prediction_input, verbose=0)[0] \r\n",
    "            \r\n",
    "        next_index = sample(preds, temperature=temperature)\r\n",
    "        next_note = int_to_note[next_index]\r\n",
    "\r\n",
    "        pattern = pattern[1:]\r\n",
    "        pattern.append(next_note)\r\n",
    "\r\n",
    "        prediction_output.append(next_note)\r\n",
    "\r\n",
    "        patterns.append(next_index)\r\n",
    "\r\n",
    "    return prediction_output, patterns"
   ],
   "outputs": [],
   "metadata": {}
  },
  {
   "cell_type": "code",
   "execution_count": 324,
   "source": [
    "prediction_output, patterns = generate_notes(notes=one_song, model=model, temperature=1.0)\r\n",
    "print(prediction_output)"
   ],
   "outputs": [
    {
     "output_type": "stream",
     "name": "stdout",
     "text": [
      "['D4', 'E5', 'C2', 'B2', '5.11', 'A3', 'D3', 'B2', 'E3', 'D6', 'D3', 'G#3', 'G#3', 'B2', 'REST', 'A5', 'E3', 'A4', '11.0', 'B4', 'G3', 'G2', 'B2', 'B3', 'A3', 'D4', 'F5', 'C6', 'G#3', 'REST', 'E3', '0.2', 'A4', 'B2', 'B2', 'E3', 'F4', 'F3', 'G#6', 'E5', 'E6', 'E3', 'E4', 'C2', '8.11', 'E3', '7.9', 'A4', 'B3', '11.0', '11.0', 'C2', 'G#5', 'E3', 'E3', 'E3', 'E3', 'E3', 'E3', 'REST', 'D3', 'B2', 'C2', 'C4', 'D6', 'E5', 'E3', 'E3', 'D4', 'F3', 'B2', 'B2', 'C2', 'A3', 'F3', 'E5', 'G#5', 'E3', 'REST', 'B2', 'E4', 'E3', 'E3', 'E5', 'G3', '11.0', 'E3', 'REST', 'B2', 'E4', 'E3', 'F3', 'G#3', 'F#3', 'E3', '11.4', 'A5', 'F#3', 'G#4', 'E5']\n"
     ]
    }
   ],
   "metadata": {}
  },
  {
   "cell_type": "markdown",
   "source": [
    "## Post-Processing"
   ],
   "metadata": {}
  },
  {
   "cell_type": "markdown",
   "source": [
    "### Now that an array full of predicted notes have been generated it is time to decode it. Its elements can be notes, rests or chords.\r\n",
    "\r\n",
    "### If the patter is a note or a rest it will be decoded using the note and rest object respectively from the librery Music21. It it is a chord, it will be split into an array of notes. Each note will be converted using the note object and then compiled into the chord object considering those notes.\r\n",
    "\r\n",
    "### At the end of this decodification a MIDI file is created with these objects to be able to listen to the model predictions."
   ],
   "metadata": {}
  },
  {
   "cell_type": "code",
   "execution_count": 325,
   "source": [
    "def create_midi(prediction_output, path):\r\n",
    "    \"\"\" \r\n",
    "    This functions converts model predictions to midi files\r\n",
    "    \r\n",
    "    Param: Decodified prediction output (list) from the model and path to save the midi file.    \r\n",
    "    \"\"\"\r\n",
    "    \r\n",
    "    offset = 0\r\n",
    "    output_notes = []\r\n",
    "\r\n",
    "    # create note and chord objects based on the values generated by the model\r\n",
    "    for pattern in prediction_output:\r\n",
    "        # pattern is a chord\r\n",
    "        if ('.' in pattern) or pattern.isdigit():\r\n",
    "            notes_in_chord = pattern.split('.')\r\n",
    "            notes = []\r\n",
    "            for current_note in notes_in_chord:\r\n",
    "                new_note = note.Note(int(current_note))\r\n",
    "                new_note.storedInstrument = instrument.Piano()\r\n",
    "                notes.append(new_note)\r\n",
    "            new_chord = chord.Chord(notes)\r\n",
    "            new_chord.offset = offset\r\n",
    "            output_notes.append(new_chord)\r\n",
    "        # pattern is a rest\r\n",
    "        elif (\"REST\" in pattern):\r\n",
    "            new_rest = note.Rest(pattern)\r\n",
    "            output_notes.append(new_rest)\r\n",
    "        # pattern is a note\r\n",
    "        else:\r\n",
    "            new_note = note.Note(pattern)   \r\n",
    "            new_note.offset = offset\r\n",
    "            new_note.storedInstrument = instrument.Piano()\r\n",
    "            output_notes.append(new_note)\r\n",
    "\r\n",
    "        # increase offset each iteration so that notes do not stack\r\n",
    "        offset += 0.5\r\n",
    "\r\n",
    "    midi_stream = stream.Stream(output_notes)\r\n",
    "    # save generated midi file\r\n",
    "    midi_stream.write(\"midi\", fp= path + \"baseline_lstm_1epoch_1song_1.mid\")   # first output 01/07/2021\r\n",
    "\r\n",
    "    return midi_stream"
   ],
   "outputs": [],
   "metadata": {}
  },
  {
   "cell_type": "code",
   "execution_count": 326,
   "source": [
    "create_midi = create_midi(prediction_output, path_4)"
   ],
   "outputs": [],
   "metadata": {}
  },
  {
   "cell_type": "markdown",
   "source": [
    "### The below function allows to play the generated MIDI files without leaving the notebook"
   ],
   "metadata": {}
  },
  {
   "cell_type": "code",
   "execution_count": 327,
   "source": [
    "def play_music(music_file):\r\n",
    "    \"\"\"\r\n",
    "    Play music given a midi file path\r\n",
    "    \"\"\"\r\n",
    "    #import music21\r\n",
    "    try:\r\n",
    "        # allow to stop the piece \r\n",
    "        pygame.mixer.init()\r\n",
    "        clock = pygame.time.Clock() \r\n",
    "        pygame.mixer.music.load(music_file)\r\n",
    "        pygame.mixer.music.play()\r\n",
    "        while pygame.mixer.music.get_busy():\r\n",
    "            # check if playback has finished\r\n",
    "            clock.tick(10)\r\n",
    "\r\n",
    "        freq = 44100    # audio CD quality\r\n",
    "        bitsize = -16   # unsigned 16 bit\r\n",
    "        channels = 2    # 1 is mono, 2 is stereo\r\n",
    "        buffer = 1024    # number of samples\r\n",
    "        pygame.mixer.init(freq, bitsize, channels, buffer)\r\n",
    "\r\n",
    "    except KeyboardInterrupt:\r\n",
    "        while True:\r\n",
    "            action = input('Enter Q to Quit, Enter to Skip.').lower()\r\n",
    "            if action == 'q':\r\n",
    "                pygame.mixer.music.fadeout(1000)\r\n",
    "                pygame.mixer.music.stop()\r\n",
    "            else:\r\n",
    "                break"
   ],
   "outputs": [],
   "metadata": {}
  },
  {
   "cell_type": "markdown",
   "source": [
    "### The first created MIDI file was just one note repeated over 2 minute time."
   ],
   "metadata": {}
  },
  {
   "cell_type": "code",
   "execution_count": 330,
   "source": [
    "play_music(path_4 + \"1st_baseline_lstm_10epoch_1song_1.mid\")"
   ],
   "outputs": [],
   "metadata": {}
  },
  {
   "cell_type": "markdown",
   "source": [
    "### After adjusting the pre and post processes, as well as the neural network more interesting melodies were generated."
   ],
   "metadata": {}
  },
  {
   "cell_type": "code",
   "execution_count": 328,
   "source": [
    "# Plays music when the cell is executed \r\n",
    "\r\n",
    "# Baseline LSTM model, 1 epoch considering only one piece\r\n",
    "play_music(path_4 + \"baseline_lstm_1epoch_1song_1.mid\")"
   ],
   "outputs": [],
   "metadata": {}
  },
  {
   "cell_type": "markdown",
   "source": [
    "## Conclusion"
   ],
   "metadata": {}
  },
  {
   "cell_type": "markdown",
   "source": [
    "### This one week project has proved that deep learning is capable of generating new melodies. Though their results are far from perfect it is still impressive what a shallow neural network and a simple GAN network are capable to do. "
   ],
   "metadata": {}
  },
  {
   "cell_type": "code",
   "execution_count": null,
   "source": [],
   "outputs": [],
   "metadata": {}
  },
  {
   "cell_type": "markdown",
   "source": [
    "## Future steps"
   ],
   "metadata": {}
  },
  {
   "cell_type": "markdown",
   "source": [
    "### - Time signature the same to 4/4 would have added more consistancy to the input and probably improve the model predictions\r\n",
    "### - Keep the length of all pieces the same\r\n",
    "### - Try more parameters and layers to both networks. However, deeper network also required a more powerful computer.\r\n",
    "### - Play around with number of epoch and batches to optimised results\r\n",
    "### - Train the model with different instruments"
   ],
   "metadata": {}
  },
  {
   "cell_type": "code",
   "execution_count": null,
   "source": [],
   "outputs": [],
   "metadata": {}
  }
 ],
 "metadata": {
  "interpreter": {
   "hash": "2d8a740277f67c33143a8e5c8e55f738530a350d8def4a85d8635b690074994c"
  },
  "kernelspec": {
   "display_name": "Python 3.7.4 64-bit",
   "name": "python3"
  },
  "language_info": {
   "codemirror_mode": {
    "name": "ipython",
    "version": 3
   },
   "file_extension": ".py",
   "mimetype": "text/x-python",
   "name": "python",
   "nbconvert_exporter": "python",
   "pygments_lexer": "ipython3",
   "version": "3.7.4"
  },
  "orig_nbformat": 4
 },
 "nbformat": 4,
 "nbformat_minor": 2
}