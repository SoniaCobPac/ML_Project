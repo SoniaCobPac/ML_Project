{
 "cells": [
  {
   "cell_type": "markdown",
   "source": [
    "# **Soni - do:  Generating Music with Artificial Intelligence**\r\n"
   ],
   "metadata": {}
  },
  {
   "cell_type": "markdown",
   "source": [
    "#### Author: Sonia Cobo\n",
    "#### Date: July 2021"
   ],
   "metadata": {}
  },
  {
   "cell_type": "markdown",
   "source": [
    "<table align=\"center\"> \r\n",
    "<tr><td width=\"800\"><img src=\"../resources/title.jpeg\" style=\"width:10;height:10\"></td>  \r\n",
    "</table>"
   ],
   "metadata": {}
  },
  {
   "cell_type": "markdown",
   "source": [
    "### Music is associated with emotions, experiences and creativity, all o them considered human's qualities. \r\n",
    "\r\n",
    "### Though this project doesn't have a hypothesis per se it was done to prove that technology has advanced to the point where a machine, that cannot experience these feelings, can generate music.\r\n",
    "\r\n",
    "### This project will explain and show how music has been generated using a differente types of neural networks in Python. For this, different types of neural networks are two Long short-term memory (LSTM) models (a Bidirectional and a Unidirectional network) and a Generative adversarial network (GAN) considering different layers and parameters."
   ],
   "metadata": {}
  },
  {
   "cell_type": "markdown",
   "source": [
    "# Data"
   ],
   "metadata": {}
  },
  {
   "cell_type": "markdown",
   "source": [
    "### Music files have been imported to Python in MIDI format. MIDI (Musical Instrument Digital Interface) is a technical standard that describes a communications protocol, digital interface, and electrical connectors that connect a wide variety of electronic musical instruments and computers. They don't contain actual audio data and are small in size. They explain what notes are played, when they're played, and how long or loud each note should be.\r\n",
    "\r\n",
    "### To optimise results only MIDI files consisting of a single instrument were chosen. In this case, the chosen instrument is piano and the type of songs is classical. \r\n",
    "\r\n",
    "### These songs have been obtained from the following datasets: http://www.piano-midi.de/ and https://www.mfiles.co.uk/classical-midi.htm\r\n",
    "### As guidance for the project the following example was considered: 'How to Generate Music using a LSTM Neural Network in Keras' by Sigurður Skúli.\r\n"
   ],
   "metadata": {}
  },
  {
   "cell_type": "markdown",
   "source": [
    "## Import all libraries"
   ],
   "metadata": {}
  },
  {
   "cell_type": "code",
   "execution_count": 91,
   "source": [
    "# data manipulation\r\n",
    "import numpy as np\r\n",
    "import pandas as pd \r\n",
    "from collections import Counter\r\n",
    "\r\n",
    "\r\n",
    "# manipulate midi files\r\n",
    "import glob\r\n",
    "from music21 import *\r\n",
    "import pygame\r\n",
    "\r\n",
    "# visualization\r\n",
    "import seaborn as sns\r\n",
    "import matplotlib.pyplot as plt\r\n",
    "\r\n",
    "# route files\r\n",
    "import os\r\n",
    "import sys\r\n",
    "\r\n",
    "# ml model\r\n",
    "import pickle\r\n",
    "\r\n",
    "import tensorflow as tf\r\n",
    "from tensorflow import keras\r\n",
    "\r\n",
    "from keras.models import Sequential\r\n",
    "from keras.layers import Dense\r\n",
    "from keras.layers import Dropout\r\n",
    "from keras.layers import LSTM\r\n",
    "from keras.layers import Activation\r\n",
    "from keras.layers import BatchNormalization\r\n",
    "from keras.layers import Bidirectional\r\n",
    "from keras.layers import Dropout\r\n",
    "from keras.layers import Flatten\r\n",
    "from keras.layers import Activation\r\n",
    "\r\n",
    "# my libraries\r\n",
    "import utils.mining_data_tb as md\r\n",
    "from utils.folders_tb import read_json\r\n",
    "import utils.visualization_tb as vis\r\n",
    "import utils.models as m\r\n",
    "import utils.apis_tb as a\r\n",
    "\r\n",
    "import warnings\r\n",
    "warnings.filterwarnings(\"ignore\")\r\n"
   ],
   "outputs": [],
   "metadata": {}
  },
  {
   "cell_type": "markdown",
   "source": [
    "## Paths"
   ],
   "metadata": {}
  },
  {
   "cell_type": "code",
   "execution_count": 92,
   "source": [
    "sep = os.sep\r\n",
    "# path to raw data\r\n",
    "path = md.route(1) + sep + \"data\" + sep + \"raw_data\" + sep\r\n",
    "# path to data in the right key\r\n",
    "path_1 = md.route(1) + sep + \"data\" + sep + \"converted_data\" + sep\r\n",
    "# path to compiled notes list\r\n",
    "path_2 = md.route(1) + sep + \"data\" + sep + \"notes\" + sep\r\n",
    "# path to generated models\r\n",
    "path_3 = md.route(1) + sep + \"models\" + sep\r\n",
    "# path to generated midi files\r\n",
    "path_4 = md.route(1) + sep + \"reports\" + sep\r\n",
    "# path to output information\r\n",
    "path_5 = md.route(1) + sep + \"data\" + sep + \"output\" + sep\r\n",
    "# path to other songs\r\n",
    "path_6 = md.route(1) + sep + \"data\" + sep + \"more_inst_data\" + sep\r\n"
   ],
   "outputs": [],
   "metadata": {}
  },
  {
   "cell_type": "markdown",
   "source": [
    "## Midi file exploration"
   ],
   "metadata": {}
  },
  {
   "cell_type": "markdown",
   "source": [
    "### The Python library 'Music21' has been used to read and manipulate MIDI files. This library has the necessary classes to allow us to read music. \r\n",
    "\r\n",
    "### To start working with MIDI files these need to be converted to Score objects, which are a subclass for handling multi-part music. Once this is done it is possible to use the library build-in classes to view the file information. Knowing all the file components it is possible to select the useful ones for our prediction. The main components to generate new melodies, and those considered in this project, are notes, rests and chords. To make prediccions more accurate more components could be considered, such us the time signature or offsets.\r\n",
    "\r\n",
    "### Note objects contain information about the pitch, octave, and offset of the note. Pitch refers to the frequency of the sound, or how high or low it is and is represented with the letters [A, B, C, D, E, F, G] or [Do, Re, Mi, Fa, Sol, La, Si] in Spanish. Octave refers to which set of pitches you use on a piano. Offset refers to where the note is located in the piece.\r\n",
    "\r\n",
    "### Rests are the silences in the piece.\r\n",
    "\r\n",
    "### Chord objects are a set of notes that are played at the same time.\r\n",
    "\r\n",
    "### The below figure represents pitches and octaves in a keyboard for reference."
   ],
   "metadata": {}
  },
  {
   "cell_type": "markdown",
   "source": [
    "<table align=\"center\"> \r\n",
    "<tr><td width=\"10000\"><img src=\"../resources/pitch_and_octaves.png\" style=\"width:14000;height:1500\"></td>  \r\n",
    "</table>"
   ],
   "metadata": {}
  },
  {
   "cell_type": "code",
   "execution_count": 5,
   "source": [
    "# All information from the midi file (i.e. notes, pitch, chord, time signature, etc) is contained within the component list\r\n",
    "\r\n",
    "components = md.info_midi(path, \"alb_esp1.mid\")\r\n",
    "components[:15]"
   ],
   "outputs": [
    {
     "output_type": "execute_result",
     "data": {
      "text/plain": [
       "[<music21.stream.Part 0x1d3b73d9148>,\n",
       " <music21.instrument.Piano 'Piano right: Piano right'>,\n",
       " <music21.instrument.Piano 'Piano'>,\n",
       " <music21.tempo.MetronomeMark moderate Quarter=93.43>,\n",
       " <music21.key.Key of F major>,\n",
       " <music21.meter.TimeSignature 3/4>,\n",
       " <music21.stream.Voice 0x1d3b7429148>,\n",
       " <music21.note.Rest rest>,\n",
       " <music21.note.Note A>,\n",
       " <music21.note.Note E>,\n",
       " <music21.note.Note D>,\n",
       " <music21.note.Note D>,\n",
       " <music21.note.Note C>,\n",
       " <music21.note.Note D>,\n",
       " <music21.note.Note E>]"
      ]
     },
     "metadata": {},
     "execution_count": 5
    }
   ],
   "metadata": {}
  },
  {
   "cell_type": "markdown",
   "source": [
    "### The component list also shows the piece key, which is the group of pitches, or scale, that forms the basis of a music composition. Each piece has its own key signature but using the same, in this case C major / A minor assists the model to not go off key. The below function read each piece key and transpose it to C major / A minor."
   ],
   "metadata": {}
  },
  {
   "cell_type": "markdown",
   "source": [
    "### ```All files have already been transposed so the below cell doesn't need to be executed again. It is a long process.```\r\n"
   ],
   "metadata": {}
  },
  {
   "cell_type": "code",
   "execution_count": 128,
   "source": [
    "# md.transpose_key(path, path_1)"
   ],
   "outputs": [],
   "metadata": {}
  },
  {
   "cell_type": "code",
   "execution_count": null,
   "source": [
    "#  probar que pasa si le meto cualquier midi, de varios instrumentos, etc\r\n",
    "# data augmentation = min_notes_freq"
   ],
   "outputs": [],
   "metadata": {}
  },
  {
   "cell_type": "markdown",
   "source": [
    "## EDA"
   ],
   "metadata": {}
  },
  {
   "cell_type": "markdown",
   "source": [
    "### It is now understood all information provided by the MIDI file. This relevant information needs now to be encoded and saved into an array to feed the neural network. This project will only considered the notes (which relates to pitches), rests and chords.\r\n",
    "\r\n",
    "### The pitch of every note object is appended to a list using string notation since the most significant parts of the note can be recreated using the string notation of the pitch. Chords are enconded using the id of every note together into a single string, with each note being separated by a dot."
   ],
   "metadata": {}
  },
  {
   "cell_type": "code",
   "execution_count": 6,
   "source": [
    "# Each midi file contains notes, rests and chords. These three properties will be the input and output of the LSTM network so \r\n",
    "# they need to be taken out from all midi files.\r\n",
    "\r\n",
    "one_song = md.get_notes_per_song(path_1, \"C_alb_esp1.mid\", path_2, \"one_notes\")\r\n",
    "\r\n",
    "print(f\" This list contains a total number of {len(one_song)} notes and chords, being {len(set(one_song))} of them unique.\")"
   ],
   "outputs": [
    {
     "output_type": "stream",
     "name": "stdout",
     "text": [
      " This list contains a total number of 687 notes and chords, being 50 of them unique.\n"
     ]
    }
   ],
   "metadata": {}
  },
  {
   "cell_type": "markdown",
   "source": [
    "### It is possible to encode a list of songs at the same time rather than going one song at a time:"
   ],
   "metadata": {}
  },
  {
   "cell_type": "code",
   "execution_count": 7,
   "source": [
    "all_notes = md.get_all_notes(path = path_1, save_path = path_2, save_name = \"all_notes\")\r\n",
    "\r\n",
    "print(f\" This list contains a total number of {len(all_notes)} notes and chords, being {len(set(all_notes))} unique.\")"
   ],
   "outputs": [
    {
     "output_type": "stream",
     "name": "stdout",
     "text": [
      " This list contains a total number of 696938 notes and chords, being 604 unique.\n"
     ]
    }
   ],
   "metadata": {}
  },
  {
   "cell_type": "code",
   "execution_count": null,
   "source": [
    "# mirar memoria primero, a lo mejor voy a tener que quitar canciones\r\n",
    "\r\n",
    "#pitchnames = sorted(set(all_notes)"
   ],
   "outputs": [],
   "metadata": {}
  },
  {
   "cell_type": "markdown",
   "source": [
    "### To avoid having to read and save all pieces each time the below function returns the previously coded and saved list containing the extracted notes from the pieces."
   ],
   "metadata": {}
  },
  {
   "cell_type": "markdown",
   "source": [
    "### The model will be first trained with a small proportion of the pieces to expedite time. Once the model is tunned properly all pieces will be passed to improve its predictions."
   ],
   "metadata": {}
  },
  {
   "cell_type": "code",
   "execution_count": 8,
   "source": [
    "# Load notes and chords previously separated\r\n",
    "\r\n",
    "#load_chopin = md.load_notes(path_2, \"notes_chopin\")\r\n",
    "one_song = md.load_notes(path_2, \"one_notes\")"
   ],
   "outputs": [],
   "metadata": {}
  },
  {
   "cell_type": "markdown",
   "source": [
    "### To be able to share the input data a dataframe with all pieces and their notes has been created."
   ],
   "metadata": {}
  },
  {
   "cell_type": "code",
   "execution_count": 9,
   "source": [
    "# generate dataframe\r\n",
    "\r\n",
    "df_music = md.create_dataframe(path= path_1, save_path = path_2, save_name = \"all_notes\")"
   ],
   "outputs": [],
   "metadata": {}
  },
  {
   "cell_type": "code",
   "execution_count": 10,
   "source": [
    "df_music"
   ],
   "outputs": [
    {
     "output_type": "execute_result",
     "data": {
      "text/plain": [
       "                             Piece  \\\n",
       "0                       C_alb_esp1   \n",
       "1                       C_alb_esp2   \n",
       "2                       C_alb_esp3   \n",
       "3                       C_alb_esp4   \n",
       "4                       C_alb_esp5   \n",
       "..                             ...   \n",
       "337                  C_waldstein_1   \n",
       "338                  C_waldstein_2   \n",
       "339                  C_waldstein_3   \n",
       "340  C_waltz-op18-grande-brillante   \n",
       "341               C_Waltz-op64-no2   \n",
       "\n",
       "                                                 Notes  \n",
       "0    [REST, E5, B5, A5, A5, G5, A5, B5, C6, D6, B5,...  \n",
       "1    [REST, G3, 0.4.7, REST, G3, 0.4.7, 7.0, E4, F4...  \n",
       "2    [E5, REST, G#5, REST, B5, REST, A5, A5, F5, RE...  \n",
       "3    [A5, REST, E5, REST, F5, REST, A5, REST, G#5, ...  \n",
       "4    [REST, 0.4, 11.2, 2.5, 11.2, 0.4, 9.0, 5.9, 4....  \n",
       "..                                                 ...  \n",
       "337  [REST, 0.4, REST, 0.4, REST, 0.4, REST, 0.4, R...  \n",
       "338  [REST, C3, REST, A3, REST, A3, A3, REST, 4.8, ...  \n",
       "339  [REST, A5, G5, A5, G5, A5, G5, A5, G5, A5, G5,...  \n",
       "340  [D5, D5, REST, D5, REST, D5, D5, REST, D5, RES...  \n",
       "341  [E4, 11.3, REST, E2, G4, REST, 2.4, 8.11.2.4, ...  \n",
       "\n",
       "[342 rows x 2 columns]"
      ],
      "text/html": [
       "<div>\n",
       "<style scoped>\n",
       "    .dataframe tbody tr th:only-of-type {\n",
       "        vertical-align: middle;\n",
       "    }\n",
       "\n",
       "    .dataframe tbody tr th {\n",
       "        vertical-align: top;\n",
       "    }\n",
       "\n",
       "    .dataframe thead th {\n",
       "        text-align: right;\n",
       "    }\n",
       "</style>\n",
       "<table border=\"1\" class=\"dataframe\">\n",
       "  <thead>\n",
       "    <tr style=\"text-align: right;\">\n",
       "      <th></th>\n",
       "      <th>Piece</th>\n",
       "      <th>Notes</th>\n",
       "    </tr>\n",
       "  </thead>\n",
       "  <tbody>\n",
       "    <tr>\n",
       "      <th>0</th>\n",
       "      <td>C_alb_esp1</td>\n",
       "      <td>[REST, E5, B5, A5, A5, G5, A5, B5, C6, D6, B5,...</td>\n",
       "    </tr>\n",
       "    <tr>\n",
       "      <th>1</th>\n",
       "      <td>C_alb_esp2</td>\n",
       "      <td>[REST, G3, 0.4.7, REST, G3, 0.4.7, 7.0, E4, F4...</td>\n",
       "    </tr>\n",
       "    <tr>\n",
       "      <th>2</th>\n",
       "      <td>C_alb_esp3</td>\n",
       "      <td>[E5, REST, G#5, REST, B5, REST, A5, A5, F5, RE...</td>\n",
       "    </tr>\n",
       "    <tr>\n",
       "      <th>3</th>\n",
       "      <td>C_alb_esp4</td>\n",
       "      <td>[A5, REST, E5, REST, F5, REST, A5, REST, G#5, ...</td>\n",
       "    </tr>\n",
       "    <tr>\n",
       "      <th>4</th>\n",
       "      <td>C_alb_esp5</td>\n",
       "      <td>[REST, 0.4, 11.2, 2.5, 11.2, 0.4, 9.0, 5.9, 4....</td>\n",
       "    </tr>\n",
       "    <tr>\n",
       "      <th>...</th>\n",
       "      <td>...</td>\n",
       "      <td>...</td>\n",
       "    </tr>\n",
       "    <tr>\n",
       "      <th>337</th>\n",
       "      <td>C_waldstein_1</td>\n",
       "      <td>[REST, 0.4, REST, 0.4, REST, 0.4, REST, 0.4, R...</td>\n",
       "    </tr>\n",
       "    <tr>\n",
       "      <th>338</th>\n",
       "      <td>C_waldstein_2</td>\n",
       "      <td>[REST, C3, REST, A3, REST, A3, A3, REST, 4.8, ...</td>\n",
       "    </tr>\n",
       "    <tr>\n",
       "      <th>339</th>\n",
       "      <td>C_waldstein_3</td>\n",
       "      <td>[REST, A5, G5, A5, G5, A5, G5, A5, G5, A5, G5,...</td>\n",
       "    </tr>\n",
       "    <tr>\n",
       "      <th>340</th>\n",
       "      <td>C_waltz-op18-grande-brillante</td>\n",
       "      <td>[D5, D5, REST, D5, REST, D5, D5, REST, D5, RES...</td>\n",
       "    </tr>\n",
       "    <tr>\n",
       "      <th>341</th>\n",
       "      <td>C_Waltz-op64-no2</td>\n",
       "      <td>[E4, 11.3, REST, E2, G4, REST, 2.4, 8.11.2.4, ...</td>\n",
       "    </tr>\n",
       "  </tbody>\n",
       "</table>\n",
       "<p>342 rows × 2 columns</p>\n",
       "</div>"
      ]
     },
     "metadata": {},
     "execution_count": 10
    }
   ],
   "metadata": {}
  },
  {
   "cell_type": "markdown",
   "source": [
    "### To avoid having to create and load the dataframe each time, it can be saved and read it back for its simple use."
   ],
   "metadata": {}
  },
  {
   "cell_type": "code",
   "execution_count": 95,
   "source": [
    "md.save_dataframe(path_5, df_music, \"df_music\")"
   ],
   "outputs": [
    {
     "output_type": "execute_result",
     "data": {
      "text/plain": [
       "'Your file has been saved'"
      ]
     },
     "metadata": {},
     "execution_count": 95
    }
   ],
   "metadata": {}
  },
  {
   "cell_type": "code",
   "execution_count": 181,
   "source": [
    "md.read_dataframe(path_5, \"df_music\")"
   ],
   "outputs": [
    {
     "output_type": "execute_result",
     "data": {
      "text/plain": [
       "                             Piece  \\\n",
       "0                       C_alb_esp1   \n",
       "1                       C_alb_esp2   \n",
       "2                       C_alb_esp3   \n",
       "3                       C_alb_esp4   \n",
       "4                       C_alb_esp5   \n",
       "..                             ...   \n",
       "337                  C_waldstein_1   \n",
       "338                  C_waldstein_2   \n",
       "339                  C_waldstein_3   \n",
       "340  C_waltz-op18-grande-brillante   \n",
       "341               C_Waltz-op64-no2   \n",
       "\n",
       "                                                 Notes  \n",
       "0    ['REST', 'E5', 'B5', 'A5', 'A5', 'G5', 'A5', '...  \n",
       "1    ['REST', 'G3', '0.4.7', 'REST', 'G3', '0.4.7',...  \n",
       "2    ['E5', 'REST', 'G#5', 'REST', 'B5', 'REST', 'A...  \n",
       "3    ['A5', 'REST', 'E5', 'REST', 'F5', 'REST', 'A5...  \n",
       "4    ['REST', '0.4', '11.2', '2.5', '11.2', '0.4', ...  \n",
       "..                                                 ...  \n",
       "337  ['REST', '0.4', 'REST', '0.4', 'REST', '0.4', ...  \n",
       "338  ['REST', 'C3', 'REST', 'A3', 'REST', 'A3', 'A3...  \n",
       "339  ['REST', 'A5', 'G5', 'A5', 'G5', 'A5', 'G5', '...  \n",
       "340  ['D5', 'D5', 'REST', 'D5', 'REST', 'D5', 'D5',...  \n",
       "341  ['E4', '11.3', 'REST', 'E2', 'G4', 'REST', '2....  \n",
       "\n",
       "[342 rows x 2 columns]"
      ],
      "text/html": [
       "<div>\n",
       "<style scoped>\n",
       "    .dataframe tbody tr th:only-of-type {\n",
       "        vertical-align: middle;\n",
       "    }\n",
       "\n",
       "    .dataframe tbody tr th {\n",
       "        vertical-align: top;\n",
       "    }\n",
       "\n",
       "    .dataframe thead th {\n",
       "        text-align: right;\n",
       "    }\n",
       "</style>\n",
       "<table border=\"1\" class=\"dataframe\">\n",
       "  <thead>\n",
       "    <tr style=\"text-align: right;\">\n",
       "      <th></th>\n",
       "      <th>Piece</th>\n",
       "      <th>Notes</th>\n",
       "    </tr>\n",
       "  </thead>\n",
       "  <tbody>\n",
       "    <tr>\n",
       "      <th>0</th>\n",
       "      <td>C_alb_esp1</td>\n",
       "      <td>['REST', 'E5', 'B5', 'A5', 'A5', 'G5', 'A5', '...</td>\n",
       "    </tr>\n",
       "    <tr>\n",
       "      <th>1</th>\n",
       "      <td>C_alb_esp2</td>\n",
       "      <td>['REST', 'G3', '0.4.7', 'REST', 'G3', '0.4.7',...</td>\n",
       "    </tr>\n",
       "    <tr>\n",
       "      <th>2</th>\n",
       "      <td>C_alb_esp3</td>\n",
       "      <td>['E5', 'REST', 'G#5', 'REST', 'B5', 'REST', 'A...</td>\n",
       "    </tr>\n",
       "    <tr>\n",
       "      <th>3</th>\n",
       "      <td>C_alb_esp4</td>\n",
       "      <td>['A5', 'REST', 'E5', 'REST', 'F5', 'REST', 'A5...</td>\n",
       "    </tr>\n",
       "    <tr>\n",
       "      <th>4</th>\n",
       "      <td>C_alb_esp5</td>\n",
       "      <td>['REST', '0.4', '11.2', '2.5', '11.2', '0.4', ...</td>\n",
       "    </tr>\n",
       "    <tr>\n",
       "      <th>...</th>\n",
       "      <td>...</td>\n",
       "      <td>...</td>\n",
       "    </tr>\n",
       "    <tr>\n",
       "      <th>337</th>\n",
       "      <td>C_waldstein_1</td>\n",
       "      <td>['REST', '0.4', 'REST', '0.4', 'REST', '0.4', ...</td>\n",
       "    </tr>\n",
       "    <tr>\n",
       "      <th>338</th>\n",
       "      <td>C_waldstein_2</td>\n",
       "      <td>['REST', 'C3', 'REST', 'A3', 'REST', 'A3', 'A3...</td>\n",
       "    </tr>\n",
       "    <tr>\n",
       "      <th>339</th>\n",
       "      <td>C_waldstein_3</td>\n",
       "      <td>['REST', 'A5', 'G5', 'A5', 'G5', 'A5', 'G5', '...</td>\n",
       "    </tr>\n",
       "    <tr>\n",
       "      <th>340</th>\n",
       "      <td>C_waltz-op18-grande-brillante</td>\n",
       "      <td>['D5', 'D5', 'REST', 'D5', 'REST', 'D5', 'D5',...</td>\n",
       "    </tr>\n",
       "    <tr>\n",
       "      <th>341</th>\n",
       "      <td>C_Waltz-op64-no2</td>\n",
       "      <td>['E4', '11.3', 'REST', 'E2', 'G4', 'REST', '2....</td>\n",
       "    </tr>\n",
       "  </tbody>\n",
       "</table>\n",
       "<p>342 rows × 2 columns</p>\n",
       "</div>"
      ]
     },
     "metadata": {},
     "execution_count": 181
    }
   ],
   "metadata": {}
  },
  {
   "cell_type": "markdown",
   "source": [
    "## Visualization"
   ],
   "metadata": {}
  },
  {
   "cell_type": "code",
   "execution_count": null,
   "source": [
    "vis.plot_one_song(df_music[\"Notes\"], df_music[\"Piece\"], 0)"
   ],
   "outputs": [
    {
     "output_type": "display_data",
     "data": {
      "text/plain": [
       "<Figure size 576x288 with 1 Axes>"
      ],
      "image/png": "[encoded data removed]"
     },
     "metadata": {
      "image/png": {
       "width": 494,
       "height": 290
      },
      "needs_background": "light"
     }
    }
   ],
   "metadata": {}
  },
  {
   "cell_type": "markdown",
   "source": [
    "### It is also possible to compare the note distribution considering all analysed pieces."
   ],
   "metadata": {}
  },
  {
   "cell_type": "code",
   "execution_count": 308,
   "source": [
    "# vis.plot_all_songs(all_notes) ------------------------------nunca acaba de cargar. Dejarlo toda la noche"
   ],
   "outputs": [],
   "metadata": {}
  },
  {
   "cell_type": "markdown",
   "source": [
    "## Pre-processing"
   ],
   "metadata": {}
  },
  {
   "cell_type": "markdown",
   "source": [
    "### Now that all notes, rests and chords are in a list, these will be transformed from categorical data to integer-based numerical data. It is necessary to create input sequences for the network and their respective outputs. The output for each input sequence will be the first note or chord that comes after the sequence of notes in the input sequence in our list of notes. \r\n",
    "\r\n",
    "### The length of each sequence will be 100 notes for now. This means that to predict the next note in the sequence the network has the previous 100 notes to help make the prediction. Another variable is the step which represent the amount of previous notes the next sequence will consider to predict the next one. These two variables can be adjusted to improve the model accuracy.\r\n",
    "\r\n",
    "### If a long list is passed to the neural network the computer does not have the required memory to carry out all operations. To solve this issue without having to reduce the sequence length or another parameter it is possible to reduce the number of notes/chords given to the newtork based on its occurence in the piece. If a note does not appear more than the specified occurence value then it is removed from the list.\r\n",
    "\r\n",
    "### If this solution does not resolve the memory issue, and other parameters don't want to be changed, less songs will need to be taken all at once."
   ],
   "metadata": {}
  },
  {
   "cell_type": "markdown",
   "source": [
    "### To test the model the first trial considered only one piece. As they have been arranged alphabetically this piece was Prélude (1890) by Albéniz.\t\r\n"
   ],
   "metadata": {}
  },
  {
   "cell_type": "markdown",
   "source": [],
   "metadata": {}
  },
  {
   "cell_type": "code",
   "execution_count": 11,
   "source": [
    "# one piece\r\n",
    "x, y = md.prepare_sequences(notes=one_song, min_note_occurence=1, sequence_length=100, step=3)  "
   ],
   "outputs": [],
   "metadata": {}
  },
  {
   "cell_type": "code",
   "execution_count": null,
   "source": [
    "# same composer\r\n",
    "#x_same, y_same = md.prepare_sequences(notes=notes_chopin, min_note_occurence=1, sequence_length=100, step=3)  \r\n",
    "\r\n",
    "# all pieces\r\n",
    "#x_all, y_all = md.prepare_sequences(notes=all_songs, min_note_occurence=3, sequence_length=100, step=3)  - explicar occurence y error memoria\r\n"
   ],
   "outputs": [],
   "metadata": {}
  },
  {
   "cell_type": "markdown",
   "source": [
    "### GAN models have also been used to generate melodies. Due to the different internal network structure the pre-processing process is slightly different. \r\n",
    "\r\n",
    "### EXPLICARLO MEJOR\r\n",
    "\r\n",
    "### The only difference is that the network output from the generator has been kept to a sequence of elements rather than only one element so the discriminator will get fed a length of data to study----------------------\r\n"
   ],
   "metadata": {}
  },
  {
   "cell_type": "code",
   "execution_count": null,
   "source": [
    "# GAN baseline \r\n",
    "x_gan, y_gan = md.prepare_sequences_gan(notes=one_song, sequence_length=100, step=3) "
   ],
   "outputs": [],
   "metadata": {}
  },
  {
   "cell_type": "markdown",
   "source": [
    "## Neural Network"
   ],
   "metadata": {}
  },
  {
   "cell_type": "markdown",
   "source": [
    "### The baseline model is a recurrent network consisting of a LSTM layer which takes a sequence as an input and can return a matrix.\r\n",
    "\r\n",
    "### This model consists of one LSTM layers, one Dense layers and one activation layer. The network structure can be modified to improve the quality of the predictions. The Dense layer is a fully connected neural network layer where each input node is connected to each output node, and the Activation layer determines what activation function will be used to calculate the output of a node.\r\n"
   ],
   "metadata": {}
  },
  {
   "cell_type": "code",
   "execution_count": 12,
   "source": [
    "# Baseline LSTM model - 1 epoch\r\n",
    "model = m.lstm_model(num_units=x.shape[0], num_dense=x.shape[2], input_shape=(x.shape[1],x.shape[2]))\r\n",
    "\r\n",
    "# Baseline LSTM model - 100 epoch\r\n",
    "model_100 = m.lstm_model(num_units=x.shape[0], num_dense=x.shape[2], input_shape=(x.shape[1],x.shape[2]))"
   ],
   "outputs": [],
   "metadata": {}
  },
  {
   "cell_type": "code",
   "execution_count": 13,
   "source": [
    "# Baseline LSTM model - 1 epoch\r\n",
    "model.fit(x, y, epochs=1, verbose=0)\r\n",
    "print(model.summary())\r\n",
    "\r\n",
    "# Baseline LSTM model - 100 epoch\r\n",
    "model_100.fit(x, y, epochs=100, verbose=0)"
   ],
   "outputs": [
    {
     "output_type": "stream",
     "name": "stdout",
     "text": [
      "Model: \"sequential\"\n",
      "_________________________________________________________________\n",
      "Layer (type)                 Output Shape              Param #   \n",
      "=================================================================\n",
      "lstm (LSTM)                  (None, 196)               193648    \n",
      "_________________________________________________________________\n",
      "dense (Dense)                (None, 50)                9850      \n",
      "_________________________________________________________________\n",
      "activation (Activation)      (None, 50)                0         \n",
      "=================================================================\n",
      "Total params: 203,498\n",
      "Trainable params: 203,498\n",
      "Non-trainable params: 0\n",
      "_________________________________________________________________\n",
      "None\n"
     ]
    },
    {
     "output_type": "execute_result",
     "data": {
      "text/plain": [
       "<keras.callbacks.History at 0x1d3c2107d48>"
      ]
     },
     "metadata": {},
     "execution_count": 13
    }
   ],
   "metadata": {}
  },
  {
   "cell_type": "markdown",
   "source": [
    "### A Bidirectional LSTM model has been also created to compare its effectiveness against the basic LSTM model. The difference between these two models is that the Unidirectional LSTM only preserves information of the past because the only inputs it has seen are from the past. Bidirectional networks run inputs in two ways, preserving information from the past to future and from future to the past. "
   ],
   "metadata": {}
  },
  {
   "cell_type": "markdown",
   "source": [
    "### After testing a simple LSTM model a Bidirectional LSTM has also been created. Bidirectional models consider notes before and after a particular spot in a piece, so in theory they can generate more structured melodies."
   ],
   "metadata": {}
  },
  {
   "cell_type": "code",
   "execution_count": 14,
   "source": [
    "# Bidirectional LSTM model - 1 epoch\r\n",
    "model_bi = m.bi_lstm_model(num_units=x.shape[0], num_dense=x.shape[2], input_shape=(x.shape[1],x.shape[2]))\r\n",
    "\r\n",
    "# Bidirectional LSTM model - 100 epoch\r\n",
    "model_bi_100 = m.bi_lstm_model(num_units=x.shape[0], num_dense=x.shape[2], input_shape=(x.shape[1],x.shape[2]))"
   ],
   "outputs": [],
   "metadata": {}
  },
  {
   "cell_type": "code",
   "execution_count": 220,
   "source": [
    "# Bidirectional LSTM model - 1 epoch\r\n",
    "model_bi.fit(x,y, epochs=1, verbose=0)\r\n",
    "print(model_bi.summary())\r\n",
    "\r\n",
    "# Bidirectional LSTM model - 100 epoch\r\n",
    "model_bi_100.fit(x,y, epochs=100, verbose=0)\r\n"
   ],
   "outputs": [
    {
     "output_type": "stream",
     "name": "stdout",
     "text": [
      "Model: \"sequential_2\"\n",
      "_________________________________________________________________\n",
      "Layer (type)                 Output Shape              Param #   \n",
      "=================================================================\n",
      "bidirectional (Bidirectional (None, 100, 392)          387296    \n",
      "_________________________________________________________________\n",
      "dense_2 (Dense)              (None, 100, 50)           19650     \n",
      "_________________________________________________________________\n",
      "dropout (Dropout)            (None, 100, 50)           0         \n",
      "_________________________________________________________________\n",
      "bidirectional_1 (Bidirection (None, 392)               387296    \n",
      "_________________________________________________________________\n",
      "dense_3 (Dense)              (None, 50)                19650     \n",
      "_________________________________________________________________\n",
      "dropout_1 (Dropout)          (None, 50)                0         \n",
      "_________________________________________________________________\n",
      "activation_2 (Activation)    (None, 50)                0         \n",
      "=================================================================\n",
      "Total params: 813,892\n",
      "Trainable params: 813,892\n",
      "Non-trainable params: 0\n",
      "_________________________________________________________________\n",
      "None\n"
     ]
    },
    {
     "output_type": "execute_result",
     "data": {
      "text/plain": [
       "<keras.callbacks.History at 0x27bdf5d5748>"
      ]
     },
     "metadata": {},
     "execution_count": 220
    }
   ],
   "metadata": {}
  },
  {
   "cell_type": "markdown",
   "source": [
    "### Train the model considering only 1 epoch (iteration). This variable can be adjusted to improve the quality of predictions. Future trials will increase this value to compare model results. It is also possible to include batches to avoid giving all data at the same time."
   ],
   "metadata": {}
  },
  {
   "cell_type": "markdown",
   "source": [
    "### The network loss, accuracy and root mean squared error are inserted into a dataframe to be able to compare different models."
   ],
   "metadata": {}
  },
  {
   "cell_type": "code",
   "execution_count": 15,
   "source": [
    "# Baseline LSTM model\r\n",
    "result_errors = model.evaluate(x, y, verbose=0)\r\n",
    "result_errors_100 = model.evaluate(x, y, verbose=0)\r\n",
    "\r\n",
    "# Bidirectional LSTM model\r\n",
    "result_errors_bi = model_bi.evaluate(x, y, verbose=0)\r\n",
    "result_errors_bi_100 = model_bi.evaluate(x, y, verbose=0)\r\n",
    "\r\n",
    "print(f\"LSTM model evaluation:\\n- Loss: {result_errors[0]}\\n- Accuracy: {result_errors[1]}\\n- RMSE: {result_errors[2]}\")\r\n",
    "print(\"\")\r\n",
    "print(f\"Bidirectional LSTM model evaluation:\\n- Loss: {result_errors_bi[0]}\\n- Accuracy: {result_errors_bi[1]}\\n- RMSE: {result_errors_bi[2]}\")\r\n"
   ],
   "outputs": [
    {
     "output_type": "stream",
     "name": "stdout",
     "text": [
      "LSTM model evaluation:\n",
      "- Loss: 3.464369773864746\n",
      "- Accuracy: 0.09693877398967743\n",
      "- RMSE: 0.14620770514011383\n",
      "\n",
      "Bidirectional LSTM model evaluation:\n",
      "- Loss: 3.9122066497802734\n",
      "- Accuracy: 0.020408162847161293\n",
      "- RMSE: 0.14000055193901062\n"
     ]
    }
   ],
   "metadata": {}
  },
  {
   "cell_type": "markdown",
   "source": [
    "### EXPLICAR QUE ES GAN -------------------------------------------------------------"
   ],
   "metadata": {}
  },
  {
   "cell_type": "markdown",
   "source": [
    "<table align=\"center\"> \r\n",
    "<tr><td width=\"800\"><img src=\"../resources/gan.png\" style=\"width:10;height:10\"></td>  \r\n",
    "</table>"
   ],
   "metadata": {}
  },
  {
   "cell_type": "code",
   "execution_count": 27,
   "source": [
    "# ESTO VA AQUI?---------------------------------------------------------\r\n",
    "prediction_output, patterns = md.generate_notes_gan(one_song, gen_model, temperature=1)\r\n",
    "print(prediction_output)\r\n"
   ],
   "outputs": [
    {
     "output_type": "stream",
     "name": "stdout",
     "text": [
      "['C6', 'G5', 'D3', 'C5', 'D6', '9.11', 'C2', 'E4', 'B2', 'A2', '9.11', 'C5', '11.0', 'G#6', 'F5', '0.2', '5.11', '9.11', 'E3', 'B2', '3.9', '5.7', 'E2', 'G5', 'C4', 'E5', '5.7', 'B-5', 'G#3', '3.9', 'G3', 'B-5', '0.2', '11.4', '5.9.11', 'B3', 'C6', 'F3', '5.11', 'A5', 'G#6', '5.7', '5.11', 'B3', 'B4', 'A3', 'E6', '7.9', 'G#4', 'C3', 'B4', 'G5', 'E-5', 'G#5', 'F6', 'G#3', 'B-5', 'G#4', 'F4', 'C2', 'B4', 'E-3', '11.4', 'B3', 'F#3', '11.4', 'B-5', 'E-3', 'G#3', 'F#5', '3.9', 'B-3', 'A3', 'A3', '0.2', 'A2', 'G#4', 'B-5', 'E4', '5.9.11', 'C5', '11.0', '11.4', 'REST', '3.9', '9.11', 'F#3', '11.4', '3.9', 'B2', 'F6', '11.4', 'B-3', 'C3', '5.11', 'E6', '0.2', 'G#4', 'D3', 'E4']\n"
     ]
    }
   ],
   "metadata": {}
  },
  {
   "cell_type": "code",
   "execution_count": null,
   "source": [
    "### EXPLICAR EL PRE PROCESS EXTRA------------------------------------------------"
   ],
   "outputs": [],
   "metadata": {}
  },
  {
   "cell_type": "code",
   "execution_count": 28,
   "source": [
    "x_real, y_real = md.generate_real_samples(x, n_samples=100)"
   ],
   "outputs": [],
   "metadata": {}
  },
  {
   "cell_type": "code",
   "execution_count": 29,
   "source": [
    "x_latent = md.generate_latent_points(x, n_samples=100)"
   ],
   "outputs": [],
   "metadata": {}
  },
  {
   "cell_type": "code",
   "execution_count": 30,
   "source": [
    "x_fake, y_fake = md.generate_fake_data(x, gen_model, n_samples=100)"
   ],
   "outputs": [],
   "metadata": {}
  },
  {
   "cell_type": "code",
   "execution_count": 84,
   "source": [
    "def lstm_model_upgraded (num_units, num_dense, input_shape):\r\n",
    "    \"\"\"\r\n",
    "    Builds and compiles a simple RNN model\r\n",
    "    Param:\r\n",
    "              num_units: Number of units of a the simple RNN layer\r\n",
    "              num_dense: Number of neurons in the dense layer followed by the RNN layer\r\n",
    "              input_shape: input_shape\r\n",
    "    \"\"\"\r\n",
    "    model = Sequential()\r\n",
    "    model.add(LSTM(num_units, input_shape=input_shape, return_sequences=True))\r\n",
    "    model.add(Dense(num_dense))\r\n",
    "    model.add(Dropout(0.3))\r\n",
    "    model.add(LSTM(num_units, return_sequences=True))\r\n",
    "    model.add(Dense(num_dense))\r\n",
    "    model.add(LSTM(num_units))\r\n",
    "    model.add(Dense(num_dense))\r\n",
    "    model.add(Dropout(0.3))\r\n",
    "    model.add(Activation(\"softmax\"))\r\n",
    "    model.compile(loss=\"categorical_crossentropy\", optimizer=\"rmsprop\", metrics=[\"acc\", \"RootMeanSquaredError\"])\r\n",
    "\r\n",
    "    return model\r\n",
    "\r\n",
    "lstm_upgraded = lstm_model_upgraded(num_units=x.shape[0], num_dense=x.shape[2], input_shape=(x.shape[1],x.shape[2]))\r\n"
   ],
   "outputs": [],
   "metadata": {}
  },
  {
   "cell_type": "code",
   "execution_count": 85,
   "source": [
    "lstm_upgraded.fit(x,y, epochs=1, verbose=0)\r\n",
    "print(lstm_upgraded.summary())"
   ],
   "outputs": [
    {
     "output_type": "stream",
     "name": "stdout",
     "text": [
      "Model: \"sequential_22\"\n",
      "_________________________________________________________________\n",
      "Layer (type)                 Output Shape              Param #   \n",
      "=================================================================\n",
      "lstm_24 (LSTM)               (None, 100, 196)          193648    \n",
      "_________________________________________________________________\n",
      "dense_28 (Dense)             (None, 100, 50)           9850      \n",
      "_________________________________________________________________\n",
      "dropout_8 (Dropout)          (None, 100, 50)           0         \n",
      "_________________________________________________________________\n",
      "lstm_25 (LSTM)               (None, 100, 196)          193648    \n",
      "_________________________________________________________________\n",
      "dense_29 (Dense)             (None, 100, 50)           9850      \n",
      "_________________________________________________________________\n",
      "lstm_26 (LSTM)               (None, 196)               193648    \n",
      "_________________________________________________________________\n",
      "dense_30 (Dense)             (None, 50)                9850      \n",
      "_________________________________________________________________\n",
      "dropout_9 (Dropout)          (None, 50)                0         \n",
      "_________________________________________________________________\n",
      "activation_9 (Activation)    (None, 50)                0         \n",
      "=================================================================\n",
      "Total params: 610,494\n",
      "Trainable params: 610,494\n",
      "Non-trainable params: 0\n",
      "_________________________________________________________________\n",
      "None\n"
     ]
    }
   ],
   "metadata": {}
  },
  {
   "cell_type": "code",
   "execution_count": 69,
   "source": [
    "# Generator model\r\n",
    "\r\n",
    "gen_model = m.generator_model(num_units= x.shape[0], n_inputs=(x.shape[1], x.shape[2]))\r\n",
    "gen_model.summary()"
   ],
   "outputs": [
    {
     "output_type": "stream",
     "name": "stdout",
     "text": [
      "Model: \"sequential_17\"\n",
      "_________________________________________________________________\n",
      "Layer (type)                 Output Shape              Param #   \n",
      "=================================================================\n",
      "lstm_14 (LSTM)               (None, 100, 196)          193648    \n",
      "_________________________________________________________________\n",
      "dense_19 (Dense)             (None, 100, 50)           9850      \n",
      "_________________________________________________________________\n",
      "activation_7 (Activation)    (None, 100, 50)           0         \n",
      "=================================================================\n",
      "Total params: 203,498\n",
      "Trainable params: 203,498\n",
      "Non-trainable params: 0\n",
      "_________________________________________________________________\n"
     ]
    }
   ],
   "metadata": {}
  },
  {
   "cell_type": "code",
   "execution_count": null,
   "source": [
    "# Generator Leaky Relu model\r\n",
    "gen_model_leaky = m.generator_model_Leaky(n_nodes= x.shape[0] , latent_dim=(x.shape[1], x.shape[2]))\r\n"
   ],
   "outputs": [],
   "metadata": {}
  },
  {
   "cell_type": "code",
   "execution_count": 25,
   "source": [
    "# Generator doesnt compile so we cant do any evaluation"
   ],
   "outputs": [],
   "metadata": {}
  },
  {
   "cell_type": "code",
   "execution_count": 76,
   "source": [
    "# EXPLICAR DIS ------------------------------------------------------------"
   ],
   "outputs": [],
   "metadata": {}
  },
  {
   "cell_type": "code",
   "execution_count": 73,
   "source": [
    "dis_model = m.discriminator_model(num_units= x.shape[0], n_inputs=(x.shape[1], x.shape[2]))\r\n",
    "dis_model.summary()"
   ],
   "outputs": [
    {
     "output_type": "stream",
     "name": "stdout",
     "text": [
      "Model: \"sequential_18\"\n",
      "_________________________________________________________________\n",
      "Layer (type)                 Output Shape              Param #   \n",
      "=================================================================\n",
      "lstm_15 (LSTM)               (None, 196)               193648    \n",
      "_________________________________________________________________\n",
      "dense_20 (Dense)             (None, 50)                9850      \n",
      "_________________________________________________________________\n",
      "dense_21 (Dense)             (None, 1)                 51        \n",
      "=================================================================\n",
      "Total params: 203,549\n",
      "Trainable params: 203,549\n",
      "Non-trainable params: 0\n",
      "_________________________________________________________________\n"
     ]
    }
   ],
   "metadata": {}
  },
  {
   "cell_type": "code",
   "execution_count": null,
   "source": [
    "dis_model_leaky = m.discriminator_model_Leaky(num_units= x.shape[0], n_inputs=(x.shape[1], x.shape[2]))\r\n"
   ],
   "outputs": [],
   "metadata": {}
  },
  {
   "cell_type": "code",
   "execution_count": 59,
   "source": [
    "gan_model = m.gan_model(gen_model, dis_model)\r\n",
    "gan_model.summary()"
   ],
   "outputs": [
    {
     "output_type": "stream",
     "name": "stdout",
     "text": [
      "Model: \"sequential_16\"\n",
      "_________________________________________________________________\n",
      "Layer (type)                 Output Shape              Param #   \n",
      "=================================================================\n",
      "sequential_12 (Sequential)   (None, 100, 50)           203498    \n",
      "_________________________________________________________________\n",
      "batch_normalization_4 (Batch (None, 100, 50)           200       \n",
      "_________________________________________________________________\n",
      "sequential_15 (Sequential)   (None, 1)                 1178725   \n",
      "=================================================================\n",
      "Total params: 1,382,423\n",
      "Trainable params: 203,598\n",
      "Non-trainable params: 1,178,825\n",
      "_________________________________________________________________\n"
     ]
    }
   ],
   "metadata": {}
  },
  {
   "cell_type": "code",
   "execution_count": null,
   "source": [
    "gan_model_Leaky = m.gan_model(gen_model, dis_model)\r\n"
   ],
   "outputs": [],
   "metadata": {}
  },
  {
   "cell_type": "code",
   "execution_count": 60,
   "source": [
    "# First, the discriminator model is updated for a half batch of real samples, then a half batch of fake samples, \r\n",
    "# together forming one batch of weight updates. The generator is then updated via the combined GAN model. \r\n",
    "# Importantly, the class label is set to 1 or real for the fake samples. This has the effect of updating the generator toward \r\n",
    "# getting better at generating real samples on the next batch."
   ],
   "outputs": [],
   "metadata": {}
  },
  {
   "cell_type": "code",
   "execution_count": 61,
   "source": [
    "m.train(x=x, g_model=gen_model, d_model=dis_model, gan_model=gan_model, y_gan=y_gan, n_epochs=1, n_batch=129)"
   ],
   "outputs": [
    {
     "output_type": "stream",
     "name": "stdout",
     "text": [
      ">1, 1/1, loss_real=0.706, loss_fake=0.751 loss_latent=0.681\n"
     ]
    }
   ],
   "metadata": {}
  },
  {
   "cell_type": "code",
   "execution_count": 67,
   "source": [
    "# Accuracy\r\n",
    "check_performance = m.check_performance(1, gen_model, dis_model, x, n_samples=100)\r\n",
    "check_performance"
   ],
   "outputs": [
    {
     "output_type": "execute_result",
     "data": {
      "text/plain": [
       "'>Accuracy real: 91%, fake: 0%'"
      ]
     },
     "metadata": {},
     "execution_count": 67
    }
   ],
   "metadata": {}
  },
  {
   "cell_type": "code",
   "execution_count": null,
   "source": [
    "# real debería ser 100%, el discriminador detecta cuales son los reales"
   ],
   "outputs": [],
   "metadata": {}
  },
  {
   "cell_type": "code",
   "execution_count": 40,
   "source": [
    "# save the model\r\n",
    "gan_model.save(path_3 + \"model_gan_model_1.h5\")\r\n",
    "gen_model.save(path_3 + \"model_gen_model_1.h5\")\r\n",
    "dis_model.save(path_3 + \"model_dis_model_1.h5\")\r\n"
   ],
   "outputs": [
    {
     "output_type": "stream",
     "name": "stdout",
     "text": [
      "WARNING:tensorflow:Compiled the loaded model, but the compiled metrics have yet to be built. `model.compile_metrics` will be empty until you train or evaluate the model.\n"
     ]
    }
   ],
   "metadata": {}
  },
  {
   "cell_type": "code",
   "execution_count": 86,
   "source": [
    "# early stopping if the model is too big"
   ],
   "outputs": [
    {
     "output_type": "stream",
     "name": "stdout",
     "text": [
      "109\n"
     ]
    }
   ],
   "metadata": {}
  },
  {
   "cell_type": "markdown",
   "source": [
    "### To make a clearer comparison between all models they parameters and evaluation will be included in a dataframe."
   ],
   "metadata": {}
  },
  {
   "cell_type": "code",
   "execution_count": 78,
   "source": [
    "# Dataframe with model information\r\n",
    "models = [\"LSTM\", \"LSTM\", \"Bidirectional LSTM\", \"Bidirectional LSTM\", \"Baseline GAN\"]\r\n",
    "params = [\"1 epoch, loss=categorical_crossentropy, optimizer=rmsprop\", \"100 epoch, loss=categorical_crossentropy, optimizer=rmsprop\", \"1 epoch, loss=categorical_crossentropy, optimizer=rmsprop\", \"100 epoch, loss=categorical_crossentropy, optimizer=rmsprop\", \"1 epoch, loss=binary_crossentropy, optimizer=adam\"]\r\n",
    "loss = [result_errors[0], result_errors_100[0], result_errors_bi[0], result_errors_bi_100[0], np.nan]\r\n",
    "acc = [result_errors[1], result_errors_100[1], result_errors_bi[1], result_errors_bi_100[1], check_performance]\r\n",
    "rmse = [result_errors[2], result_errors_100[2], result_errors_bi[2], result_errors_bi_100[2], np.nan]\r\n",
    "\r\n",
    "df_error = pd.DataFrame({\"model\": models, \"parameters\": params, \"loss\": loss, \"rmse\": rmse, \"accuracy\": acc})\r\n",
    "df_error\r\n",
    "\r\n",
    "# ver si puedo automatizar los parametros"
   ],
   "outputs": [
    {
     "output_type": "execute_result",
     "data": {
      "text/plain": [
       "                model                                         parameters  \\\n",
       "0                LSTM  1 epoch, loss=categorical_crossentropy, optimi...   \n",
       "1                LSTM  100 epoch, loss=categorical_crossentropy, opti...   \n",
       "2  Bidirectional LSTM  1 epoch, loss=categorical_crossentropy, optimi...   \n",
       "3  Bidirectional LSTM  100 epoch, loss=categorical_crossentropy, opti...   \n",
       "4        Baseline GAN  1 epoch, loss=binary_crossentropy, optimizer=adam   \n",
       "\n",
       "       loss      rmse                       accuracy  \n",
       "0  3.464370  0.146208                       0.096939  \n",
       "1  3.464370  0.146208                       0.096939  \n",
       "2  3.912207  0.140001                       0.020408  \n",
       "3  3.912207  0.140001                       0.020408  \n",
       "4       NaN       NaN  >Accuracy real: 91%, fake: 0%  "
      ],
      "text/html": [
       "<div>\n",
       "<style scoped>\n",
       "    .dataframe tbody tr th:only-of-type {\n",
       "        vertical-align: middle;\n",
       "    }\n",
       "\n",
       "    .dataframe tbody tr th {\n",
       "        vertical-align: top;\n",
       "    }\n",
       "\n",
       "    .dataframe thead th {\n",
       "        text-align: right;\n",
       "    }\n",
       "</style>\n",
       "<table border=\"1\" class=\"dataframe\">\n",
       "  <thead>\n",
       "    <tr style=\"text-align: right;\">\n",
       "      <th></th>\n",
       "      <th>model</th>\n",
       "      <th>parameters</th>\n",
       "      <th>loss</th>\n",
       "      <th>rmse</th>\n",
       "      <th>accuracy</th>\n",
       "    </tr>\n",
       "  </thead>\n",
       "  <tbody>\n",
       "    <tr>\n",
       "      <th>0</th>\n",
       "      <td>LSTM</td>\n",
       "      <td>1 epoch, loss=categorical_crossentropy, optimi...</td>\n",
       "      <td>3.464370</td>\n",
       "      <td>0.146208</td>\n",
       "      <td>0.096939</td>\n",
       "    </tr>\n",
       "    <tr>\n",
       "      <th>1</th>\n",
       "      <td>LSTM</td>\n",
       "      <td>100 epoch, loss=categorical_crossentropy, opti...</td>\n",
       "      <td>3.464370</td>\n",
       "      <td>0.146208</td>\n",
       "      <td>0.096939</td>\n",
       "    </tr>\n",
       "    <tr>\n",
       "      <th>2</th>\n",
       "      <td>Bidirectional LSTM</td>\n",
       "      <td>1 epoch, loss=categorical_crossentropy, optimi...</td>\n",
       "      <td>3.912207</td>\n",
       "      <td>0.140001</td>\n",
       "      <td>0.020408</td>\n",
       "    </tr>\n",
       "    <tr>\n",
       "      <th>3</th>\n",
       "      <td>Bidirectional LSTM</td>\n",
       "      <td>100 epoch, loss=categorical_crossentropy, opti...</td>\n",
       "      <td>3.912207</td>\n",
       "      <td>0.140001</td>\n",
       "      <td>0.020408</td>\n",
       "    </tr>\n",
       "    <tr>\n",
       "      <th>4</th>\n",
       "      <td>Baseline GAN</td>\n",
       "      <td>1 epoch, loss=binary_crossentropy, optimizer=adam</td>\n",
       "      <td>NaN</td>\n",
       "      <td>NaN</td>\n",
       "      <td>&gt;Accuracy real: 91%, fake: 0%</td>\n",
       "    </tr>\n",
       "  </tbody>\n",
       "</table>\n",
       "</div>"
      ]
     },
     "metadata": {},
     "execution_count": 78
    }
   ],
   "metadata": {}
  },
  {
   "cell_type": "code",
   "execution_count": 79,
   "source": [
    "# save the results dataframe\r\n",
    "md.save_dataframe(path_5, df_error, \"df_results\")"
   ],
   "outputs": [
    {
     "output_type": "execute_result",
     "data": {
      "text/plain": [
       "'Your file has been saved'"
      ]
     },
     "metadata": {},
     "execution_count": 79
    }
   ],
   "metadata": {}
  },
  {
   "cell_type": "code",
   "execution_count": 80,
   "source": [
    "# insert into SQL the results dataframe \r\n",
    "\r\n",
    "a.upload_comparison_dataframe(path_5, \"df_results\")         "
   ],
   "outputs": [
    {
     "output_type": "stream",
     "name": "stdout",
     "text": [
      "Executing:\n",
      " SELECT * FROM model_comparison\n",
      "'MySQL' object has no attribute 'cursor'\n",
      "Error: unable to fetch data\n"
     ]
    },
    {
     "output_type": "execute_result",
     "data": {
      "text/plain": [
       "'The dataframe has been inserted successfully in SQL'"
      ]
     },
     "metadata": {},
     "execution_count": 80
    }
   ],
   "metadata": {}
  },
  {
   "cell_type": "markdown",
   "source": [
    "### Save model for its possible future use"
   ],
   "metadata": {}
  },
  {
   "cell_type": "code",
   "execution_count": 67,
   "source": [
    "# save model\r\n",
    "\r\n",
    "# Baseline LSTM\r\n",
    "model.save(path_3 + \"baseline_lstm_1epoch_1song_1.h5\")\r\n",
    "model_100.save(path_3 + \"baseline_lstm_100epoch_1song_1.h5\")\r\n",
    "\r\n",
    "# Bidirectional LSTM\r\n",
    "model_bi.save(path_3 + \"bi_lstm_1epoch_1song_1.h5\")\r\n",
    "model_bi_100.save(path_3 + \"bi_lstm_1epoch_100song_1.h5\")"
   ],
   "outputs": [],
   "metadata": {}
  },
  {
   "cell_type": "code",
   "execution_count": null,
   "source": [],
   "outputs": [],
   "metadata": {}
  },
  {
   "cell_type": "code",
   "execution_count": 29,
   "source": [
    "# load model\r\n",
    "\r\n",
    "# Baseline LSTM\r\n",
    "model = tf.keras.models.load_model(path_3 + \"baseline_lstm_1epoch_1song_1.h5\")\r\n",
    "\r\n",
    "# Bidirectional LSTM\r\n",
    "model_bi = tf.keras.models.load_model(path_3 + \"bi_lstm_1epoch_1song_1.h5\")"
   ],
   "outputs": [],
   "metadata": {}
  },
  {
   "cell_type": "code",
   "execution_count": 30,
   "source": [
    "# clean garbage\r\n",
    "import gc\r\n",
    "gc.collect()"
   ],
   "outputs": [
    {
     "output_type": "execute_result",
     "data": {
      "text/plain": [
       "45709"
      ]
     },
     "metadata": {},
     "execution_count": 30
    }
   ],
   "metadata": {}
  },
  {
   "cell_type": "markdown",
   "source": [
    "## Predictions"
   ],
   "metadata": {}
  },
  {
   "cell_type": "markdown",
   "source": [
    "### Once the model has been trained, some post-processing operations are required to be able to make predictions. \r\n",
    "\r\n",
    "### To make a prediction a full list of note sequences is chosen using a random index in the original list. This allows to re-run the generation code without changing anything and get different results every time. Contrary to the first process done, a mapping function here will decode the output of the network. This function will transform from numerical data (integers) to categorical data (notes).\r\n",
    "\r\n",
    "### For each predicted note that we want to generate we have to submit a sequence to the network. \r\n",
    "\r\n",
    "### A sequence to the network is fed for each generated note. The first submitted sequence is the sequence of notes at the starting index. A sliding-window method is applied and every subsequent sequence is the output of the previous iteration at the end of the sequence without the first note. To determine the most likely prediction from the output the index of the highest value is considered and then decoded to represent its note, rest or chord.\r\n",
    "\r\n",
    "### The amount of generated notes can be chosen, for reference 500 notes is roughly two minutes of music."
   ],
   "metadata": {}
  },
  {
   "cell_type": "markdown",
   "source": [
    "### To try to improve predictions differente temperatures can be used. Temperature is a hyperparameter of neural networks used to control the randomness of predictions by scaling the logits before applying softmax. \r\n",
    "\r\n",
    "### Using a higher temperature value produces a softer probability distribution over the classes, and makes the neural network less conservative in its samples, resulting in more diversity and also more mistakes."
   ],
   "metadata": {}
  },
  {
   "cell_type": "markdown",
   "source": [
    "## Post-Processing"
   ],
   "metadata": {}
  },
  {
   "cell_type": "markdown",
   "source": [
    "### Now that an array full of predicted notes have been generated it is time to decode it. Its elements can be notes, rests or chords.\r\n",
    "\r\n",
    "### If the patter is a note or a rest it will be decoded using the note and rest object respectively from the librery Music21. It it is a chord, it will be split into an array of notes. Each note will be converted using the note object and then compiled into the chord object considering those notes.\r\n",
    "\r\n",
    "### At the end of this decodification a MIDI file is created with these objects to be able to listen to the model predictions."
   ],
   "metadata": {}
  },
  {
   "cell_type": "markdown",
   "source": [
    "### The below function allows to play the generated MIDI files without leaving the notebook"
   ],
   "metadata": {}
  },
  {
   "cell_type": "markdown",
   "source": [
    "### The first created MIDI file was just one note repeated over 2 minute time."
   ],
   "metadata": {}
  },
  {
   "cell_type": "code",
   "execution_count": 421,
   "source": [
    "md.play_music(path_4 + \"1st_bi_lstm_1epoch_1song_1.mid\")"
   ],
   "outputs": [],
   "metadata": {}
  },
  {
   "cell_type": "markdown",
   "source": [
    "### After adjusting the pre and post processes, as well as the neural network more interesting melodies were generated."
   ],
   "metadata": {}
  },
  {
   "cell_type": "code",
   "execution_count": null,
   "source": [
    "# Plays music when the cell is executed \r\n",
    "\r\n",
    "# LSTM model - 1 epoch\r\n",
    "md.prediction_process(one_song, model, path_4, \"baseline_lstm_1epoch_1song_1.mid\", path_4 + \"baseline_lstm_1epoch_1song_1.mid\", temperature=1.0)"
   ],
   "outputs": [],
   "metadata": {}
  },
  {
   "cell_type": "code",
   "execution_count": null,
   "source": [
    "# Plays music when the cell is executed \r\n",
    "\r\n",
    "# LSTM model - 100 epoch\r\n",
    "md.prediction_process(one_song, model_100, path_4, \"baseline_lstm_100epoch_1song_1\", path_4 + \"baseline_lstm_100epoch_1song_1.mid\", temperature=1.0)"
   ],
   "outputs": [],
   "metadata": {}
  },
  {
   "cell_type": "code",
   "execution_count": 426,
   "source": [
    "# Plays music when the cell is executed \r\n",
    "\r\n",
    "# Bidirectional model - 1 epoch\r\n",
    "md.prediction_process(one_song, model_bi, path_4, \"bi_lstm_1epoch_1song_1.h5\", path_4 + \"bi_lstm_1epoch_1song_1.h5\", temperature=1.0)"
   ],
   "outputs": [
    {
     "output_type": "error",
     "ename": "AttributeError",
     "evalue": "module 'utils.mining_data_tb' has no attribute 'gen_midi'",
     "traceback": [
      "\u001b[1;31m---------------------------------------------------------------------------\u001b[0m",
      "\u001b[1;31mAttributeError\u001b[0m                            Traceback (most recent call last)",
      "\u001b[1;32m<ipython-input-426-ba99906ab8f4>\u001b[0m in \u001b[0;36m<module>\u001b[1;34m\u001b[0m\n\u001b[0;32m      3\u001b[0m \u001b[1;33m\u001b[0m\u001b[0m\n\u001b[0;32m      4\u001b[0m \u001b[1;31m# Bidirectional model\u001b[0m\u001b[1;33m\u001b[0m\u001b[1;33m\u001b[0m\u001b[1;33m\u001b[0m\u001b[0m\n\u001b[1;32m----> 5\u001b[1;33m \u001b[0mgen_midi_bi\u001b[0m \u001b[1;33m=\u001b[0m \u001b[0mmd\u001b[0m\u001b[1;33m.\u001b[0m\u001b[0mgen_midi\u001b[0m\u001b[1;33m(\u001b[0m\u001b[0mprediction_output_bi\u001b[0m\u001b[1;33m,\u001b[0m \u001b[0mpath_4\u001b[0m\u001b[1;33m,\u001b[0m \u001b[1;34m\"bi_lstm_1epoch_1song_1.mid\"\u001b[0m\u001b[1;33m)\u001b[0m\u001b[1;33m\u001b[0m\u001b[1;33m\u001b[0m\u001b[0m\n\u001b[0m",
      "\u001b[1;31mAttributeError\u001b[0m: module 'utils.mining_data_tb' has no attribute 'gen_midi'"
     ]
    }
   ],
   "metadata": {}
  },
  {
   "cell_type": "code",
   "execution_count": null,
   "source": [
    "# Plays music when the cell is executed \r\n",
    "\r\n",
    "# Bidirectional model - 100 epoch\r\n",
    "md.prediction_process(one_song, model_bi_100, path_4, \"bi_lstm_100epoch_1song_1.h5\", path_4 + \"bi_lstm_100epoch_1song_1.h5\", temperature=1.0)"
   ],
   "outputs": [],
   "metadata": {}
  },
  {
   "cell_type": "markdown",
   "source": [
    "## Comparison"
   ],
   "metadata": {}
  },
  {
   "cell_type": "code",
   "execution_count": null,
   "source": [
    "### "
   ],
   "outputs": [],
   "metadata": {}
  },
  {
   "cell_type": "markdown",
   "source": [
    "## Conclusion"
   ],
   "metadata": {}
  },
  {
   "cell_type": "markdown",
   "source": [
    "### This one week project has proved that deep learning is capable of generating new melodies. Though their results are far from perfect it is still impressive what a shallow neural network and a simple GAN network are capable to do. "
   ],
   "metadata": {}
  },
  {
   "cell_type": "code",
   "execution_count": null,
   "source": [],
   "outputs": [],
   "metadata": {}
  },
  {
   "cell_type": "markdown",
   "source": [
    "## Future steps"
   ],
   "metadata": {}
  },
  {
   "cell_type": "markdown",
   "source": [
    "### - Time signature the same to 4/4 would have added more consistancy to the input and probably improve the model predictions\r\n",
    "### - Keep the length of all pieces the same\r\n",
    "### - Try more parameters and layers to both networks. However, deeper network also required a more powerful computer.\r\n",
    "### - Play around with number of epoch and batches to optimised results\r\n",
    "### - Train the model with different instruments"
   ],
   "metadata": {}
  },
  {
   "cell_type": "code",
   "execution_count": null,
   "source": [],
   "outputs": [],
   "metadata": {}
  },
  {
   "cell_type": "code",
   "execution_count": 106,
   "source": [
    "def all_process(path, filename, path1=path_1, min_note_occurence=1, sequence_length=100, step=3):\r\n",
    "    \"\"\"\r\n",
    "    Function including pre-processing, modelling, prediction and post-processing of MIDI files to return generated files.\r\n",
    "    \r\n",
    "    Params:\r\n",
    "        path: raw data path\r\n",
    "        filename: name of midi file\r\n",
    "\r\n",
    "        path_1: converted data path\r\n",
    "        filename: name of midi file\r\n",
    "\r\n",
    "    \"\"\"\r\n",
    "   \r\n",
    "    # transpose key\r\n",
    "    #md.transpose_key(path, path1)\r\n",
    "    # read file information\r\n",
    "    components = md.info_midi(path, filename)\r\n",
    "\r\n",
    "    # create list with all musical components\r\n",
    "    note_list = []\r\n",
    "    for element in components:\r\n",
    "        # note pitches are extracted\r\n",
    "        if isinstance(element, note.Note):\r\n",
    "            note_list.append(str(element.pitch))\r\n",
    "        # chords are extracted\r\n",
    "        elif isinstance(element, chord.Chord):\r\n",
    "            note_list.append(\".\".join(str(n) for n in element.normalOrder))    \r\n",
    "        # rests are extracted\r\n",
    "        elif isinstance(element, note.Rest):\r\n",
    "            note_list.append(\"REST\")    #further transformation needs this value as str rather than np.nan\r\n",
    "    \r\n",
    "    # create input/output sequences for the model\r\n",
    "    x, y = md.prepare_sequences(note_list, min_note_occurence=1, sequence_length=100, step=3)\r\n",
    "    # Neural network\r\n",
    "    model = Sequential()\r\n",
    "    model.add(LSTM(x.shape[0], input_shape=(x.shape[1],x.shape[2])))\r\n",
    "    model.add(Dense(x.shape[2]))\r\n",
    "    model.add(Activation(\"softmax\"))\r\n",
    "    model.compile(loss=\"categorical_crossentropy\", optimizer=\"rmsprop\", metrics=[\"acc\", \"RootMeanSquaredError\"])\r\n",
    "    # Train model\r\n",
    "    model.fit(x, y, epochs=1)\r\n",
    "    # Predictions\r\n",
    "    prediction_output = md.generate_notes(note_list, model, temperature=1.0)\r\n",
    "    \r\n",
    "    # Create MIDI file       \r\n",
    "    offset = 0\r\n",
    "    output_notes = []\r\n",
    "    # create note and chord objects based on the values generated by the model\r\n",
    "    for pattern in prediction_output:\r\n",
    "        # pattern is a chord\r\n",
    "        if ('.' in pattern) or pattern.isdigit():\r\n",
    "            notes_in_chord = pattern.split('.')\r\n",
    "            notes = []\r\n",
    "            for current_note in notes_in_chord:\r\n",
    "                new_note = note.Note(int(current_note))\r\n",
    "                new_note.storedInstrument = instrument.Piano()\r\n",
    "                notes.append(new_note)\r\n",
    "            new_chord = chord.Chord(notes)\r\n",
    "            new_chord.offset = offset\r\n",
    "            output_notes.append(new_chord)\r\n",
    "        # pattern is a rest\r\n",
    "        elif (\"REST\" in pattern):\r\n",
    "            new_rest = note.Rest(pattern)\r\n",
    "            output_notes.append(new_rest)\r\n",
    "        # pattern is a note\r\n",
    "        else:\r\n",
    "            new_note = note.Note(pattern)   \r\n",
    "            new_note.offset = offset\r\n",
    "            new_note.storedInstrument = instrument.Piano()\r\n",
    "            output_notes.append(new_note)\r\n",
    "\r\n",
    "        # increase offset each iteration so that notes do not stack\r\n",
    "        offset += 0.5\r\n",
    "    midi_stream = stream.Stream(output_notes)\r\n",
    "    # play music\r\n",
    "    md.play_music(midi_stream)"
   ],
   "outputs": [],
   "metadata": {}
  },
  {
   "cell_type": "code",
   "execution_count": 107,
   "source": [
    "all_process(path=path_6, filename=\"Guns n Roses - Sweet Child O Mine.mid\", path1 =path_1, min_note_occurence=1, sequence_length=100, step=3)\r\n"
   ],
   "outputs": [
    {
     "output_type": "stream",
     "name": "stdout",
     "text": [
      "59/59 [==============================] - 195s 3s/step - loss: 5.5729 - acc: 0.0489 - root_mean_squared_error: 0.1101\n"
     ]
    },
    {
     "output_type": "error",
     "ename": "AttributeError",
     "evalue": "'list' object has no attribute 'isdigit'",
     "traceback": [
      "\u001b[1;31m---------------------------------------------------------------------------\u001b[0m",
      "\u001b[1;31mAttributeError\u001b[0m                            Traceback (most recent call last)",
      "\u001b[1;32m<ipython-input-107-917f7c78a147>\u001b[0m in \u001b[0;36m<module>\u001b[1;34m\u001b[0m\n\u001b[1;32m----> 1\u001b[1;33m \u001b[0mall_process\u001b[0m\u001b[1;33m(\u001b[0m\u001b[0mpath\u001b[0m\u001b[1;33m=\u001b[0m\u001b[0mpath_6\u001b[0m\u001b[1;33m,\u001b[0m \u001b[0mfilename\u001b[0m\u001b[1;33m=\u001b[0m\u001b[1;34m\"Guns n Roses - Sweet Child O Mine.mid\"\u001b[0m\u001b[1;33m,\u001b[0m \u001b[0mpath1\u001b[0m \u001b[1;33m=\u001b[0m\u001b[0mpath_1\u001b[0m\u001b[1;33m,\u001b[0m \u001b[0mmin_note_occurence\u001b[0m\u001b[1;33m=\u001b[0m\u001b[1;36m1\u001b[0m\u001b[1;33m,\u001b[0m \u001b[0msequence_length\u001b[0m\u001b[1;33m=\u001b[0m\u001b[1;36m100\u001b[0m\u001b[1;33m,\u001b[0m \u001b[0mstep\u001b[0m\u001b[1;33m=\u001b[0m\u001b[1;36m3\u001b[0m\u001b[1;33m)\u001b[0m\u001b[1;33m\u001b[0m\u001b[1;33m\u001b[0m\u001b[0m\n\u001b[0m",
      "\u001b[1;32m<ipython-input-106-de648cc980f8>\u001b[0m in \u001b[0;36mall_process\u001b[1;34m(path, filename, path1, min_note_occurence, sequence_length, step)\u001b[0m\n\u001b[0;32m     49\u001b[0m     \u001b[1;32mfor\u001b[0m \u001b[0mpattern\u001b[0m \u001b[1;32min\u001b[0m \u001b[0mprediction_output\u001b[0m\u001b[1;33m:\u001b[0m\u001b[1;33m\u001b[0m\u001b[1;33m\u001b[0m\u001b[0m\n\u001b[0;32m     50\u001b[0m         \u001b[1;31m# pattern is a chord\u001b[0m\u001b[1;33m\u001b[0m\u001b[1;33m\u001b[0m\u001b[1;33m\u001b[0m\u001b[0m\n\u001b[1;32m---> 51\u001b[1;33m         \u001b[1;32mif\u001b[0m \u001b[1;33m(\u001b[0m\u001b[1;34m'.'\u001b[0m \u001b[1;32min\u001b[0m \u001b[0mpattern\u001b[0m\u001b[1;33m)\u001b[0m \u001b[1;32mor\u001b[0m \u001b[0mpattern\u001b[0m\u001b[1;33m.\u001b[0m\u001b[0misdigit\u001b[0m\u001b[1;33m(\u001b[0m\u001b[1;33m)\u001b[0m\u001b[1;33m:\u001b[0m\u001b[1;33m\u001b[0m\u001b[1;33m\u001b[0m\u001b[0m\n\u001b[0m\u001b[0;32m     52\u001b[0m             \u001b[0mnotes_in_chord\u001b[0m \u001b[1;33m=\u001b[0m \u001b[0mpattern\u001b[0m\u001b[1;33m.\u001b[0m\u001b[0msplit\u001b[0m\u001b[1;33m(\u001b[0m\u001b[1;34m'.'\u001b[0m\u001b[1;33m)\u001b[0m\u001b[1;33m\u001b[0m\u001b[1;33m\u001b[0m\u001b[0m\n\u001b[0;32m     53\u001b[0m             \u001b[0mnotes\u001b[0m \u001b[1;33m=\u001b[0m \u001b[1;33m[\u001b[0m\u001b[1;33m]\u001b[0m\u001b[1;33m\u001b[0m\u001b[1;33m\u001b[0m\u001b[0m\n",
      "\u001b[1;31mAttributeError\u001b[0m: 'list' object has no attribute 'isdigit'"
     ]
    }
   ],
   "metadata": {}
  },
  {
   "cell_type": "code",
   "execution_count": null,
   "source": [
    "num_units=x.shape[0], num_dense=x.shape[2], input_shape=(x.shape[1],x.shape[2]))\r\n"
   ],
   "outputs": [],
   "metadata": {}
  }
 ],
 "metadata": {
  "interpreter": {
   "hash": "2d8a740277f67c33143a8e5c8e55f738530a350d8def4a85d8635b690074994c"
  },
  "kernelspec": {
   "display_name": "Python 3.7.4 64-bit",
   "name": "python3"
  },
  "language_info": {
   "codemirror_mode": {
    "name": "ipython",
    "version": 3
   },
   "file_extension": ".py",
   "mimetype": "text/x-python",
   "name": "python",
   "nbconvert_exporter": "python",
   "pygments_lexer": "ipython3",
   "version": "3.7.4"
  },
  "orig_nbformat": 4
 },
 "nbformat": 4,
 "nbformat_minor": 2
}