{
 "cells": [
  {
   "cell_type": "code",
   "execution_count": null,
   "metadata": {},
   "outputs": [],
   "source": [
    "# generate dataframe of each note in all songs\r\n",
    "pitch = []\r\n",
    "rest = []\r\n",
    "chrod = []\r\n",
    "\r\n",
    "components = info_midi(path_1 + \"C_alb_esp1.mid\")\r\n",
    "note_list = []\r\n",
    "\r\n",
    "for element in components:\r\n",
    "    # note pitches are extracted\r\n",
    "    if isinstance(element, note.Note):\r\n",
    "        note_list.append(str(element.pitch))\r\n",
    "        pitch.append(str(element.pitch))\r\n",
    "    # chords are extracted\r\n",
    "    elif isinstance(element, chord.Chord):\r\n",
    "        note_list.append(\".\".join(str(n) for n in element.normalOrder))   \r\n",
    "        chrod.append(\".\".join(str(n) for n in element.normalOrder))    \r\n",
    "    # rests are extracted\r\n",
    "    elif isinstance(element, note.Rest):\r\n",
    "        note_list.append(\"NULL\")    #further transformation needs this value as str rather than np.nan\r\n",
    "        rest.append(\"NULL\")\r\n",
    "\r\n",
    "a = {\"Pitch\": pitch, \"Rest\": rest}#, \"Chord\": chord}\r\n",
    "df = pd. DataFrame.from_dict(a, orient='index')\r\n",
    "df = df.transpose()\r\n",
    "df"
   ]
  },
  {
   "cell_type": "code",
   "execution_count": null,
   "metadata": {},
   "outputs": [],
   "source": [
    "# get notes from all songs and save them into the same list\r\n",
    "\r\n",
    "def get_all_notes(path=path_1):\r\n",
    "    \"\"\"\r\n",
    "    This function extracts all the notes, rests and chords from all midi files \r\n",
    "    and saves it in a list in the converted_data folder.\r\n",
    "\r\n",
    "    Param: Path of the midi file     \r\n",
    "    \"\"\"\r\n",
    "    list_path = os.listdir(path)\r\n",
    "    for elem in list_path:\r\n",
    "        output = get_notes_per_song(path, elem)\r\n",
    "    return output\r\n",
    "\r\n",
    "note_list = get_all_notes()\r\n",
    "\r\n",
    "# si tengo la funcion del dataframe necesito esta?''''''''''''''''''''''''''''''''"
   ]
  },
  {
   "cell_type": "code",
   "execution_count": null,
   "metadata": {},
   "outputs": [],
   "source": [
    "def generate_latent_points(note_list, x_real, x):\r\n",
    "\r\n",
    "    pitchnames = sorted(set(note_list))\r\n",
    "    int_to_note = dict((number, note) for number, note in enumerate(pitchnames))\r\n",
    "\r\n",
    "    # create random matrix of ones and zeros \r\n",
    "    noise = np.random.choice(len(pitchnames)-1, (x_real.shape[0], x.shape[1], x.shape[2]))\r\n",
    "    x_latent = []\r\n",
    "    # transform random int to note\r\n",
    "    for elem in noise[0][0]:\r\n",
    "        fake = int_to_note[abs(int(elem))]\r\n",
    "        x_latent.append(fake)  \r\n",
    "\r\n",
    "    x_latent = np.array(x_latent)\r\n",
    "\r\n",
    "    return x_latent"
   ]
  },
  {
   "cell_type": "code",
   "execution_count": null,
   "metadata": {},
   "outputs": [],
   "source": [
    "def generate_fake_data(note_list, x_real, x, g_model):\r\n",
    "\t# generate points in latent space\r\n",
    "\tx_fake = generate_latent_points(note_list, x_real, x)\r\n",
    "\t# predict outputs\r\n",
    "\tx_fake = g_model.predict(x_fake)\r\n",
    "\t# create 'fake' class labels (0)\r\n",
    "\ty_fake = np.zeros((x.shape[2], 1))\r\n",
    "\treturn x_fake, y_fake"
   ]
  }
 ],
 "metadata": {
  "interpreter": {
   "hash": "2d8a740277f67c33143a8e5c8e55f738530a350d8def4a85d8635b690074994c"
  },
  "kernelspec": {
   "display_name": "Python 3.7.4 64-bit",
   "name": "python3"
  },
  "language_info": {
   "name": "python",
   "version": ""
  },
  "orig_nbformat": 4
 },
 "nbformat": 4,
 "nbformat_minor": 2
}