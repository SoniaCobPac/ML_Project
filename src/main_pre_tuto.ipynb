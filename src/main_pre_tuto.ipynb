{
 "cells": [
  {
   "cell_type": "markdown",
   "metadata": {},
   "source": [
    "# **Soni - do**\r\n",
    "## **Generating Music with Machine Learning**\r\n"
   ]
  },
  {
   "cell_type": "markdown",
   "metadata": {},
   "source": [
    "#### Author: Sonia Cobo\n",
    "#### Date: July 2021"
   ]
  },
  {
   "cell_type": "markdown",
   "metadata": {},
   "source": [
    "### Though this project doesn't have a hypothesis per se, it was done to kind off prove how AI has advanced and it is now able to generate music which has been associated with emotions and human capabilities for a long period of time."
   ]
  },
  {
   "cell_type": "code",
   "execution_count": 2,
   "metadata": {},
   "outputs": [],
   "source": [
    "# data augmentation - dividir canciones, modificarlas para tener mas datos"
   ]
  },
  {
   "cell_type": "markdown",
   "metadata": {},
   "source": [
    "# Data"
   ]
  },
  {
   "cell_type": "markdown",
   "metadata": {},
   "source": [
    "### The input to the model will be a series of notes from a MIDI file. MIDI (Musical Instrument Digital Interface) is a technical standard that describes a communications protocol, digital interface, and electrical connectors that connect a wide variety of electronic musical instruments and computers. They don't contain actual audio data and are small in size. They explain what notes are played, when they're played, and how long or loud each note should be.\r\n",
    "\r\n",
    "### To keep the project simple only files with one instrument were chosen, in this case the instrument is piano and the type of songs is classical. \r\n",
    "### These songs have been obtained from the following datasets: http://www.piano-midi.de/ and https://www.mfiles.co.uk/classical-midi.htm\r\n"
   ]
  },
  {
   "cell_type": "code",
   "execution_count": 3,
   "metadata": {},
   "outputs": [],
   "source": [
    "# no descargardas aun: https://github.com/Skuldur/Classical-Piano-Composer/tree/master/midi_songs\n",
    "# https://drive.google.com/file/d/1qnQVK17DNVkU19MgVA4Vg88zRDvwCRXw/view"
   ]
  },
  {
   "cell_type": "markdown",
   "metadata": {},
   "source": [
    "### Import all libraries"
   ]
  },
  {
   "cell_type": "code",
   "execution_count": 4,
   "metadata": {},
   "outputs": [
    {
     "name": "stdout",
     "output_type": "stream",
     "text": [
      "pygame 2.0.1 (SDL 2.0.14, Python 3.7.4)\n",
      "Hello from the pygame community. https://www.pygame.org/contribute.html\n"
     ]
    }
   ],
   "source": [
    "# data manipulation\r\n",
    "import numpy as np\r\n",
    "import pandas as pd \r\n",
    "\r\n",
    "# manipulate midi files\r\n",
    "import glob\r\n",
    "from music21 import converter, instrument, note, chord, meter, stream, duration, corpus\r\n",
    "import pygame\r\n",
    "\r\n",
    "# visualization\r\n",
    "import seaborn as sns\r\n",
    "import matplotlib.pyplot as plt\r\n",
    "\r\n",
    "# route files\r\n",
    "import os\r\n",
    "import sys\r\n",
    "\r\n",
    "# ml model\r\n",
    "import pickle\r\n",
    "\r\n",
    "import tensorflow as tf\r\n",
    "from tensorflow import keras\r\n",
    "\r\n",
    "from keras.utils import np_utils\r\n",
    "from keras.models import Sequential\r\n",
    "from keras.layers import Dense\r\n",
    "from keras.layers import Dropout\r\n",
    "from keras.layers import LSTM\r\n",
    "from keras.layers import Activation\r\n",
    "from keras.layers import BatchNormalization as BatchNorm\r\n",
    "from keras.callbacks import ModelCheckpoint\r\n",
    "from keras.layers import Bidirectional\r\n"
   ]
  },
  {
   "cell_type": "code",
   "execution_count": 5,
   "metadata": {},
   "outputs": [
    {
     "data": {
      "text/plain": [
       "0"
      ]
     },
     "execution_count": 5,
     "metadata": {},
     "output_type": "execute_result"
    }
   ],
   "source": [
    "len(tf.config.experimental.list_physical_devices('GPU'))"
   ]
  },
  {
   "cell_type": "code",
   "execution_count": 6,
   "metadata": {},
   "outputs": [
    {
     "name": "stdout",
     "output_type": "stream",
     "text": [
      "[name: \"/device:CPU:0\"\n",
      "device_type: \"CPU\"\n",
      "memory_limit: 268435456\n",
      "locality {\n",
      "}\n",
      "incarnation: 3608581324200734813\n",
      "]\n"
     ]
    }
   ],
   "source": [
    "from tensorflow.python.client import device_lib\r\n",
    "print(device_lib.list_local_devices())"
   ]
  },
  {
   "cell_type": "markdown",
   "metadata": {},
   "source": [
    "### Paths"
   ]
  },
  {
   "cell_type": "code",
   "execution_count": 7,
   "metadata": {},
   "outputs": [],
   "source": [
    "# The route of this file is added to the sys path to be able to import/export functions\n",
    "sep = os.sep\n",
    "def route (steps):\n",
    "    \"\"\"\n",
    "    This function appends the route of the file to the sys path\n",
    "    to be able to import files from/to other foders within the EDA project folder.\n",
    "    \"\"\"\n",
    "    route = os.getcwd()\n",
    "    for i in range(steps):\n",
    "        route = os.path.dirname(route)\n",
    "    sys.path.append(route)\n",
    "    return route"
   ]
  },
  {
   "cell_type": "code",
   "execution_count": 8,
   "metadata": {},
   "outputs": [],
   "source": [
    "# path to data folder\r\n",
    "path = route(1) + sep + \"data\" + sep + \"raw_data\" + sep\r\n",
    "path_1 = route(1) + sep + \"data\" + sep + \"converted_data\" + sep\r\n",
    "path_2 = route(1) + sep + \"data\" + sep + \"notes\" + sep\r\n",
    "path_3 = route(1) + sep + \"models\" + sep"
   ]
  },
  {
   "cell_type": "markdown",
   "metadata": {},
   "source": [
    "## Midi file exploration"
   ]
  },
  {
   "cell_type": "markdown",
   "metadata": {},
   "source": [
    "Hablar de frecuencia y la transpuesta de fourier"
   ]
  },
  {
   "cell_type": "code",
   "execution_count": 9,
   "metadata": {},
   "outputs": [
    {
     "ename": "ValueError",
     "evalue": "File format b'MThd' not understood. Only 'RIFF' and 'RIFX' supported.",
     "output_type": "error",
     "traceback": [
      "\u001b[1;31m---------------------------------------------------------------------------\u001b[0m",
      "\u001b[1;31mValueError\u001b[0m                                Traceback (most recent call last)",
      "\u001b[1;32m<ipython-input-9-c082786ca470>\u001b[0m in \u001b[0;36m<module>\u001b[1;34m\u001b[0m\n\u001b[0;32m      3\u001b[0m \u001b[1;32mimport\u001b[0m \u001b[0mnumpy\u001b[0m \u001b[1;32mas\u001b[0m \u001b[0mnp\u001b[0m\u001b[1;33m\u001b[0m\u001b[1;33m\u001b[0m\u001b[0m\n\u001b[0;32m      4\u001b[0m \u001b[1;33m\u001b[0m\u001b[0m\n\u001b[1;32m----> 5\u001b[1;33m \u001b[0msamplerate\u001b[0m\u001b[1;33m,\u001b[0m \u001b[0mdata\u001b[0m \u001b[1;33m=\u001b[0m \u001b[0mwavfile\u001b[0m\u001b[1;33m.\u001b[0m\u001b[0mread\u001b[0m\u001b[1;33m(\u001b[0m\u001b[1;34m\"first_test_output.mid\"\u001b[0m\u001b[1;33m)\u001b[0m    \u001b[1;31m# research this\u001b[0m\u001b[1;33m\u001b[0m\u001b[1;33m\u001b[0m\u001b[0m\n\u001b[0m\u001b[0;32m      6\u001b[0m \u001b[0mtimes\u001b[0m \u001b[1;33m=\u001b[0m \u001b[0mnp\u001b[0m\u001b[1;33m.\u001b[0m\u001b[0marange\u001b[0m\u001b[1;33m(\u001b[0m\u001b[0mlen\u001b[0m\u001b[1;33m(\u001b[0m\u001b[0mdata\u001b[0m\u001b[1;33m)\u001b[0m\u001b[1;33m)\u001b[0m\u001b[1;33m/\u001b[0m\u001b[0mfloat\u001b[0m\u001b[1;33m(\u001b[0m\u001b[0msamplerate\u001b[0m\u001b[1;33m)\u001b[0m\u001b[1;33m\u001b[0m\u001b[1;33m\u001b[0m\u001b[0m\n\u001b[0;32m      7\u001b[0m \u001b[1;33m\u001b[0m\u001b[0m\n",
      "\u001b[1;32m~\\AppData\\Local\\Programs\\Python\\Python37\\lib\\site-packages\\scipy\\io\\wavfile.py\u001b[0m in \u001b[0;36mread\u001b[1;34m(filename, mmap)\u001b[0m\n\u001b[0;32m    545\u001b[0m \u001b[1;33m\u001b[0m\u001b[0m\n\u001b[0;32m    546\u001b[0m     \u001b[1;32mtry\u001b[0m\u001b[1;33m:\u001b[0m\u001b[1;33m\u001b[0m\u001b[1;33m\u001b[0m\u001b[0m\n\u001b[1;32m--> 547\u001b[1;33m         \u001b[0mfile_size\u001b[0m\u001b[1;33m,\u001b[0m \u001b[0mis_big_endian\u001b[0m \u001b[1;33m=\u001b[0m \u001b[0m_read_riff_chunk\u001b[0m\u001b[1;33m(\u001b[0m\u001b[0mfid\u001b[0m\u001b[1;33m)\u001b[0m\u001b[1;33m\u001b[0m\u001b[1;33m\u001b[0m\u001b[0m\n\u001b[0m\u001b[0;32m    548\u001b[0m         \u001b[0mfmt_chunk_received\u001b[0m \u001b[1;33m=\u001b[0m \u001b[1;32mFalse\u001b[0m\u001b[1;33m\u001b[0m\u001b[1;33m\u001b[0m\u001b[0m\n\u001b[0;32m    549\u001b[0m         \u001b[0mdata_chunk_received\u001b[0m \u001b[1;33m=\u001b[0m \u001b[1;32mFalse\u001b[0m\u001b[1;33m\u001b[0m\u001b[1;33m\u001b[0m\u001b[0m\n",
      "\u001b[1;32m~\\AppData\\Local\\Programs\\Python\\Python37\\lib\\site-packages\\scipy\\io\\wavfile.py\u001b[0m in \u001b[0;36m_read_riff_chunk\u001b[1;34m(fid)\u001b[0m\n\u001b[0;32m    444\u001b[0m     \u001b[1;32melse\u001b[0m\u001b[1;33m:\u001b[0m\u001b[1;33m\u001b[0m\u001b[1;33m\u001b[0m\u001b[0m\n\u001b[0;32m    445\u001b[0m         \u001b[1;31m# There are also .wav files with \"FFIR\" or \"XFIR\" signatures?\u001b[0m\u001b[1;33m\u001b[0m\u001b[1;33m\u001b[0m\u001b[1;33m\u001b[0m\u001b[0m\n\u001b[1;32m--> 446\u001b[1;33m         raise ValueError(f\"File format {repr(str1)} not understood. Only \"\n\u001b[0m\u001b[0;32m    447\u001b[0m                          \"'RIFF' and 'RIFX' supported.\")\n\u001b[0;32m    448\u001b[0m \u001b[1;33m\u001b[0m\u001b[0m\n",
      "\u001b[1;31mValueError\u001b[0m: File format b'MThd' not understood. Only 'RIFF' and 'RIFX' supported."
     ]
    }
   ],
   "source": [
    "from scipy.io import wavfile \r\n",
    "from matplotlib import pyplot as plt \r\n",
    "import numpy as np \r\n",
    "\r\n",
    "samplerate, data = wavfile.read(\"first_test_output.mid\")    # research this\r\n",
    "times = np.arange(len(data))/float(samplerate)\r\n",
    "\r\n",
    "#plt.plot(data[:1000])"
   ]
  },
  {
   "cell_type": "code",
   "execution_count": null,
   "metadata": {},
   "outputs": [],
   "source": [
    "def play_music(music_file):\r\n",
    "    \"\"\"\r\n",
    "    Play music given a midi file path\r\n",
    "    \"\"\"\r\n",
    "    try:\r\n",
    "        # allow to stop the piece \r\n",
    "        clock = pygame.time.Clock() \r\n",
    "        pygame.mixer.music.load(music_file)\r\n",
    "        pygame.mixer.music.play()\r\n",
    "        while pygame.mixer.music.get_busy():\r\n",
    "            # check if playback has finished\r\n",
    "            clock.tick(10)\r\n",
    "\r\n",
    "        freq = 44100    # audio CD quality\r\n",
    "        bitsize = -16   # unsigned 16 bit\r\n",
    "        channels = 2    # 1 is mono, 2 is stereo\r\n",
    "        buffer = 1024    # number of samples\r\n",
    "        pygame.mixer.init(freq, bitsize, channels, buffer)\r\n",
    "\r\n",
    "    except KeyboardInterrupt:\r\n",
    "        while True:\r\n",
    "            action = input('Enter Q to Quit, Enter to Skip. ').lower()\r\n",
    "            if action == 'q':\r\n",
    "                pygame.mixer.music.fadeout(1000)\r\n",
    "                pygame.mixer.music.stop()\r\n",
    "            else:\r\n",
    "                break"
   ]
  },
  {
   "cell_type": "code",
   "execution_count": null,
   "metadata": {},
   "outputs": [],
   "source": [
    "# It plays when the cell is executed\r\n",
    "\r\n",
    "play_music(path + \"alb_esp2.mid\")"
   ]
  },
  {
   "cell_type": "code",
   "execution_count": null,
   "metadata": {},
   "outputs": [],
   "source": [
    "file = converter.parse(path + \"alb_esp1.mid\")\r\n",
    "#file.show(\"text\")  # left-side numbers represent the offset"
   ]
  },
  {
   "cell_type": "code",
   "execution_count": null,
   "metadata": {},
   "outputs": [],
   "source": [
    "#clarificar a que se refieren con offset vs frecuencia vs pitches"
   ]
  },
  {
   "cell_type": "code",
   "execution_count": 11,
   "metadata": {},
   "outputs": [],
   "source": [
    "# All information from the midi file (i.e. notes, pitch, chord, time signature, etc) is contained within the component list\r\n",
    "def info_midi (path):\r\n",
    "    \"\"\"\r\n",
    "    It returns all midi file information given its path\r\n",
    "\r\n",
    "    \"\"\"\r\n",
    "    file = converter.parse(path)\r\n",
    "    components = []\r\n",
    "    for element in file.recurse():  \r\n",
    "        components.append(element)\r\n",
    "    return components\r\n",
    "\r\n",
    "components = info_midi(path + \"alb_esp1.mid\")\r\n",
    "#components"
   ]
  },
  {
   "cell_type": "code",
   "execution_count": null,
   "metadata": {},
   "outputs": [],
   "source": [
    "# Objects stored in a Stream are generally spaced in time; each stored object has an offset usually representing how many quarter notes \r\n",
    "# lies from the beginning of the Stream. For instance in a 4/4 measure of two half notes, the first note will be at offset 0.0,  \r\n",
    "# and the second at offset 2.0."
   ]
  },
  {
   "cell_type": "code",
   "execution_count": 121,
   "metadata": {},
   "outputs": [
    {
     "name": "stdout",
     "output_type": "stream",
     "text": [
      "<music21.meter.TimeSignature 3/4>\n",
      "<music21.meter.TimeSignature 3/4>\n"
     ]
    }
   ],
   "source": [
    "# The time signature will be 4/4 to simplify the process and to be able generate a pattern that sounds like actual music. \r\n",
    "# A time signature of 4/4 meant 8 different sequence of 4 notes.\r\n",
    "\r\n",
    "for element in components:\r\n",
    "    if isinstance(element, meter.TimeSignature):\r\n",
    "        print(element)\r\n",
    "\r\n",
    "# no se cambiar el tiempo"
   ]
  },
  {
   "cell_type": "code",
   "execution_count": 31,
   "metadata": {},
   "outputs": [],
   "source": [
    "# offsets will be considered as seen before.........do something about it later"
   ]
  },
  {
   "cell_type": "markdown",
   "metadata": {},
   "source": [
    "### Now that the midi file has been studied and its structure is known, data will be split into two object types: notes, rests and chords. \r\n",
    "\r\n",
    "### Note objects contain information about the pitch, octave, and offset of the note.\r\n",
    "### Pitch refers to the frequency of the sound, or how high or low it is and is represented with the letters [A, B, C, D, E, F, G].\r\n",
    "### Octave refers to which set of pitches you use on a piano.\r\n",
    "### Offset refers to where the note is located in the piece.\r\n",
    "### Rests are the silences in the piece.\r\n",
    "### Chord objects are a set of notes that are played at the same time.\r\n"
   ]
  },
  {
   "cell_type": "markdown",
   "metadata": {},
   "source": [
    "### Songs are transposed into C major and A minor key to ease predictions"
   ]
  },
  {
   "cell_type": "code",
   "execution_count": 92,
   "metadata": {},
   "outputs": [
    {
     "data": {
      "text/plain": [
       "'c:\\\\Users\\\\Usuario\\\\Desktop\\\\The_Bridge\\\\ML_Project\\\\data\\\\raw_data\\\\'"
      ]
     },
     "execution_count": 92,
     "metadata": {},
     "output_type": "execute_result"
    }
   ],
   "source": [
    "path"
   ]
  },
  {
   "cell_type": "code",
   "execution_count": 86,
   "metadata": {},
   "outputs": [
    {
     "ename": "FileNotFoundError",
     "evalue": "[Errno 2] No such file or directory: 'c:\\\\Users\\\\Usuario\\\\Desktop\\\\The_Bridge\\\\ML_Project\\\\data\\\\converted_data\\\\C_a\\\\raw_data\\\\alb_esp1.mid'",
     "output_type": "error",
     "traceback": [
      "\u001b[1;31m---------------------------------------------------------------------------\u001b[0m",
      "\u001b[1;31mFileNotFoundError\u001b[0m                         Traceback (most recent call last)",
      "\u001b[1;32m<ipython-input-86-78405a83fe3f>\u001b[0m in \u001b[0;36m<module>\u001b[1;34m\u001b[0m\n\u001b[0;32m     27\u001b[0m         \u001b[0mnewscore\u001b[0m\u001b[1;33m.\u001b[0m\u001b[0mwrite\u001b[0m\u001b[1;33m(\u001b[0m\u001b[1;34m\"midi\"\u001b[0m\u001b[1;33m,\u001b[0m \u001b[0mpath_1\u001b[0m \u001b[1;33m+\u001b[0m \u001b[0mnewFileName\u001b[0m\u001b[1;33m)\u001b[0m\u001b[1;33m\u001b[0m\u001b[1;33m\u001b[0m\u001b[0m\n\u001b[0;32m     28\u001b[0m \u001b[1;33m\u001b[0m\u001b[0m\n\u001b[1;32m---> 29\u001b[1;33m \u001b[0mconvert_to_midi\u001b[0m\u001b[1;33m(\u001b[0m\u001b[0mpath\u001b[0m\u001b[1;33m,\u001b[0m \u001b[0mpath_1\u001b[0m\u001b[1;33m)\u001b[0m\u001b[1;33m\u001b[0m\u001b[1;33m\u001b[0m\u001b[0m\n\u001b[0m",
      "\u001b[1;32m<ipython-input-86-78405a83fe3f>\u001b[0m in \u001b[0;36mconvert_to_midi\u001b[1;34m(ruta, ruta_1)\u001b[0m\n\u001b[0;32m     25\u001b[0m         \u001b[1;31m#print(key.tonic.name, key.mode)\u001b[0m\u001b[1;33m\u001b[0m\u001b[1;33m\u001b[0m\u001b[1;33m\u001b[0m\u001b[0m\n\u001b[0;32m     26\u001b[0m         \u001b[0mnewFileName\u001b[0m \u001b[1;33m=\u001b[0m \u001b[1;34m\"C_\"\u001b[0m \u001b[1;33m+\u001b[0m \u001b[0mfile\u001b[0m\u001b[1;33m[\u001b[0m\u001b[1;36m50\u001b[0m\u001b[1;33m:\u001b[0m\u001b[1;33m]\u001b[0m\u001b[1;33m\u001b[0m\u001b[1;33m\u001b[0m\u001b[0m\n\u001b[1;32m---> 27\u001b[1;33m         \u001b[0mnewscore\u001b[0m\u001b[1;33m.\u001b[0m\u001b[0mwrite\u001b[0m\u001b[1;33m(\u001b[0m\u001b[1;34m\"midi\"\u001b[0m\u001b[1;33m,\u001b[0m \u001b[0mpath_1\u001b[0m \u001b[1;33m+\u001b[0m \u001b[0mnewFileName\u001b[0m\u001b[1;33m)\u001b[0m\u001b[1;33m\u001b[0m\u001b[1;33m\u001b[0m\u001b[0m\n\u001b[0m\u001b[0;32m     28\u001b[0m \u001b[1;33m\u001b[0m\u001b[0m\n\u001b[0;32m     29\u001b[0m \u001b[0mconvert_to_midi\u001b[0m\u001b[1;33m(\u001b[0m\u001b[0mpath\u001b[0m\u001b[1;33m,\u001b[0m \u001b[0mpath_1\u001b[0m\u001b[1;33m)\u001b[0m\u001b[1;33m\u001b[0m\u001b[1;33m\u001b[0m\u001b[0m\n",
      "\u001b[1;32m~\\AppData\\Local\\Programs\\Python\\Python37\\lib\\site-packages\\music21\\stream\\__init__.py\u001b[0m in \u001b[0;36mwrite\u001b[1;34m(self, fmt, fp, **keywords)\u001b[0m\n\u001b[0;32m    251\u001b[0m         \u001b[1;32mif\u001b[0m \u001b[0mself\u001b[0m\u001b[1;33m.\u001b[0m\u001b[0misSorted\u001b[0m \u001b[1;32mis\u001b[0m \u001b[1;32mFalse\u001b[0m \u001b[1;32mand\u001b[0m \u001b[0mself\u001b[0m\u001b[1;33m.\u001b[0m\u001b[0mautoSort\u001b[0m\u001b[1;33m:\u001b[0m  \u001b[1;31m# pragma: no cover\u001b[0m\u001b[1;33m\u001b[0m\u001b[1;33m\u001b[0m\u001b[0m\n\u001b[0;32m    252\u001b[0m             \u001b[0mself\u001b[0m\u001b[1;33m.\u001b[0m\u001b[0msort\u001b[0m\u001b[1;33m(\u001b[0m\u001b[1;33m)\u001b[0m\u001b[1;33m\u001b[0m\u001b[1;33m\u001b[0m\u001b[0m\n\u001b[1;32m--> 253\u001b[1;33m         \u001b[1;32mreturn\u001b[0m \u001b[0msuper\u001b[0m\u001b[1;33m(\u001b[0m\u001b[1;33m)\u001b[0m\u001b[1;33m.\u001b[0m\u001b[0mwrite\u001b[0m\u001b[1;33m(\u001b[0m\u001b[0mfmt\u001b[0m\u001b[1;33m=\u001b[0m\u001b[0mfmt\u001b[0m\u001b[1;33m,\u001b[0m \u001b[0mfp\u001b[0m\u001b[1;33m=\u001b[0m\u001b[0mfp\u001b[0m\u001b[1;33m,\u001b[0m \u001b[1;33m**\u001b[0m\u001b[0mkeywords\u001b[0m\u001b[1;33m)\u001b[0m\u001b[1;33m\u001b[0m\u001b[1;33m\u001b[0m\u001b[0m\n\u001b[0m\u001b[0;32m    254\u001b[0m \u001b[1;33m\u001b[0m\u001b[0m\n\u001b[0;32m    255\u001b[0m     \u001b[1;32mdef\u001b[0m \u001b[0mshow\u001b[0m\u001b[1;33m(\u001b[0m\u001b[0mself\u001b[0m\u001b[1;33m,\u001b[0m \u001b[0mfmt\u001b[0m\u001b[1;33m=\u001b[0m\u001b[1;32mNone\u001b[0m\u001b[1;33m,\u001b[0m \u001b[0mapp\u001b[0m\u001b[1;33m=\u001b[0m\u001b[1;32mNone\u001b[0m\u001b[1;33m,\u001b[0m \u001b[1;33m**\u001b[0m\u001b[0mkeywords\u001b[0m\u001b[1;33m)\u001b[0m\u001b[1;33m:\u001b[0m\u001b[1;33m\u001b[0m\u001b[1;33m\u001b[0m\u001b[0m\n",
      "\u001b[1;32m~\\AppData\\Local\\Programs\\Python\\Python37\\lib\\site-packages\\music21\\base.py\u001b[0m in \u001b[0;36mwrite\u001b[1;34m(self, fmt, fp, **keywords)\u001b[0m\n\u001b[0;32m   2554\u001b[0m                                   \u001b[0mfp\u001b[0m\u001b[1;33m=\u001b[0m\u001b[0mfp\u001b[0m\u001b[1;33m,\u001b[0m\u001b[1;33m\u001b[0m\u001b[1;33m\u001b[0m\u001b[0m\n\u001b[0;32m   2555\u001b[0m                                   \u001b[0msubformats\u001b[0m\u001b[1;33m=\u001b[0m\u001b[0msubformats\u001b[0m\u001b[1;33m,\u001b[0m\u001b[1;33m\u001b[0m\u001b[1;33m\u001b[0m\u001b[0m\n\u001b[1;32m-> 2556\u001b[1;33m                                   **keywords)\n\u001b[0m\u001b[0;32m   2557\u001b[0m \u001b[1;33m\u001b[0m\u001b[0m\n\u001b[0;32m   2558\u001b[0m     \u001b[1;32mdef\u001b[0m \u001b[0m_reprText\u001b[0m\u001b[1;33m(\u001b[0m\u001b[0mself\u001b[0m\u001b[1;33m,\u001b[0m \u001b[1;33m**\u001b[0m\u001b[0mkeywords\u001b[0m\u001b[1;33m)\u001b[0m\u001b[1;33m:\u001b[0m\u001b[1;33m\u001b[0m\u001b[1;33m\u001b[0m\u001b[0m\n",
      "\u001b[1;32m~\\AppData\\Local\\Programs\\Python\\Python37\\lib\\site-packages\\music21\\converter\\subConverters.py\u001b[0m in \u001b[0;36mwrite\u001b[1;34m(self, obj, fmt, fp, subformats, **keywords)\u001b[0m\n\u001b[0;32m   1063\u001b[0m \u001b[1;33m\u001b[0m\u001b[0m\n\u001b[0;32m   1064\u001b[0m         \u001b[0mmf\u001b[0m \u001b[1;33m=\u001b[0m \u001b[0mmidiTranslate\u001b[0m\u001b[1;33m.\u001b[0m\u001b[0mmusic21ObjectToMidiFile\u001b[0m\u001b[1;33m(\u001b[0m\u001b[0mobj\u001b[0m\u001b[1;33m,\u001b[0m \u001b[1;33m**\u001b[0m\u001b[0mmidiTranslateKeywords\u001b[0m\u001b[1;33m)\u001b[0m\u001b[1;33m\u001b[0m\u001b[1;33m\u001b[0m\u001b[0m\n\u001b[1;32m-> 1065\u001b[1;33m         \u001b[0mmf\u001b[0m\u001b[1;33m.\u001b[0m\u001b[0mopen\u001b[0m\u001b[1;33m(\u001b[0m\u001b[0mfp\u001b[0m\u001b[1;33m,\u001b[0m \u001b[1;34m'wb'\u001b[0m\u001b[1;33m)\u001b[0m  \u001b[1;31m# write binary\u001b[0m\u001b[1;33m\u001b[0m\u001b[1;33m\u001b[0m\u001b[0m\n\u001b[0m\u001b[0;32m   1066\u001b[0m         \u001b[0mmf\u001b[0m\u001b[1;33m.\u001b[0m\u001b[0mwrite\u001b[0m\u001b[1;33m(\u001b[0m\u001b[1;33m)\u001b[0m\u001b[1;33m\u001b[0m\u001b[1;33m\u001b[0m\u001b[0m\n\u001b[0;32m   1067\u001b[0m         \u001b[0mmf\u001b[0m\u001b[1;33m.\u001b[0m\u001b[0mclose\u001b[0m\u001b[1;33m(\u001b[0m\u001b[1;33m)\u001b[0m\u001b[1;33m\u001b[0m\u001b[1;33m\u001b[0m\u001b[0m\n",
      "\u001b[1;32m~\\AppData\\Local\\Programs\\Python\\Python37\\lib\\site-packages\\music21\\midi\\__init__.py\u001b[0m in \u001b[0;36mopen\u001b[1;34m(self, filename, attrib)\u001b[0m\n\u001b[0;32m   1533\u001b[0m         \u001b[1;32mif\u001b[0m \u001b[0mattrib\u001b[0m \u001b[1;32mnot\u001b[0m \u001b[1;32min\u001b[0m \u001b[1;33m[\u001b[0m\u001b[1;34m'rb'\u001b[0m\u001b[1;33m,\u001b[0m \u001b[1;34m'wb'\u001b[0m\u001b[1;33m]\u001b[0m\u001b[1;33m:\u001b[0m\u001b[1;33m\u001b[0m\u001b[1;33m\u001b[0m\u001b[0m\n\u001b[0;32m   1534\u001b[0m             \u001b[1;32mraise\u001b[0m \u001b[0mMidiException\u001b[0m\u001b[1;33m(\u001b[0m\u001b[1;34m'cannot read or write unless in binary mode, not:'\u001b[0m\u001b[1;33m,\u001b[0m \u001b[0mattrib\u001b[0m\u001b[1;33m)\u001b[0m\u001b[1;33m\u001b[0m\u001b[1;33m\u001b[0m\u001b[0m\n\u001b[1;32m-> 1535\u001b[1;33m         \u001b[0mself\u001b[0m\u001b[1;33m.\u001b[0m\u001b[0mfile\u001b[0m \u001b[1;33m=\u001b[0m \u001b[0mopen\u001b[0m\u001b[1;33m(\u001b[0m\u001b[0mfilename\u001b[0m\u001b[1;33m,\u001b[0m \u001b[0mattrib\u001b[0m\u001b[1;33m)\u001b[0m\u001b[1;33m\u001b[0m\u001b[1;33m\u001b[0m\u001b[0m\n\u001b[0m\u001b[0;32m   1536\u001b[0m \u001b[1;33m\u001b[0m\u001b[0m\n\u001b[0;32m   1537\u001b[0m     \u001b[1;32mdef\u001b[0m \u001b[0mopenFileLike\u001b[0m\u001b[1;33m(\u001b[0m\u001b[0mself\u001b[0m\u001b[1;33m,\u001b[0m \u001b[0mfileLike\u001b[0m\u001b[1;33m)\u001b[0m\u001b[1;33m:\u001b[0m\u001b[1;33m\u001b[0m\u001b[1;33m\u001b[0m\u001b[0m\n",
      "\u001b[1;31mFileNotFoundError\u001b[0m: [Errno 2] No such file or directory: 'c:\\\\Users\\\\Usuario\\\\Desktop\\\\The_Bridge\\\\ML_Project\\\\data\\\\converted_data\\\\C_a\\\\raw_data\\\\alb_esp1.mid'"
     ]
    }
   ],
   "source": [
    "#converts all MIDI files in the current folder into the key of C major or A minor to restrict the key\r\n",
    "def convert_to_midi(ruta, ruta_1):\r\n",
    "    import music21\r\n",
    "    # major conversions\r\n",
    "    majors = dict([(\"A-\", 4),(\"G#\", 4),(\"A\", 3),(\"A#\", 2),(\"B-\", 2),(\"B\", 1),(\"C\", 0),(\"C#\", -1),(\"D-\", -1),(\"D\", -2),(\"D#\", -3),(\"E-\", -3),(\"E\", -4),(\"F\", -5),(\"F#\", 6),(\"G-\", 6),(\"G\", 5)])\r\n",
    "    minors = dict([(\"G#\", 1), (\"A-\", 1),(\"A\", 0),(\"A#\", -1),(\"B-\", -1),(\"B\", -2),(\"C\", -3),(\"C#\", -4),(\"D-\", -4),(\"D\", -5),(\"D#\", 6),(\"E-\", 6),(\"E\", 5),(\"F\", 4),(\"F#\", 3),(\"G-\", 3),(\"G\", 2)])       \r\n",
    "\r\n",
    "    # MIDI songs path\r\n",
    "    #path = route(1) + sep + \"data\" + sep + \"raw_data\" + sep\r\n",
    "    #path_1 = route(1) + sep + \"data\" + sep + \"converted_data\" + sep\r\n",
    "    # os.chdir(\"./\")\r\n",
    "    for file in glob.glob(path + \"*.mid\"):\r\n",
    "        score = music21.converter.parse(file)\r\n",
    "        key = score.analyze('key')\r\n",
    "        \r\n",
    "    # print key.tonic.name, key.mode\r\n",
    "        if key.mode == \"major\":\r\n",
    "            halfSteps = majors[key.tonic.name]\r\n",
    "            \r\n",
    "        elif key.mode == \"minor\":\r\n",
    "            halfSteps = minors[key.tonic.name]\r\n",
    "        \r\n",
    "        newscore = score.transpose(halfSteps)\r\n",
    "        key = newscore.analyze(\"key\")\r\n",
    "        #print(key.tonic.name, key.mode)\r\n",
    "        newFileName = \"C_\" + file[50:]\r\n",
    "        newscore.write(\"midi\", path_1 + newFileName)\r\n",
    "\r\n",
    "convert_to_midi(path, path_1)"
   ]
  },
  {
   "cell_type": "code",
   "execution_count": 141,
   "metadata": {},
   "outputs": [],
   "source": [
    "# info_midi(path_1 + \"C_alb_esp1.mid\")   -chequeado que funciona, enseñarlo???"
   ]
  },
  {
   "cell_type": "markdown",
   "metadata": {},
   "source": [
    "## Data preparation"
   ]
  },
  {
   "cell_type": "markdown",
   "metadata": {},
   "source": [
    "### Relevant information from midi file is encoded and saved into an array."
   ]
  },
  {
   "cell_type": "markdown",
   "metadata": {},
   "source": [
    "### We append the pitch of every note object using its string notation since the most significant parts of the note can be recreated using the string notation of the pitch. And we append every chord by encoding the id of every note in the chord together into a single string, with each note being separated by a dot. "
   ]
  },
  {
   "cell_type": "code",
   "execution_count": 129,
   "metadata": {},
   "outputs": [],
   "source": [
    "# Each midi file contains notes and chords. These two properties will be the input and output of the LSTM network so \r\n",
    "# they need to be taken out from all midi files. \r\n",
    "\r\n",
    "def get_notes_per_song(path, filename):\r\n",
    "    \"\"\"\r\n",
    "    This function extracts all the notes, rests and chords from one midi file\r\n",
    "    and saves it in a list in the converted_data folder.\r\n",
    "\r\n",
    "    Param: Path of the midi file, filename (str)\r\n",
    "    \"\"\"\r\n",
    "    components = info_midi(path + filename)\r\n",
    "    note_list = []\r\n",
    "    \r\n",
    "    for element in components:\r\n",
    "        # note pitches are extracted\r\n",
    "        if isinstance(element, note.Note):\r\n",
    "            note_list.append(str(element.pitch))\r\n",
    "        # chords are extracted\r\n",
    "        elif isinstance(element, chord.Chord):\r\n",
    "            note_list.append(\".\".join(str(n) for n in element.normalOrder))    \r\n",
    "        # rests are extracted\r\n",
    "        elif isinstance(element, note.Rest):\r\n",
    "            note_list.append(\"NULL\")    #further transformation needs this value as str rather than np.nan\r\n",
    "\r\n",
    "    with open(path_2 + \"notes\", \"wb\") as filepath:\r\n",
    "        pickle.dump(note_list, filepath)\r\n",
    "    \r\n",
    "    return (note_list)"
   ]
  },
  {
   "cell_type": "code",
   "execution_count": 130,
   "metadata": {},
   "outputs": [],
   "source": [
    "one = get_notes_per_song(path_1, \"C_alb_esp1.mid\")"
   ]
  },
  {
   "cell_type": "code",
   "execution_count": 133,
   "metadata": {},
   "outputs": [
    {
     "data": {
      "text/html": [
       "<div>\n",
       "<style scoped>\n",
       "    .dataframe tbody tr th:only-of-type {\n",
       "        vertical-align: middle;\n",
       "    }\n",
       "\n",
       "    .dataframe tbody tr th {\n",
       "        vertical-align: top;\n",
       "    }\n",
       "\n",
       "    .dataframe thead th {\n",
       "        text-align: right;\n",
       "    }\n",
       "</style>\n",
       "<table border=\"1\" class=\"dataframe\">\n",
       "  <thead>\n",
       "    <tr style=\"text-align: right;\">\n",
       "      <th></th>\n",
       "      <th>Piece</th>\n",
       "      <th>Notes</th>\n",
       "    </tr>\n",
       "  </thead>\n",
       "  <tbody>\n",
       "    <tr>\n",
       "      <th>0</th>\n",
       "      <td>C_alb_esp1</td>\n",
       "      <td>[NULL, E5, B5, A5, A5, G5, A5, B5, C6, D6, B5,...</td>\n",
       "    </tr>\n",
       "    <tr>\n",
       "      <th>1</th>\n",
       "      <td>C_alb_esp2</td>\n",
       "      <td>[NULL, G3, 0.4.7, NULL, G3, 0.4.7, 7.0, E4, F4...</td>\n",
       "    </tr>\n",
       "    <tr>\n",
       "      <th>2</th>\n",
       "      <td>C_alb_esp3</td>\n",
       "      <td>[E5, NULL, G#5, NULL, B5, NULL, A5, A5, F5, NU...</td>\n",
       "    </tr>\n",
       "    <tr>\n",
       "      <th>3</th>\n",
       "      <td>C_alb_esp4</td>\n",
       "      <td>[A5, NULL, E5, NULL, F5, NULL, A5, NULL, G#5, ...</td>\n",
       "    </tr>\n",
       "    <tr>\n",
       "      <th>4</th>\n",
       "      <td>C_alb_esp5</td>\n",
       "      <td>[NULL, 0.4, 11.2, 2.5, 11.2, 0.4, 9.0, 5.9, 4....</td>\n",
       "    </tr>\n",
       "    <tr>\n",
       "      <th>5</th>\n",
       "      <td>C_alb_esp6</td>\n",
       "      <td>[NULL, 1.4, 2.5, 2.5, 9.0, 7.11, 11.3, 0.4, 4....</td>\n",
       "    </tr>\n",
       "    <tr>\n",
       "      <th>6</th>\n",
       "      <td>C_alb_se1</td>\n",
       "      <td>[NULL, 7.0, NULL, 0.4.7, 0.4.7, NULL, 4.7, 0.4...</td>\n",
       "    </tr>\n",
       "  </tbody>\n",
       "</table>\n",
       "</div>"
      ],
      "text/plain": [
       "        Piece                                              Notes\n",
       "0  C_alb_esp1  [NULL, E5, B5, A5, A5, G5, A5, B5, C6, D6, B5,...\n",
       "1  C_alb_esp2  [NULL, G3, 0.4.7, NULL, G3, 0.4.7, 7.0, E4, F4...\n",
       "2  C_alb_esp3  [E5, NULL, G#5, NULL, B5, NULL, A5, A5, F5, NU...\n",
       "3  C_alb_esp4  [A5, NULL, E5, NULL, F5, NULL, A5, NULL, G#5, ...\n",
       "4  C_alb_esp5  [NULL, 0.4, 11.2, 2.5, 11.2, 0.4, 9.0, 5.9, 4....\n",
       "5  C_alb_esp6  [NULL, 1.4, 2.5, 2.5, 9.0, 7.11, 11.3, 0.4, 4....\n",
       "6   C_alb_se1  [NULL, 7.0, NULL, 0.4.7, 0.4.7, NULL, 4.7, 0.4..."
      ]
     },
     "execution_count": 133,
     "metadata": {},
     "output_type": "execute_result"
    }
   ],
   "source": [
    "# generate dataframe\r\n",
    "\r\n",
    "def create_dataframe(path=path_1):\r\n",
    "    \"\"\"\r\n",
    "    el dataframe ya me convierte las canciones también\r\n",
    "    \"\"\"\r\n",
    "    list_path = os.listdir(path)\r\n",
    "    piece_list = []\r\n",
    "    notes = []\r\n",
    "    for elem in list_path:\r\n",
    "        output = get_notes_per_song(path, elem)\r\n",
    "        piece_list.append(elem[:-4])\r\n",
    "        notes.append(output)\r\n",
    "\r\n",
    "    df = pd.DataFrame.from_dict({\"Piece\":piece_list, \"Notes\":notes}, orient=\"index\")\r\n",
    "    df = df.transpose()\r\n",
    "    return df\r\n",
    "\r\n",
    "df = create_dataframe()\r\n",
    "df"
   ]
  },
  {
   "cell_type": "code",
   "execution_count": 134,
   "metadata": {},
   "outputs": [],
   "source": [
    "# Represent all different notes in one song-------------------\r\n",
    "# ------------------------------------in streamlit let user choose the song, o hacer las gráficas en streamlit para que sean interactivas\r\n",
    "\r\n",
    "def plot_one_song(number):\r\n",
    "    \"\"\"\r\n",
    "    Plot all different notes and rests contained in one song\r\n",
    "    \"\"\"\r\n",
    "    clean_column = df[\"Notes\"][number]\r\n",
    "    contador = 0\r\n",
    "    while contador <= len(clean_column):\r\n",
    "        contador +=1\r\n",
    "        for elem in clean_column:\r\n",
    "            if elem.count(\".\") >= 1 or elem == \"NULL\" or elem.isdigit() == True:\r\n",
    "                clean_column.remove(elem)\r\n",
    "\r\n",
    "    fig, ax = plt.subplots(figsize=(8, 4))\r\n",
    "\r\n",
    "    piece_title= df[\"Piece\"][number]\r\n",
    "    sns.histplot(clean_column, color = \"green\", label=f\"Piece title: {piece_title[2:]}\")\r\n",
    "\r\n",
    "    ax.set_xlabel(\"Notes\")\r\n",
    "    ax.legend(loc=\"best\")\r\n",
    "    plt.xticks(rotation = 90)\r\n",
    "\r\n",
    "    plt.show()\r\n"
   ]
  },
  {
   "cell_type": "code",
   "execution_count": 135,
   "metadata": {},
   "outputs": [
    {
     "data": {
      "image/png": "[encoded data removed]",
      "text/plain": [
       "<Figure size 576x288 with 1 Axes>"
      ]
     },
     "metadata": {
      "image/png": {
       "height": 274,
       "width": 494
      },
      "needs_background": "light"
     },
     "output_type": "display_data"
    }
   ],
   "source": [
    "plot_one_song(0)            # ordenarlo de mayor a menor?????????????, cambiar el color???????????????"
   ]
  },
  {
   "cell_type": "code",
   "execution_count": 136,
   "metadata": {},
   "outputs": [],
   "source": [
    "# Represent all different notes in all songs\r\n",
    "\r\n",
    "def plot_all_songs():\r\n",
    "    \"\"\"\r\n",
    "    Plot all different notes and rests contained in one song\r\n",
    "    \"\"\"\r\n",
    "    fig, ax = plt.subplots(figsize=(8, 4))\r\n",
    "\r\n",
    "    # copy of note_list to not delete info for the model\r\n",
    "    clean_list = note_list[::]\r\n",
    "    contador = 0\r\n",
    "    while contador <= len(clean_list):\r\n",
    "        contador +=1\r\n",
    "        for elem in clean_list:\r\n",
    "            # remove chords and rests\r\n",
    "            if elem.count(\".\") >= 1 or elem == \"NULL\" or elem.isdigit() == True:\r\n",
    "                clean_list.remove(elem)\r\n",
    "\r\n",
    "    sns.histplot(clean_list, color = \"green\")\r\n",
    "\r\n",
    "    ax.set_xlabel(\"Notes\")\r\n",
    "    plt.xticks(rotation = 90)\r\n",
    "\r\n",
    "    plt.show()"
   ]
  },
  {
   "cell_type": "code",
   "execution_count": 137,
   "metadata": {},
   "outputs": [
    {
     "data": {
      "image/png": "[encoded data removed]",
      "text/plain": [
       "<Figure size 576x288 with 1 Axes>"
      ]
     },
     "metadata": {
      "image/png": {
       "height": 274,
       "width": 494
      },
      "needs_background": "light"
     },
     "output_type": "display_data"
    }
   ],
   "source": [
    "plot_all_songs()"
   ]
  },
  {
   "cell_type": "code",
   "execution_count": null,
   "metadata": {},
   "outputs": [],
   "source": [
    "# more data analysis---------------------------------------------------------------------------"
   ]
  },
  {
   "cell_type": "code",
   "execution_count": 138,
   "metadata": {},
   "outputs": [],
   "source": [
    "# Save cleaned data in the appropriate folder, in this case it is the folder 'data'\r\n",
    "def save_dataframe(dataframe, dataframe_name, steps):\r\n",
    "    \"\"\"\r\n",
    "    This function creates csv files with the cleaned data.\r\n",
    "    Param: Dataframe to save, dataframe name as string to save the data with that name\r\n",
    "    \"\"\"\r\n",
    "    dataframe.reset_index(inplace = True)\r\n",
    "    if \"index\" in dataframe.columns:\r\n",
    "        dataframe.drop(columns = \"index\", inplace = True)\r\n",
    "    dataframe.to_csv(route(steps) + os.sep + \"data\" + os.sep + \"output\" + os.sep + dataframe_name + \".csv\", index=False)\r\n",
    "    return \"Your file has been saved\""
   ]
  },
  {
   "cell_type": "code",
   "execution_count": 139,
   "metadata": {},
   "outputs": [
    {
     "data": {
      "text/plain": [
       "'Your file has been saved'"
      ]
     },
     "execution_count": 139,
     "metadata": {},
     "output_type": "execute_result"
    }
   ],
   "source": [
    "df = save_dataframe(df, \"df_music\", 1)\r\n",
    "df"
   ]
  },
  {
   "cell_type": "code",
   "execution_count": 140,
   "metadata": {},
   "outputs": [],
   "source": [
    "# Load notes and chords previously separated\r\n",
    "def load_notes (path, filename):\r\n",
    "    \"\"\"\r\n",
    "    Load the note list containing pitches, rests and chords.\r\n",
    "    \r\n",
    "    Param: Path of the saved note list, and its name as string\r\n",
    "    \"\"\"\r\n",
    "    with open(path + filename, \"rb\") as f:\r\n",
    "        loaded_notes = pickle.load(f)\r\n",
    "        return loaded_notes\r\n",
    "\r\n",
    "loaded_notes = load_notes(path_2, \"notes\")\r\n",
    "#loaded_notes"
   ]
  },
  {
   "cell_type": "markdown",
   "metadata": {},
   "source": [
    "### The model will be first trained with a small proportioned of the songs to expedite time. Once the model is tunned properly all songs will be passed to improve its training."
   ]
  },
  {
   "cell_type": "code",
   "execution_count": 234,
   "metadata": {},
   "outputs": [
    {
     "name": "stdout",
     "output_type": "stream",
     "text": [
      "There are 73 unique notes\n"
     ]
    }
   ],
   "source": [
    "#No. of unique notes\r\n",
    "unique_notes = list(set(loaded_notes))\r\n",
    "print(f\"There are {len(unique_notes)} unique notes\")"
   ]
  },
  {
   "cell_type": "markdown",
   "metadata": {},
   "source": [
    "### Now that all notes, rests and chords are in a list, these will be transformed from categorical data to integer-based numerical data. It is necessary to create input sequences for the network and their respective outputs. The output for each input sequence will be the first note or chord that comes after the sequence of notes in the input sequence in our list of notes."
   ]
  },
  {
   "cell_type": "code",
   "execution_count": 87,
   "metadata": {},
   "outputs": [],
   "source": [
    "# new_items = [0 for x in loaded_notes if x == \"NULL\" ]\r\n"
   ]
  },
  {
   "cell_type": "code",
   "execution_count": 150,
   "metadata": {},
   "outputs": [],
   "source": [
    "def prepare_sequences(notes, sequence_length, step):\r\n",
    "    \"\"\" \r\n",
    "    Prepare the sequences used by the neural network \r\n",
    "\r\n",
    "    \"\"\"\r\n",
    "    # get all pitch names except rests\r\n",
    "    #pitchnames = sorted(set(item for item in notes if item != \"NULL\"))\r\n",
    "    \r\n",
    "    # get all pitch names\r\n",
    "    #pitchnames = sorted(set(item for item in notes)) \r\n",
    "    pitchnames = sorted(set(notes))\r\n",
    "\r\n",
    "    # create a dictionary to convert pitches (strings) to integers\r\n",
    "    note_to_int = dict((note, number) for number, note in enumerate(pitchnames))\r\n",
    "    # (rests are included)   \r\n",
    "\r\n",
    "    network_input = []\r\n",
    "    network_output = []\r\n",
    "\r\n",
    "    # create input sequences and the corresponding outputs\r\n",
    "    for i in range(0, len(notes) - sequence_length, step):    \r\n",
    "        sequence_in = notes[i:i + sequence_length]\r\n",
    "        sequence_out = notes[i + sequence_length]\r\n",
    "        # exchange their values for their integer-code\r\n",
    "        network_input.append([note_to_int[elem] for elem in sequence_in])\r\n",
    "        network_output.append(note_to_int[sequence_out])\r\n",
    "\r\n",
    "    n_patterns = len(network_input)\r\n",
    "\r\n",
    "    # reshape the input into a format compatible with LSTM layers\r\n",
    "    network_input = np.reshape(network_input, (n_patterns, sequence_length, 1)) \r\n",
    "    # normalize input\r\n",
    "    network_input = network_input / float(len(set(notes)))  \r\n",
    "\r\n",
    "    network_output = np_utils.to_categorical(network_output) # used to convert array of labeled data to one-hot vector\r\n",
    "\r\n",
    "    return (network_input, network_output)"
   ]
  },
  {
   "cell_type": "markdown",
   "metadata": {},
   "source": [
    "### The length of each sequence will be 100 notes/chords for now. This means that to predict the next note in the sequence the network has the previous 100 notes to help make the prediction"
   ]
  },
  {
   "cell_type": "code",
   "execution_count": 151,
   "metadata": {},
   "outputs": [],
   "source": [
    "network_input, network_output = prepare_sequences(notes=loaded_notes, sequence_length=100, step=3)  # length y step pueden variar  \r\n"
   ]
  },
  {
   "cell_type": "code",
   "execution_count": 152,
   "metadata": {},
   "outputs": [
    {
     "name": "stdout",
     "output_type": "stream",
     "text": [
      "(457, 100, 1)\n",
      "(457, 73)\n"
     ]
    }
   ],
   "source": [
    "print(network_input.shape)\r\n",
    "print(network_output.shape)"
   ]
  },
  {
   "cell_type": "code",
   "execution_count": 153,
   "metadata": {},
   "outputs": [
    {
     "data": {
      "text/plain": [
       "(100, 1)"
      ]
     },
     "execution_count": 153,
     "metadata": {},
     "output_type": "execute_result"
    }
   ],
   "source": [
    "network_input.shape[1], network_input.shape[2]"
   ]
  },
  {
   "cell_type": "markdown",
   "metadata": {},
   "source": [
    "# Creation of the model"
   ]
  },
  {
   "cell_type": "markdown",
   "metadata": {},
   "source": [
    "There are four different types of layers:\n",
    "\n",
    "LSTM layers is a Recurrent Neural Net layer that takes a sequence as an input and can return either sequences (return_sequences=True) or a matrix.\n",
    "\n",
    "Dropout layers are a regularisation technique that consists of setting a fraction of input units to 0 at each update during the training to prevent overfitting. The fraction is determined by the parameter used with the layer.\n",
    "\n",
    "Dense layers or fully connected layers is a fully connected neural network layer where each input node is connected to each output node.\n",
    "\n",
    "The Activation layer determines what activation function our neural network will use to calculate the output of a node."
   ]
  },
  {
   "cell_type": "code",
   "execution_count": 156,
   "metadata": {},
   "outputs": [],
   "source": [
    "def create_network():\r\n",
    "    n_vocab = len(set(loaded_notes))\r\n",
    "\r\n",
    "    model = Sequential()\r\n",
    "    model.add(LSTM(512,    # igualar los nodos a len(unique_notes)?\r\n",
    "        input_shape=(network_input.shape[1], network_input.shape[2]),\r\n",
    "        recurrent_dropout=0.3,\r\n",
    "        return_sequences=True))\r\n",
    "    model.add(LSTM(512, return_sequences=True, recurrent_dropout=0.3,))\r\n",
    "    model.add(Dense(n_vocab))\r\n",
    "    model.add(Activation(\"softmax\"))\r\n",
    "    model.compile(loss=\"categorical_crossentropy\", optimizer=\"rmsprop\")\r\n",
    "\r\n",
    "    return model"
   ]
  },
  {
   "cell_type": "code",
   "execution_count": 157,
   "metadata": {},
   "outputs": [
    {
     "name": "stdout",
     "output_type": "stream",
     "text": [
      "Epoch 1/10\n",
      "15/15 [==============================] - 44s 3s/step - loss: 3.7099\n",
      "Epoch 2/10\n",
      "15/15 [==============================] - 45s 3s/step - loss: 3.6077\n",
      "Epoch 3/10\n",
      "15/15 [==============================] - 45s 3s/step - loss: 3.8886\n",
      "Epoch 4/10\n",
      "15/15 [==============================] - 44s 3s/step - loss: 3.8855\n",
      "Epoch 5/10\n",
      "15/15 [==============================] - 45s 3s/step - loss: 3.7284\n",
      "Epoch 6/10\n",
      "15/15 [==============================] - 45s 3s/step - loss: 3.5888\n",
      "Epoch 7/10\n",
      "15/15 [==============================] - 45s 3s/step - loss: 3.5321\n",
      "Epoch 8/10\n",
      "15/15 [==============================] - 45s 3s/step - loss: 3.9064\n",
      "Epoch 9/10\n",
      "15/15 [==============================] - 44s 3s/step - loss: 3.6630\n",
      "Epoch 10/10\n",
      "15/15 [==============================] - 44s 3s/step - loss: 3.4186\n"
     ]
    },
    {
     "data": {
      "text/plain": [
       "<keras.callbacks.History at 0x1d15709a808>"
      ]
     },
     "execution_count": 157,
     "metadata": {},
     "output_type": "execute_result"
    }
   ],
   "source": [
    "model.fit(network_input, network_output, epochs=10)#, batch_size=128)"
   ]
  },
  {
   "cell_type": "code",
   "execution_count": 158,
   "metadata": {},
   "outputs": [],
   "source": [
    "# save the model\r\n",
    "model.save(path_3 + \"model_3.h5\")"
   ]
  },
  {
   "cell_type": "code",
   "execution_count": 159,
   "metadata": {},
   "outputs": [],
   "source": [
    "# load the model \r\n",
    "model_3 = tf.keras.models.load_model(path_3 + \"model_3.h5\")\r\n"
   ]
  },
  {
   "cell_type": "code",
   "execution_count": 212,
   "metadata": {},
   "outputs": [
    {
     "name": "stdout",
     "output_type": "stream",
     "text": [
      "1469\n",
      "(457, 100, 1)\n"
     ]
    }
   ],
   "source": [
    "print(len(loaded_notes))\r\n",
    "print(network_input.shape)"
   ]
  },
  {
   "cell_type": "code",
   "execution_count": 243,
   "metadata": {},
   "outputs": [
    {
     "data": {
      "text/plain": [
       "(100, 1)"
      ]
     },
     "execution_count": 243,
     "metadata": {},
     "output_type": "execute_result"
    }
   ],
   "source": [
    "network_input[start].shape"
   ]
  },
  {
   "cell_type": "code",
   "execution_count": 304,
   "metadata": {},
   "outputs": [],
   "source": [
    "n_vocab = len(set(loaded_notes))\r\n",
    "\r\n",
    "#start = np.random.randint(0, len(network_input)-1)  #restar seq len?\r\n",
    "\r\n",
    "pitchnames = sorted(list(set(loaded_notes)))   \r\n",
    "int_to_note = dict((number, note) for number, note in enumerate(pitchnames))\r\n",
    "\r\n",
    "#pattern = network_input[start]\r\n",
    "prediction_output = []\r\n",
    "pattern_list = []\r\n",
    "\r\n",
    "# generate 500 notes, roughly two minutes of music\r\n",
    "for note_index in range(10):\r\n",
    "    start = np.random.randint(0, len(network_input)-1)  #restar seq len?\r\n",
    "\r\n",
    "    pattern = network_input[start]\r\n",
    "    pattern_list.append(pattern)\r\n",
    "    \r\n",
    "    prediction_input = np.reshape(pattern, (1, len(pattern), 1))\r\n",
    "    # normalize\r\n",
    "    #prediction_input = prediction_input / float(n_vocab)\r\n",
    "\r\n",
    "    prediction = model.predict(prediction_input, verbose=0)\r\n",
    "\r\n",
    "    # Returns the indices of the maximum values along an axis\r\n",
    "    index = np.argmax(prediction)\r\n",
    "    result = int_to_note[index] \r\n",
    "    prediction_output.append(result)\r\n",
    "\r\n",
    "    patterns.append(index)\r\n",
    "    pattern = pattern[1:len(pattern)]"
   ]
  },
  {
   "cell_type": "code",
   "execution_count": 306,
   "metadata": {},
   "outputs": [
    {
     "data": {
      "text/plain": [
       "4"
      ]
     },
     "execution_count": 306,
     "metadata": {},
     "output_type": "execute_result"
    }
   ],
   "source": []
  },
  {
   "cell_type": "code",
   "execution_count": 283,
   "metadata": {},
   "outputs": [],
   "source": [
    "def sample(preds, temperature=1.0):\r\n",
    "    # helper function to sample an index from a probability array\r\n",
    "    preds = np.asarray(preds).astype(\"float64\")\r\n",
    "    preds = np.log(preds) / temperature\r\n",
    "    exp_preds = np.exp(preds)\r\n",
    "    preds = exp_preds / np.sum(exp_preds)\r\n",
    "    probas = np.random.multinomial(1, preds, 1)\r\n",
    "    return preds"
   ]
  },
  {
   "cell_type": "code",
   "execution_count": 281,
   "metadata": {},
   "outputs": [],
   "source": [
    "def generate_notes(model, network_input, n_vocab, notes):\r\n",
    "    \"\"\" \r\n",
    "    Generate notes from the neural network based on a sequence of notes \r\n",
    "    \"\"\"\r\n",
    "    # pick a random sequence from the input as a starting point for the prediction\r\n",
    "    start = np.random.randint(0, len(network_input)-1)\r\n",
    "\r\n",
    "    pitchnames = sorted(set(item for item in notes))   \r\n",
    "    int_to_note = dict((number, note) for number, note in enumerate(pitchnames))\r\n",
    "\r\n",
    "    pattern = network_input[start]\r\n",
    "    prediction_output = []\r\n",
    "    patterns\r\n",
    "    # generate 500 notes, roughly two minutes of music\r\n",
    "    for note_index in range(10):\r\n",
    "        prediction_input = np.reshape(pattern, (1, len(pattern), 1))\r\n",
    "        # normalize\r\n",
    "        prediction_input = prediction_input / float(n_vocab)\r\n",
    "\r\n",
    "        prediction = model.predict(prediction_input, verbose=0)\r\n",
    "\r\n",
    "        # Returns the indices of the maximum values along an axis\r\n",
    "        index = sample(prediction, temperature = 0.2)\r\n",
    "        result = int_to_note[index] \r\n",
    "        prediction_output.append(result)\r\n",
    "\r\n",
    "        patterns.append(index)\r\n",
    "        #pattern = pattern[1:len(pattern)]\r\n",
    "\r\n",
    "    return prediction_output, pattern, prediction"
   ]
  },
  {
   "cell_type": "code",
   "execution_count": 282,
   "metadata": {},
   "outputs": [
    {
     "ename": "ValueError",
     "evalue": "object too deep for desired array",
     "output_type": "error",
     "traceback": [
      "\u001b[1;31m---------------------------------------------------------------------------\u001b[0m",
      "\u001b[1;31mValueError\u001b[0m                                Traceback (most recent call last)",
      "\u001b[1;32m<ipython-input-282-2205ca75432f>\u001b[0m in \u001b[0;36m<module>\u001b[1;34m\u001b[0m\n\u001b[0;32m      1\u001b[0m \u001b[0mn_vocab\u001b[0m \u001b[1;33m=\u001b[0m \u001b[0mlen\u001b[0m\u001b[1;33m(\u001b[0m\u001b[0mset\u001b[0m\u001b[1;33m(\u001b[0m\u001b[0mloaded_notes\u001b[0m\u001b[1;33m)\u001b[0m\u001b[1;33m)\u001b[0m\u001b[1;33m\u001b[0m\u001b[1;33m\u001b[0m\u001b[0m\n\u001b[1;32m----> 2\u001b[1;33m \u001b[0mprediction_output\u001b[0m\u001b[1;33m,\u001b[0m \u001b[0mpattern\u001b[0m\u001b[1;33m,\u001b[0m \u001b[0mprediction\u001b[0m \u001b[1;33m=\u001b[0m \u001b[0mgenerate_notes\u001b[0m\u001b[1;33m(\u001b[0m\u001b[0mmodel_2\u001b[0m\u001b[1;33m,\u001b[0m \u001b[0mnetwork_input\u001b[0m\u001b[1;33m,\u001b[0m \u001b[0mn_vocab\u001b[0m\u001b[1;33m,\u001b[0m \u001b[0mloaded_notes\u001b[0m\u001b[1;33m)\u001b[0m\u001b[1;33m\u001b[0m\u001b[1;33m\u001b[0m\u001b[0m\n\u001b[0m\u001b[0;32m      3\u001b[0m \u001b[0mprint\u001b[0m\u001b[1;33m(\u001b[0m\u001b[0mprediction_output\u001b[0m\u001b[1;33m)\u001b[0m\u001b[1;33m\u001b[0m\u001b[1;33m\u001b[0m\u001b[0m\n",
      "\u001b[1;32m<ipython-input-281-fd935b7b2f2b>\u001b[0m in \u001b[0;36mgenerate_notes\u001b[1;34m(model, network_input, n_vocab, notes)\u001b[0m\n\u001b[0;32m     21\u001b[0m \u001b[1;33m\u001b[0m\u001b[0m\n\u001b[0;32m     22\u001b[0m         \u001b[1;31m# Returns the indices of the maximum values along an axis\u001b[0m\u001b[1;33m\u001b[0m\u001b[1;33m\u001b[0m\u001b[1;33m\u001b[0m\u001b[0m\n\u001b[1;32m---> 23\u001b[1;33m         \u001b[0mindex\u001b[0m \u001b[1;33m=\u001b[0m \u001b[0msample\u001b[0m\u001b[1;33m(\u001b[0m\u001b[0mprediction\u001b[0m\u001b[1;33m,\u001b[0m \u001b[0mtemperature\u001b[0m \u001b[1;33m=\u001b[0m \u001b[1;36m0.2\u001b[0m\u001b[1;33m)\u001b[0m\u001b[1;33m\u001b[0m\u001b[1;33m\u001b[0m\u001b[0m\n\u001b[0m\u001b[0;32m     24\u001b[0m         \u001b[0mresult\u001b[0m \u001b[1;33m=\u001b[0m \u001b[0mint_to_note\u001b[0m\u001b[1;33m[\u001b[0m\u001b[0mindex\u001b[0m\u001b[1;33m]\u001b[0m\u001b[1;33m\u001b[0m\u001b[1;33m\u001b[0m\u001b[0m\n\u001b[0;32m     25\u001b[0m         \u001b[0mprediction_output\u001b[0m\u001b[1;33m.\u001b[0m\u001b[0mappend\u001b[0m\u001b[1;33m(\u001b[0m\u001b[0mresult\u001b[0m\u001b[1;33m)\u001b[0m\u001b[1;33m\u001b[0m\u001b[1;33m\u001b[0m\u001b[0m\n",
      "\u001b[1;32m<ipython-input-279-6d0520b06d66>\u001b[0m in \u001b[0;36msample\u001b[1;34m(preds, temperature)\u001b[0m\n\u001b[0;32m      5\u001b[0m     \u001b[0mexp_preds\u001b[0m \u001b[1;33m=\u001b[0m \u001b[0mnp\u001b[0m\u001b[1;33m.\u001b[0m\u001b[0mexp\u001b[0m\u001b[1;33m(\u001b[0m\u001b[0mpreds\u001b[0m\u001b[1;33m)\u001b[0m\u001b[1;33m\u001b[0m\u001b[1;33m\u001b[0m\u001b[0m\n\u001b[0;32m      6\u001b[0m     \u001b[0mpreds\u001b[0m \u001b[1;33m=\u001b[0m \u001b[0mexp_preds\u001b[0m \u001b[1;33m/\u001b[0m \u001b[0mnp\u001b[0m\u001b[1;33m.\u001b[0m\u001b[0msum\u001b[0m\u001b[1;33m(\u001b[0m\u001b[0mexp_preds\u001b[0m\u001b[1;33m)\u001b[0m\u001b[1;33m\u001b[0m\u001b[1;33m\u001b[0m\u001b[0m\n\u001b[1;32m----> 7\u001b[1;33m     \u001b[0mprobas\u001b[0m \u001b[1;33m=\u001b[0m \u001b[0mnp\u001b[0m\u001b[1;33m.\u001b[0m\u001b[0mrandom\u001b[0m\u001b[1;33m.\u001b[0m\u001b[0mmultinomial\u001b[0m\u001b[1;33m(\u001b[0m\u001b[1;36m1\u001b[0m\u001b[1;33m,\u001b[0m \u001b[0mpreds\u001b[0m\u001b[1;33m)\u001b[0m\u001b[1;33m\u001b[0m\u001b[1;33m\u001b[0m\u001b[0m\n\u001b[0m\u001b[0;32m      8\u001b[0m     \u001b[1;32mreturn\u001b[0m \u001b[0mpreds\u001b[0m\u001b[1;33m\u001b[0m\u001b[1;33m\u001b[0m\u001b[0m\n",
      "\u001b[1;32mmtrand.pyx\u001b[0m in \u001b[0;36mnumpy.random.mtrand.RandomState.multinomial\u001b[1;34m()\u001b[0m\n",
      "\u001b[1;31mValueError\u001b[0m: object too deep for desired array"
     ]
    }
   ],
   "source": [
    "n_vocab = len(set(loaded_notes))\r\n",
    "prediction_output, pattern, prediction = generate_notes(model_2, network_input, n_vocab, loaded_notes)\r\n",
    "print(prediction_output)\r\n"
   ]
  },
  {
   "cell_type": "code",
   "execution_count": 170,
   "metadata": {},
   "outputs": [
    {
     "data": {
      "text/plain": [
       "'C#4'"
      ]
     },
     "execution_count": 170,
     "metadata": {},
     "output_type": "execute_result"
    }
   ],
   "source": [
    "int_to_note[39]"
   ]
  },
  {
   "cell_type": "code",
   "execution_count": 163,
   "metadata": {},
   "outputs": [],
   "source": [
    "# si puedo saber la nota que predice con este output"
   ]
  },
  {
   "cell_type": "markdown",
   "metadata": {},
   "source": [
    "# Output"
   ]
  },
  {
   "cell_type": "code",
   "execution_count": 47,
   "metadata": {},
   "outputs": [],
   "source": [
    "def create_midi(prediction_output, pattern):\r\n",
    "    \"\"\" convert the output from the prediction to notes and create a midi file\r\n",
    "        from the notes \"\"\"\r\n",
    "    offset = 0\r\n",
    "    output_notes = []\r\n",
    "\r\n",
    "    # create note and chord objects based on the values generated by the model\r\n",
    "    for pattern in prediction_output:\r\n",
    "        # pattern is a chord\r\n",
    "        if ('.' in pattern) or pattern.isdigit():\r\n",
    "            notes_in_chord = pattern.split('.')\r\n",
    "            notes = []\r\n",
    "            for current_note in notes_in_chord:\r\n",
    "                new_note = note.Note(int(current_note))\r\n",
    "                new_note.storedInstrument = instrument.Piano()\r\n",
    "                notes.append(new_note)\r\n",
    "            new_chord = chord.Chord(notes)\r\n",
    "            new_chord.offset = offset\r\n",
    "            output_notes.append(new_chord)\r\n",
    "        # pattern is a note\r\n",
    "        else:\r\n",
    "            new_note = note.Note(pattern)\r\n",
    "            new_note.offset = offset\r\n",
    "            new_note.storedInstrument = instrument.Piano()\r\n",
    "            output_notes.append(new_note)\r\n",
    "\r\n",
    "        # increase offset each iteration so that notes do not stack\r\n",
    "        offset += 0.5\r\n",
    "\r\n",
    "    midi_stream = stream.Stream(output_notes)\r\n",
    "\r\n",
    "    midi_stream.write('midi', fp='test_output_4.mid')   # first output 01/07/2021\r\n",
    "\r\n",
    "    return midi_stream"
   ]
  },
  {
   "cell_type": "code",
   "execution_count": 48,
   "metadata": {},
   "outputs": [],
   "source": [
    "create_midi = create_midi(prediction_output, pattern)\r\n"
   ]
  },
  {
   "cell_type": "code",
   "execution_count": null,
   "metadata": {},
   "outputs": [],
   "source": [
    "# lo de abajo aun no lo he utilizado para producir ningun midi"
   ]
  },
  {
   "cell_type": "code",
   "execution_count": 76,
   "metadata": {},
   "outputs": [],
   "source": [
    "def prepare_sequences_out(notes, pitchnames, n_vocab):\r\n",
    "    \"\"\" Prepare the sequences used by the Neural Network \"\"\"\r\n",
    "    # map between notes and integers and back\r\n",
    "    note_to_int = dict((note, number) for number, note in enumerate(pitchnames))\r\n",
    "\r\n",
    "    sequence_length = 100\r\n",
    "    network_input = []\r\n",
    "    output = []\r\n",
    "    for i in range(0, len(notes) - sequence_length, 1):\r\n",
    "        sequence_in = notes[i:i + sequence_length]\r\n",
    "        sequence_out = notes[i + sequence_length]\r\n",
    "        network_input.append([note_to_int[char] for char in sequence_in])\r\n",
    "        output.append(note_to_int[sequence_out])\r\n",
    "\r\n",
    "    n_patterns = len(network_input)\r\n",
    "\r\n",
    "    # reshape the input into a format compatible with LSTM layers\r\n",
    "    normalized_input = np.reshape(network_input, (n_patterns, sequence_length, 1))\r\n",
    "    # normalize input\r\n",
    "    normalized_input = normalized_input / float(n_vocab)\r\n",
    "\r\n",
    "    return (network_input, normalized_input)"
   ]
  },
  {
   "cell_type": "code",
   "execution_count": 91,
   "metadata": {},
   "outputs": [
    {
     "ename": "TypeError",
     "evalue": "'Stream' object is not callable",
     "output_type": "error",
     "traceback": [
      "\u001b[1;31m---------------------------------------------------------------------------\u001b[0m",
      "\u001b[1;31mTypeError\u001b[0m                                 Traceback (most recent call last)",
      "\u001b[1;32m<ipython-input-91-566f32710065>\u001b[0m in \u001b[0;36m<module>\u001b[1;34m\u001b[0m\n\u001b[0;32m      6\u001b[0m \u001b[0mnetwork_input\u001b[0m\u001b[1;33m,\u001b[0m \u001b[0mnormalized_input\u001b[0m \u001b[1;33m=\u001b[0m \u001b[0mprepare_sequences_out\u001b[0m\u001b[1;33m(\u001b[0m\u001b[0mnotes\u001b[0m\u001b[1;33m,\u001b[0m \u001b[0mpitchnames\u001b[0m\u001b[1;33m,\u001b[0m \u001b[0mn_vocab\u001b[0m\u001b[1;33m)\u001b[0m\u001b[1;33m\u001b[0m\u001b[1;33m\u001b[0m\u001b[0m\n\u001b[0;32m      7\u001b[0m \u001b[0mprediction_output\u001b[0m\u001b[1;33m,\u001b[0m \u001b[0mpattern\u001b[0m \u001b[1;33m=\u001b[0m \u001b[0mgenerate_notes\u001b[0m\u001b[1;33m(\u001b[0m\u001b[0mmodel\u001b[0m\u001b[1;33m,\u001b[0m \u001b[0mnetwork_input\u001b[0m\u001b[1;33m,\u001b[0m \u001b[0mn_vocab\u001b[0m\u001b[1;33m,\u001b[0m \u001b[0mloaded_notes\u001b[0m\u001b[1;33m)\u001b[0m\u001b[1;33m\u001b[0m\u001b[1;33m\u001b[0m\u001b[0m\n\u001b[1;32m----> 8\u001b[1;33m \u001b[0mcreate_midi\u001b[0m\u001b[1;33m(\u001b[0m\u001b[0mprediction_output\u001b[0m\u001b[1;33m)\u001b[0m\u001b[1;33m\u001b[0m\u001b[1;33m\u001b[0m\u001b[0m\n\u001b[0m",
      "\u001b[1;31mTypeError\u001b[0m: 'Stream' object is not callable"
     ]
    }
   ],
   "source": [
    "# esta celda no funciona, creo el output desde la funcion create midi\r\n",
    "\r\n",
    "# Get all pitch names\r\n",
    "pitchnames = sorted(set(item for item in notes))\r\n",
    "# Get all pitch names\r\n",
    "n_vocab = len(set(notes))\r\n",
    "\r\n",
    "network_input, normalized_input = prepare_sequences_out(notes, pitchnames, n_vocab)\r\n",
    "prediction_output, pattern = generate_notes(model, network_input, n_vocab, loaded_notes)\r\n",
    "create_midi(prediction_output)"
   ]
  },
  {
   "cell_type": "code",
   "execution_count": null,
   "metadata": {},
   "outputs": [],
   "source": []
  },
  {
   "cell_type": "code",
   "execution_count": 89,
   "metadata": {},
   "outputs": [],
   "source": [
    "# no la uso aun - lo saque fuera de la funcion arriva\r\n",
    "def generate():\r\n",
    "    \"\"\" Generate a piano midi file \"\"\"\r\n",
    "\r\n",
    "    # Get all pitch names\r\n",
    "    pitchnames = sorted(set(item for item in notes))\r\n",
    "    # Get all pitch names\r\n",
    "    n_vocab = len(set(notes))\r\n",
    "\r\n",
    "    network_input, normalized_input = prepare_sequences_out(notes, pitchnames, n_vocab)\r\n",
    "    model = create_network()\r\n",
    "    prediction_output, pattern = generate_notes(model, network_input, n_vocab, loaded_notes)\r\n",
    "    create_midi(prediction_output)"
   ]
  },
  {
   "cell_type": "code",
   "execution_count": null,
   "metadata": {},
   "outputs": [],
   "source": []
  },
  {
   "cell_type": "code",
   "execution_count": null,
   "metadata": {},
   "outputs": [],
   "source": []
  },
  {
   "cell_type": "code",
   "execution_count": null,
   "metadata": {},
   "outputs": [],
   "source": []
  },
  {
   "cell_type": "code",
   "execution_count": null,
   "metadata": {},
   "outputs": [],
   "source": [
    "# GAN\r\n",
    "# red neuronal que conoce los sonidos\r\n",
    "# red que predice tb recursiva"
   ]
  },
  {
   "cell_type": "code",
   "execution_count": null,
   "metadata": {},
   "outputs": [],
   "source": []
  },
  {
   "cell_type": "code",
   "execution_count": null,
   "metadata": {},
   "outputs": [],
   "source": []
  },
  {
   "cell_type": "code",
   "execution_count": null,
   "metadata": {},
   "outputs": [],
   "source": []
  },
  {
   "cell_type": "code",
   "execution_count": null,
   "metadata": {},
   "outputs": [],
   "source": []
  },
  {
   "cell_type": "code",
   "execution_count": null,
   "metadata": {},
   "outputs": [],
   "source": []
  },
  {
   "cell_type": "code",
   "execution_count": null,
   "metadata": {},
   "outputs": [],
   "source": []
  },
  {
   "cell_type": "code",
   "execution_count": null,
   "metadata": {},
   "outputs": [],
   "source": [
    "# Read h5 format files \n",
    "import h5py\n",
    "filename = \"test.h5\"\n",
    "\n",
    "with h5py.File(filename, \"r\") as f:\n",
    "    # List all groups\n",
    "    print(\"Keys: %s\" % f.keys())\n",
    "    a_group_key = list(f.keys())[0]\n",
    "\n",
    "    # Get the data\n",
    "    data = list(f[a_group_key])"
   ]
  },
  {
   "cell_type": "code",
   "execution_count": null,
   "metadata": {},
   "outputs": [],
   "source": []
  },
  {
   "cell_type": "code",
   "execution_count": null,
   "metadata": {},
   "outputs": [],
   "source": []
  }
 ],
 "metadata": {
  "interpreter": {
   "hash": "2d8a740277f67c33143a8e5c8e55f738530a350d8def4a85d8635b690074994c"
  },
  "kernelspec": {
   "display_name": "Python 3.7.4 64-bit",
   "name": "python3"
  },
  "language_info": {
   "codemirror_mode": {
    "name": "ipython",
    "version": 3
   },
   "file_extension": ".py",
   "mimetype": "text/x-python",
   "name": "python",
   "nbconvert_exporter": "python",
   "pygments_lexer": "ipython3",
   "version": "3.7.4"
  },
  "orig_nbformat": 4
 },
 "nbformat": 4,
 "nbformat_minor": 2
}