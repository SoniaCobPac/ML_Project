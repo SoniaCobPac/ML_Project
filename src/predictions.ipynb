{
 "cells": [
  {
   "cell_type": "markdown",
   "source": [
    "## This notebook contains the function that comprises all pre- post-processing, and modeling function so it can be used to generate melodies without having to use any other piece of code."
   ],
   "metadata": {}
  },
  {
   "cell_type": "code",
   "execution_count": 13,
   "source": [
    "# data manipulation\r\n",
    "import numpy as np\r\n",
    "import pandas as pd \r\n",
    "from collections import Counter\r\n",
    "\r\n",
    "\r\n",
    "# manipulate midi files\r\n",
    "import glob\r\n",
    "from music21 import *\r\n",
    "import pygame\r\n",
    "\r\n",
    "# visualization\r\n",
    "import seaborn as sns\r\n",
    "import matplotlib.pyplot as plt\r\n",
    "\r\n",
    "# route files\r\n",
    "import os\r\n",
    "import sys\r\n",
    "\r\n",
    "# ml model\r\n",
    "import pickle\r\n",
    "\r\n",
    "import tensorflow as tf\r\n",
    "from tensorflow import keras\r\n",
    "\r\n",
    "from keras.models import Sequential\r\n",
    "from keras.layers import Dense\r\n",
    "from keras.layers import Dropout\r\n",
    "from keras.layers import LSTM\r\n",
    "from keras.layers import Activation\r\n",
    "from keras.layers import BatchNormalization\r\n",
    "from keras.layers import Bidirectional\r\n",
    "from keras.layers import Dropout\r\n",
    "from keras.layers import Flatten\r\n",
    "from keras.layers import Activation\r\n",
    "\r\n",
    "# my libraries\r\n",
    "import utils.mining_data_tb as md\r\n",
    "from utils.folders_tb import read_json\r\n",
    "import utils.visualization_tb as vis\r\n",
    "import utils.models as m\r\n",
    "import utils.apis_tb as a\r\n",
    "\r\n",
    "import warnings\r\n",
    "warnings.filterwarnings(\"ignore\")"
   ],
   "outputs": [],
   "metadata": {}
  },
  {
   "cell_type": "markdown",
   "source": [
    "### Paths"
   ],
   "metadata": {}
  },
  {
   "cell_type": "code",
   "execution_count": 14,
   "source": [
    "sep = os.sep\r\n",
    "# path to raw data\r\n",
    "path = md.route(1) + sep + \"data\" + sep + \"raw_data\" + sep\r\n",
    "# path to data in the right key\r\n",
    "path_1 = md.route(1) + sep + \"data\" + sep + \"converted_data\" + sep\r\n",
    "# path to compiled notes list\r\n",
    "path_2 = md.route(1) + sep + \"data\" + sep + \"notes\" + sep\r\n",
    "# path to generated models\r\n",
    "path_3 = md.route(1) + sep + \"models\" + sep\r\n",
    "# path to generated midi files\r\n",
    "path_4 = md.route(1) + sep + \"reports\" + sep\r\n",
    "# path to output information\r\n",
    "path_5 = md.route(1) + sep + \"data\" + sep + \"output\" + sep\r\n",
    "# path to other songs\r\n",
    "path_6 = md.route(1) + sep + \"data\" + sep + \"more_inst_data\" + sep\r\n",
    "# path to resources\r\n",
    "path_7 = md.route(1) + sep + \"resources\" + sep"
   ],
   "outputs": [],
   "metadata": {}
  },
  {
   "cell_type": "code",
   "execution_count": 15,
   "source": [
    "# calling to variables\r\n",
    "pitchnames = md.load_notes(path_2, \"pitchnames\")\r\n"
   ],
   "outputs": [],
   "metadata": {}
  },
  {
   "cell_type": "code",
   "execution_count": 16,
   "source": [
    "len(pitchnames)"
   ],
   "outputs": [
    {
     "output_type": "execute_result",
     "data": {
      "text/plain": [
       "332"
      ]
     },
     "metadata": {},
     "execution_count": 16
    }
   ],
   "metadata": {}
  },
  {
   "cell_type": "code",
   "execution_count": 17,
   "source": [
    "def process_and_execute(p1, p2, p3, p4, p5, p6, name, output_name):\r\n",
    "    \"\"\"\r\n",
    "    This functions is the combination of all pre-processing, modeling and post-procssing functions used in the project \r\n",
    "    so given a MIDI file this one function will return its prediction and play it in Jupyter.\r\n",
    "    \r\n",
    "    \"\"\"\r\n",
    "    md.transpose_key(p3, p1, name)\r\n",
    "    note_list = md.get_notes_per_song(p3, f\"{name}.mid\", p6, save_name=\"pred_list\")\r\n",
    "    print(len(note_list))\r\n",
    "    #x, y = md.prepare_sequences(pitchnames=pitchnames, notes=note_list, min_note_occurence=1, sequence_length=70, step=3)\r\n",
    "    model = tf.keras.models.load_model(p2 + \"baseline_lstm_1epoch_1song_2.h5\")\r\n",
    "    prediction_output, patterns = md.generate_notes(p4, notes=note_list, model=model, temperature=1.0, sequence_length=70)\r\n",
    "    md.gen_midi(prediction_output, p5, f\"{output_name}.mid\")\r\n",
    "    md.play_music(p5 + f\"{output_name}.mid\")\r\n",
    "    "
   ],
   "outputs": [],
   "metadata": {}
  },
  {
   "cell_type": "code",
   "execution_count": 5,
   "source": [
    "process_and_execute(p1=path_1, p2=path_3, p3=path_6, p4=pitchnames, p5=path_4, p6=path_2, name=\"Guns n Roses - Sweet Child O Mine\", output_name=\"GunsnRoses\")"
   ],
   "outputs": [],
   "metadata": {}
  },
  {
   "cell_type": "code",
   "execution_count": 6,
   "source": [
    "process_and_execute(p1=path_1, p2=path_3, p3=path_6, p4=pitchnames, p5=path_4, p6=path_2, name=\"Never-Gonna-Give-You-Up-1\", output_name=\"GiveUp\")"
   ],
   "outputs": [],
   "metadata": {}
  },
  {
   "cell_type": "code",
   "execution_count": 19,
   "source": [
    "process_and_execute(p1=path_1, p2=path_3, p3=path_6, p4=pitchnames, p5=path_4, p6=path_2, name=\"Naruto - sadness and sorrow\", output_name=\"Naruto\")\r\n"
   ],
   "outputs": [
    {
     "output_type": "stream",
     "name": "stdout",
     "text": [
      "563\n"
     ]
    }
   ],
   "metadata": {}
  },
  {
   "cell_type": "code",
   "execution_count": null,
   "source": [],
   "outputs": [],
   "metadata": {}
  }
 ],
 "metadata": {
  "orig_nbformat": 4,
  "language_info": {
   "name": "python"
  }
 },
 "nbformat": 4,
 "nbformat_minor": 2
}