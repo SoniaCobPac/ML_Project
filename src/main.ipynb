{
 "cells": [
  {
   "cell_type": "markdown",
   "source": [
    "# **Soni - do:  Generating Music with Artificial Intelligence**\r\n"
   ],
   "metadata": {}
  },
  {
   "cell_type": "markdown",
   "source": [
    "#### Author: Sonia Cobo\n",
    "#### Date: July 2021"
   ],
   "metadata": {}
  },
  {
   "cell_type": "markdown",
   "source": [
    "<table align=\"center\"> \r\n",
    "<tr><td width=\"800\"><img src=\"../resources/title.jpeg\" style=\"width:10;height:10\"></td>  \r\n",
    "</table>"
   ],
   "metadata": {}
  },
  {
   "cell_type": "markdown",
   "source": [
    "### Music is associated with emotions, experiences and creativity, all o them considered human's qualities. \r\n",
    "\r\n",
    "### Though this project doesn't have a hypothesis per se it has been done to prove that technology has advanced to the point where artificial intelligence, that cannot experience these feelings, can generate music.\r\n",
    "\r\n",
    "### This project will explain and show how music has been generated using differente types of neural networks in Python. For this aim different types of neural networks have been analised. Two Long short-term memory (LSTM) models (a Bidirectional and a Unidirectional network) and a Generative adversarial network (GAN) considering different layers and parameters."
   ],
   "metadata": {}
  },
  {
   "cell_type": "markdown",
   "source": [
    "# Data"
   ],
   "metadata": {}
  },
  {
   "cell_type": "markdown",
   "source": [
    "### Music files have been imported to Python in MIDI format. MIDI (Musical Instrument Digital Interface) is a technical standard that describes a communications protocol, digital interface, and electrical connectors that connect a wide variety of electronic musical instruments and computers. They don't contain actual audio data and are small in size. They explain what notes are played, when they're played, and how long or loud each note should be.\r\n",
    "\r\n",
    "### To optimise results only MIDI files consisting of a single instrument were chosen. In this case, the chosen instrument is piano and the type of songs is classical. \r\n",
    "\r\n",
    "### These songs have been obtained from the following datasets: http://www.piano-midi.de/ and https://www.mfiles.co.uk/classical-midi.htm\r\n",
    "### As guidance for the project the following example was considered: 'How to Generate Music using a LSTM Neural Network in Keras' by Sigurður Skúli.\r\n"
   ],
   "metadata": {}
  },
  {
   "cell_type": "markdown",
   "source": [
    "## Import all libraries"
   ],
   "metadata": {}
  },
  {
   "cell_type": "code",
   "execution_count": 24,
   "source": [
    "# data manipulation\r\n",
    "import numpy as np\r\n",
    "import pandas as pd \r\n",
    "from collections import Counter\r\n",
    "\r\n",
    "\r\n",
    "# manipulate midi files\r\n",
    "import glob\r\n",
    "from music21 import *\r\n",
    "import pygame\r\n",
    "\r\n",
    "# visualization\r\n",
    "import seaborn as sns\r\n",
    "import matplotlib.pyplot as plt\r\n",
    "\r\n",
    "# route files\r\n",
    "import os\r\n",
    "import sys\r\n",
    "\r\n",
    "# ml model\r\n",
    "import pickle\r\n",
    "\r\n",
    "import tensorflow as tf\r\n",
    "from tensorflow import keras\r\n",
    "\r\n",
    "from keras.models import Sequential\r\n",
    "from keras.layers import Dense\r\n",
    "from keras.layers import Dropout\r\n",
    "from keras.layers import LSTM\r\n",
    "from keras.layers import Activation\r\n",
    "from keras.layers import BatchNormalization\r\n",
    "from keras.layers import Bidirectional\r\n",
    "from keras.layers import Dropout\r\n",
    "from keras.layers import Flatten\r\n",
    "from keras.layers import Activation\r\n",
    "\r\n",
    "# my libraries\r\n",
    "import utils.mining_data_tb as md\r\n",
    "from utils.folders_tb import read_json\r\n",
    "import utils.visualization_tb as vis\r\n",
    "import utils.models as m\r\n",
    "import utils.apis_tb as a\r\n",
    "\r\n",
    "import warnings\r\n",
    "warnings.filterwarnings(\"ignore\")\r\n"
   ],
   "outputs": [],
   "metadata": {}
  },
  {
   "cell_type": "markdown",
   "source": [
    "## Paths"
   ],
   "metadata": {}
  },
  {
   "cell_type": "code",
   "execution_count": 25,
   "source": [
    "sep = os.sep\r\n",
    "# path to raw data\r\n",
    "path = md.route(1) + sep + \"data\" + sep + \"raw_data\" + sep\r\n",
    "# path to data in the right key\r\n",
    "path_1 = md.route(1) + sep + \"data\" + sep + \"converted_data\" + sep\r\n",
    "# path to compiled notes list\r\n",
    "path_2 = md.route(1) + sep + \"data\" + sep + \"notes\" + sep\r\n",
    "# path to generated models\r\n",
    "path_3 = md.route(1) + sep + \"models\" + sep\r\n",
    "# path to generated midi files\r\n",
    "path_4 = md.route(1) + sep + \"reports\" + sep\r\n",
    "# path to output information\r\n",
    "path_5 = md.route(1) + sep + \"data\" + sep + \"output\" + sep\r\n",
    "# path to other songs\r\n",
    "path_6 = md.route(1) + sep + \"data\" + sep + \"more_inst_data\" + sep\r\n",
    "# path to resources\r\n",
    "path_7 = md.route(1) + sep + \"resources\" + sep\r\n",
    "\r\n"
   ],
   "outputs": [],
   "metadata": {}
  },
  {
   "cell_type": "markdown",
   "source": [
    "## EDA"
   ],
   "metadata": {}
  },
  {
   "cell_type": "markdown",
   "source": [
    "### The Python library 'Music21' has been used to read and manipulate MIDI files. This library has the necessary classes to allow us to read music. \r\n",
    "\r\n",
    "### To start working with MIDI files these need to be converted to Score objects, which are a subclass for handling multi-part music. Once this is done it is possible to use the library build-in classes to view the file information.  \r\n",
    "\r\n",
    "### The main components to generate new melodies, and those considered in this project, are notes, rests and chords. To make prediccions more accurate more components could be considered, such us the time signature. However, due to this project's limitations (timeframe, computer memory, etc) they haven't been included in this study.\r\n",
    "\r\n",
    "### Note objects contain information about the pitch, octave, and offset of the note. Pitch refers to the frequency of the sound, or how high or low it is and is represented with the letters [A, B, C, D, E, F, G] or [Do, Re, Mi, Fa, Sol, La, Si] in Spanish. \r\n",
    "### Octave refers to which set of pitches you use on a piano. \r\n",
    "### Offset refers to where the note is located in the piece.\r\n",
    "\r\n",
    "### Rests are the silences in the piece.\r\n",
    "\r\n",
    "### Chord objects are a set of notes that are played at the same time.\r\n",
    "\r\n",
    "### The below figure represents pitches and octaves in a keyboard for reference."
   ],
   "metadata": {}
  },
  {
   "cell_type": "markdown",
   "source": [
    "<table align=\"center\"> \r\n",
    "<tr><td width=\"10000\"><img src=\"../resources/pitch_and_octaves.png\" style=\"width:14000;height:1500\"></td>  \r\n",
    "</table>"
   ],
   "metadata": {}
  },
  {
   "cell_type": "code",
   "execution_count": 26,
   "source": [
    "# All information from the midi file (i.e. notes, pitch, chord, time signature, etc) is contained within the component list\r\n",
    "\r\n",
    "components = md.info_midi(path, \"alb_esp1.mid\")\r\n",
    "components[:15]"
   ],
   "outputs": [
    {
     "output_type": "execute_result",
     "data": {
      "text/plain": [
       "[<music21.stream.Part 0x294c30ca308>,\n",
       " <music21.instrument.Piano 'Piano right: Piano right'>,\n",
       " <music21.instrument.Piano 'Piano'>,\n",
       " <music21.tempo.MetronomeMark moderate Quarter=93.43>,\n",
       " <music21.key.Key of F major>,\n",
       " <music21.meter.TimeSignature 3/4>,\n",
       " <music21.stream.Voice 0x294c30be8c8>,\n",
       " <music21.note.Rest rest>,\n",
       " <music21.note.Note A>,\n",
       " <music21.note.Note E>,\n",
       " <music21.note.Note D>,\n",
       " <music21.note.Note D>,\n",
       " <music21.note.Note C>,\n",
       " <music21.note.Note D>,\n",
       " <music21.note.Note E>]"
      ]
     },
     "metadata": {},
     "execution_count": 26
    }
   ],
   "metadata": {}
  },
  {
   "cell_type": "markdown",
   "source": [
    "### The component list also shows the piece key, which is the group of pitches, or scale, that forms the basis of a music composition. Each piece has its own key signature. To improve predictions all pieces have been transformed to the same key, in this case C major or A minor, to assist the model to not go off key."
   ],
   "metadata": {}
  },
  {
   "cell_type": "markdown",
   "source": [
    "### ```All files have already been transposed so the below cell doesn't need to be executed again. It is a long process.```\r\n"
   ],
   "metadata": {}
  },
  {
   "cell_type": "code",
   "execution_count": 4,
   "source": [
    "# md.transpose_key(path, path_1)"
   ],
   "outputs": [],
   "metadata": {}
  },
  {
   "cell_type": "markdown",
   "source": [
    "## Pre-Processing"
   ],
   "metadata": {}
  },
  {
   "cell_type": "markdown",
   "source": [
    "### It is now understood all information provided by the MIDI file. This relevant information needs now to be encoded and saved into an array to feed the neural network. As previously mentioned, this project only consider notes (pitches), rests and chords but additional information can be included if desired.\r\n",
    "\r\n",
    "### The pitch of every note object is appended to a list using string notation since the most significant parts of the note can be recreated using the string notation of the pitch. Chords are enconded using the id of every note together into a single string, with each note being separated by a dot. Rest are simply transformed to string."
   ],
   "metadata": {}
  },
  {
   "cell_type": "code",
   "execution_count": 27,
   "source": [
    "# Each midi file contains notes, rests and chords. These three properties will be the input and output of the neural network so \r\n",
    "# they need to be taken out from all midi files.\r\n",
    "\r\n",
    "one_song = md.get_notes_per_song(path_1, \"C_chopin-etude-op10-no4.mid\", path_2, \"one_notes\")\r\n",
    "\r\n",
    "print(f\" This list contains a total number of {len(one_song)} notes and chords, being {len(set(one_song))} of them unique.\")"
   ],
   "outputs": [
    {
     "output_type": "stream",
     "name": "stdout",
     "text": [
      " This list contains a total number of 1752 notes and chords, being 167 of them unique.\n"
     ]
    }
   ],
   "metadata": {}
  },
  {
   "cell_type": "markdown",
   "source": [
    "### It is possible to encode a list of songs at the same time rather than going one piece at a time. This list will be also used to encode and decode any piece or group of pieces as it contains a larger number of different notes and chords.\r\n",
    "\r\n",
    "### Due to the available computer memory only 50 pieces have been included in this 'master' list. However, as the model considers each note, rest and chord within each piece this will suffice to find a basic pattern and generate new sounds."
   ],
   "metadata": {}
  },
  {
   "cell_type": "code",
   "execution_count": 34,
   "source": [
    "all_notes = md.get_all_notes(path = path_1, save_path = path_2, save_name = \"all_notes\")\r\n",
    "\r\n",
    "print(f\" This list contains a total number of {len(all_notes)} notes and chords, being {len(set(all_notes))} unique.\")"
   ],
   "outputs": [
    {
     "output_type": "stream",
     "name": "stdout",
     "text": [
      " This list contains a total number of 76798 notes and chords, being 332 unique.\n"
     ]
    }
   ],
   "metadata": {}
  },
  {
   "cell_type": "markdown",
   "source": [
    "### To use these notes for enconding and decoding in the future a set of this list is saved. This helps to maintain the same dimensions when training the model so it can be used for different pieces. However, there is the risk of giving new notes to the model that it hadn't heard before."
   ],
   "metadata": {}
  },
  {
   "cell_type": "code",
   "execution_count": 35,
   "source": [
    "# This cell is comment to avoid modifyin pitchnames as it will impact on the models\r\n",
    "\r\n",
    "#pitchnames = sorted(set(all_notes))\r\n",
    "#md.save_elem(path_2, \"pitchnames\", pitchnames)"
   ],
   "outputs": [],
   "metadata": {}
  },
  {
   "cell_type": "code",
   "execution_count": 36,
   "source": [
    "# clean garbage\r\n",
    "import gc\r\n",
    "gc.collect()"
   ],
   "outputs": [
    {
     "output_type": "execute_result",
     "data": {
      "text/plain": [
       "110710"
      ]
     },
     "metadata": {},
     "execution_count": 36
    }
   ],
   "metadata": {}
  },
  {
   "cell_type": "markdown",
   "source": [
    "### The neural network has been first tested with one piece to ensure its structure has been properly built. Once the model is tunned properly all pieces can be passed to improve its predictions."
   ],
   "metadata": {}
  },
  {
   "cell_type": "markdown",
   "source": [
    "### To be able to share the input data a dataframe with all considered pieces and their notes has been created. This dataframe has been inserted into a SQL database and can also be accessed / seen through Streamlit. "
   ],
   "metadata": {}
  },
  {
   "cell_type": "code",
   "execution_count": 9,
   "source": [
    "# generate dataframe\r\n",
    "\r\n",
    "df_music = md.create_dataframe(path= path_1, save_path = path_2, save_name = \"all_notes\")"
   ],
   "outputs": [],
   "metadata": {}
  },
  {
   "cell_type": "code",
   "execution_count": 10,
   "source": [
    "df_music.head()"
   ],
   "outputs": [
    {
     "output_type": "execute_result",
     "data": {
      "text/plain": [
       "                       Piece  \\\n",
       "0                   alb_esp1   \n",
       "1    C_chopin-etude-op10-no4   \n",
       "2  C_chopin-nocturne-op9-no2   \n",
       "3                  C_chpn-p1   \n",
       "4                 C_chpn-p10   \n",
       "\n",
       "                                               Notes  \n",
       "0  [F2, 4.7.10.0, D2, F#2, 11.2, A2, F#2, F4, 8.1...  \n",
       "1  [E5, D5, C5, B4, 9, B4, G#4, A4, B4, C5, A4, B...  \n",
       "2  [G4, E5, 11.2.5, 4.5.8.11, D5, C5, 0.4.7, E5, ...  \n",
       "3  [REST, C4, REST, C4, REST, D4, REST, D4, REST,...  \n",
       "4  [REST, E6, F6, E6, F6, E6, E-6, 4.9, F6, E6, C...  "
      ],
      "text/html": [
       "<div>\n",
       "<style scoped>\n",
       "    .dataframe tbody tr th:only-of-type {\n",
       "        vertical-align: middle;\n",
       "    }\n",
       "\n",
       "    .dataframe tbody tr th {\n",
       "        vertical-align: top;\n",
       "    }\n",
       "\n",
       "    .dataframe thead th {\n",
       "        text-align: right;\n",
       "    }\n",
       "</style>\n",
       "<table border=\"1\" class=\"dataframe\">\n",
       "  <thead>\n",
       "    <tr style=\"text-align: right;\">\n",
       "      <th></th>\n",
       "      <th>Piece</th>\n",
       "      <th>Notes</th>\n",
       "    </tr>\n",
       "  </thead>\n",
       "  <tbody>\n",
       "    <tr>\n",
       "      <th>0</th>\n",
       "      <td>alb_esp1</td>\n",
       "      <td>[F2, 4.7.10.0, D2, F#2, 11.2, A2, F#2, F4, 8.1...</td>\n",
       "    </tr>\n",
       "    <tr>\n",
       "      <th>1</th>\n",
       "      <td>C_chopin-etude-op10-no4</td>\n",
       "      <td>[E5, D5, C5, B4, 9, B4, G#4, A4, B4, C5, A4, B...</td>\n",
       "    </tr>\n",
       "    <tr>\n",
       "      <th>2</th>\n",
       "      <td>C_chopin-nocturne-op9-no2</td>\n",
       "      <td>[G4, E5, 11.2.5, 4.5.8.11, D5, C5, 0.4.7, E5, ...</td>\n",
       "    </tr>\n",
       "    <tr>\n",
       "      <th>3</th>\n",
       "      <td>C_chpn-p1</td>\n",
       "      <td>[REST, C4, REST, C4, REST, D4, REST, D4, REST,...</td>\n",
       "    </tr>\n",
       "    <tr>\n",
       "      <th>4</th>\n",
       "      <td>C_chpn-p10</td>\n",
       "      <td>[REST, E6, F6, E6, F6, E6, E-6, 4.9, F6, E6, C...</td>\n",
       "    </tr>\n",
       "  </tbody>\n",
       "</table>\n",
       "</div>"
      ]
     },
     "metadata": {},
     "execution_count": 10
    }
   ],
   "metadata": {}
  },
  {
   "cell_type": "markdown",
   "source": [
    "### To avoid having to create and load the dataframe each time, it can be saved and read it back for its simple use."
   ],
   "metadata": {}
  },
  {
   "cell_type": "code",
   "execution_count": 12,
   "source": [
    "md.save_dataframe(path_5, df_music, \"df_music\")"
   ],
   "outputs": [
    {
     "output_type": "execute_result",
     "data": {
      "text/plain": [
       "'Your file has been saved'"
      ]
     },
     "metadata": {},
     "execution_count": 12
    }
   ],
   "metadata": {}
  },
  {
   "cell_type": "markdown",
   "source": [
    "## Visualization"
   ],
   "metadata": {}
  },
  {
   "cell_type": "markdown",
   "source": [
    "### From the extracted information it is possible to plot a simply histogram showing the note distribution per piece."
   ],
   "metadata": {}
  },
  {
   "cell_type": "code",
   "execution_count": 17,
   "source": [
    "vis.plot_one_song(df_music[\"Notes\"], df_music[\"Piece\"], \"C_chpn_op10_e05.mid\", path_1)"
   ],
   "outputs": [
    {
     "output_type": "display_data",
     "data": {
      "text/plain": [
       "<Figure size 576x288 with 1 Axes>"
      ],
      "image/png": "[encoded data removed]"
     },
     "metadata": {
      "image/png": {
       "width": 500,
       "height": 288
      },
      "needs_background": "light"
     }
    }
   ],
   "metadata": {}
  },
  {
   "cell_type": "markdown",
   "source": [
    "## Pre-processing"
   ],
   "metadata": {}
  },
  {
   "cell_type": "markdown",
   "source": [
    "### The relevant components from the MIDI file, for this project notes, rests and chords, have been extracted and saved in a list. To start training any neural network these information needs to be transformed from categorical data to integer-based numerical data. Therefore, it is necessary to create input sequences to feed into the network and their respective outputs. The output for each input sequence will be the first note or chord that is expected to come after the sequence of notes in the input sequence in the list of notes. \r\n",
    "\r\n",
    "### The length of each sequence will be 100 notes for now. This means that to generate the next note in the sequence the network has the previous 100 notes to help make the prediction. Another variable is the step which represents the amount of previous notes the next sequence will consider to predict the next one. These two variables can be adjusted depending on the model accuracy.\r\n",
    "\r\n",
    "### If a long list is passed to the neural network the computer does not have the required memory to carry out all operations. To solve this issue without having to reduce the sequence length or another parameter it is possible to reduce the number of notes/chords given to the newtork based on its occurence in the piece. If a note does not appear more than the specified occurence value then it is removed from the list.\r\n",
    "\r\n",
    "### If this solution does not resolve the memory issue, and other parameters (such as the sequence length or step) don't want to be changed, fewer pieces will need to be taken all at a time."
   ],
   "metadata": {}
  },
  {
   "cell_type": "markdown",
   "source": [
    "### To test the model the first trial considers only one piece: Chopin - Etude Op10 No4\t\r\n"
   ],
   "metadata": {}
  },
  {
   "cell_type": "code",
   "execution_count": 38,
   "source": [
    "# one piece\r\n",
    "x, y = md.prepare_sequences(pitchnames= pitchnames, notes=one_song, min_note_occurence=1, sequence_length=70, step=3)  "
   ],
   "outputs": [],
   "metadata": {}
  },
  {
   "cell_type": "markdown",
   "source": [
    "### As previously mentioned GAN models have also been used to generate melodies. Due to the different internal structure the pre-processing process is slightly different. GANs will be explained in more detail in the next section, for now it is just necessary to know that the main difference in the data pre-processing stage is that their network output needs to be a sequence of elements rathern than one element only so they need to be preprocessed with another function. \r\n",
    "\r\n",
    "### This will be better understood in the GAN section of the project."
   ],
   "metadata": {}
  },
  {
   "cell_type": "code",
   "execution_count": 39,
   "source": [
    "# GAN baseline \r\n",
    "x_gan, y_gan = md.prepare_sequences_gan(pitchnames= pitchnames,notes=one_song, min_note_occurence=1, sequence_length=70, step=3) "
   ],
   "outputs": [],
   "metadata": {}
  },
  {
   "cell_type": "markdown",
   "source": [
    "## Neural Network"
   ],
   "metadata": {}
  },
  {
   "cell_type": "markdown",
   "source": [
    "### The pre-processed data has been split into network input and network output. During this process this data has also been encoded using one hot encoding system and it is ready to be used to train the models. \r\n",
    "\r\n",
    "### One hot encoding is used for categorical variables where no ordinal relationship exists. It creates a binary column for each category and returns a sparse matrix or dense array (depending on the sparse parameter).\r\n",
    "\r\n",
    "### This section considers different models to not only generate new melodies but also to compare the effectiveness of each network. The chosen models are the following:\r\n",
    "###    - Unidirectional LSTM \r\n",
    "###    - Bidirectional LSTM \r\n",
    "###    - Unidirectional LSTM with additional internal layers\r\n",
    "###    - LSTM GAN\r\n",
    "###    - Leaky Relu GAN\r\n",
    "\r\n",
    "\r\n",
    "### All models will be explained first and then all their predictions will be listened to and compared. \r\n",
    "\r\n",
    "### Let's start analysing the first model. This baseline model is a recurrent network consisting of a LSTM layer which takes a sequence as an input and returns a matrix.\r\n"
   ],
   "metadata": {}
  },
  {
   "cell_type": "markdown",
   "source": [
    "## Unidirectional LSTM model\r\n",
    "\r\n",
    "### This model consists of one LSTM layers, one Dense layers and one activation layer. The network structure can be modified to improve the quality of the predictions. \r\n",
    "\r\n",
    "### The Dense layer is a fully connected neural network layer where each input node is connected to each output node, and the Activation layer determines what activation function will be used to calculate the output of a node. In this case the Activation function 'softmax' has been chosen to normalize the output of the network to a probability distribution over the predicted output classes. Each value in the output of the softmax function is interpreted as the probability of membership for each class.\r\n",
    "\r\n",
    "### An optimizer is one of the two arguments required for compiling a Keras model. In this case the optimizer 'Adam' has been chosen as it is apropriate for non-stationary objectives. Instead of adapting the parameter learning rates based on the average first moment (the mean), Adam also makes use of the average of the second moments of the gradients (the uncentered variance).\r\n",
    "\r\n",
    "### Another required value for compilation is the loss. The purpose of loss functions is to compute the quantity that a model should seek to minimize during training. Due to the model structure, and because labels are provided in a one_hot representation, 'Categorical Crossentropy' was selected as it computes the crossentropy loss between the labels and predictions."
   ],
   "metadata": {}
  },
  {
   "cell_type": "code",
   "execution_count": 40,
   "source": [
    "# Baseline LSTM model considering one piece only - 1 epoch\r\n",
    "model = m.lstm_model(num_units=x.shape[0], num_dense=x.shape[2], n_inputs=(x.shape[1],x.shape[2]))"
   ],
   "outputs": [],
   "metadata": {}
  },
  {
   "cell_type": "code",
   "execution_count": 41,
   "source": [
    "# Baseline LSTM model - 1 epoch\r\n",
    "model.fit(x, y, epochs=1, verbose=0)\r\n",
    "# save the model\r\n",
    "model.save(path_3 + \"baseline_lstm_1epoch_1song_2.h5\")\r\n",
    "print(model.summary())"
   ],
   "outputs": [
    {
     "output_type": "stream",
     "name": "stdout",
     "text": [
      "Model: \"sequential\"\n",
      "_________________________________________________________________\n",
      "Layer (type)                 Output Shape              Param #   \n",
      "=================================================================\n",
      "lstm (LSTM)                  (None, 561)               2006136   \n",
      "_________________________________________________________________\n",
      "dense (Dense)                (None, 332)               186584    \n",
      "_________________________________________________________________\n",
      "activation (Activation)      (None, 332)               0         \n",
      "=================================================================\n",
      "Total params: 2,192,720\n",
      "Trainable params: 2,192,720\n",
      "Non-trainable params: 0\n",
      "_________________________________________________________________\n",
      "None\n"
     ]
    }
   ],
   "metadata": {}
  },
  {
   "cell_type": "code",
   "execution_count": null,
   "source": [
    "# load the model if required\r\n",
    "# model = tf.keras.models.load_model(path_3 + \"baseline_lstm_1epoch_1song_2.h5\")"
   ],
   "outputs": [],
   "metadata": {}
  },
  {
   "cell_type": "markdown",
   "source": [
    "## Bidirectional LSTM model\r\n",
    "\r\n",
    "### A Bidirectional LSTM model has been also created to compare its effectiveness against the basic LSTM model. The difference between these two models is that the Unidirectional LSTM only preserves information of the past because the only inputs it has seen are from the past. Bidirectional networks run inputs in two ways, preserving information from the past to future and from future to the past. \r\n",
    "\r\n",
    "### In theory the use of a Bidirectional LSTM model will improve predictions as it can generates melodies that sounds similar to humans. By keeping a more robust pattern in the melody the listener can expect what is next and feels that the piece structure makes more sense.\r\n",
    "\r\n",
    "### To compare if this affirmation is true the same piece(s) and parameters used to train the Unidirectional LSTM model have been used for this model.\r\n"
   ],
   "metadata": {}
  },
  {
   "cell_type": "code",
   "execution_count": 42,
   "source": [
    "# Bidirectional LSTM model 1 piece - 1 epoch\r\n",
    "model_bi = m.bi_lstm_model(num_units=x.shape[0], num_dense=x.shape[2], n_inputs=(x.shape[1],x.shape[2]))\r\n",
    "model_bi.fit(x,y, epochs=1, verbose=0)\r\n",
    "print(model_bi.summary())"
   ],
   "outputs": [
    {
     "output_type": "stream",
     "name": "stdout",
     "text": [
      "Model: \"sequential_1\"\n",
      "_________________________________________________________________\n",
      "Layer (type)                 Output Shape              Param #   \n",
      "=================================================================\n",
      "bidirectional (Bidirectional (None, 70, 1122)          4012272   \n",
      "_________________________________________________________________\n",
      "dense_1 (Dense)              (None, 70, 332)           372836    \n",
      "_________________________________________________________________\n",
      "dropout (Dropout)            (None, 70, 332)           0         \n",
      "_________________________________________________________________\n",
      "bidirectional_1 (Bidirection (None, 1122)              4012272   \n",
      "_________________________________________________________________\n",
      "dense_2 (Dense)              (None, 332)               372836    \n",
      "_________________________________________________________________\n",
      "dropout_1 (Dropout)          (None, 332)               0         \n",
      "_________________________________________________________________\n",
      "activation_1 (Activation)    (None, 332)               0         \n",
      "=================================================================\n",
      "Total params: 8,770,216\n",
      "Trainable params: 8,770,216\n",
      "Non-trainable params: 0\n",
      "_________________________________________________________________\n",
      "None\n"
     ]
    }
   ],
   "metadata": {}
  },
  {
   "cell_type": "code",
   "execution_count": 43,
   "source": [
    "# save the model\r\n",
    "model_bi.save(path_3 + \"bi_lstm_1epoch_1song_2.h5\")"
   ],
   "outputs": [],
   "metadata": {}
  },
  {
   "cell_type": "markdown",
   "source": [
    "## Upgraded LSTM Model \r\n",
    "\r\n",
    "### A third LSTM model has also been considered. This model has increased the number of LSTM and Dense layer to the baseline LSTM model. In additon to this, a Dropout layer has been added.\r\n",
    "\r\n",
    "### The Dropout layer randomly selects neurons to be ignored during training. They are “dropped-out” randomly. This means that their contribution to the activation of downstream neurons is temporally removed on the forward pass and any weight updates are not applied to the neuron on the backward pass.\r\n",
    "\r\n",
    "### It is a regularization technique which helps prevent overfitting.\r\n",
    "\r\n",
    "### In this case this model consists of three LSTM layers, three Dense layers and two Dropout layers at 30% rate. "
   ],
   "metadata": {}
  },
  {
   "cell_type": "code",
   "execution_count": 44,
   "source": [
    "lstm_upgraded = m.lstm_model_upgraded(num_units=x.shape[0], num_dense=x.shape[2], n_inputs=(x.shape[1],x.shape[2]))\r\n",
    "lstm_upgraded.fit(x,y, epochs=1, verbose=0)\r\n",
    "print(lstm_upgraded.summary())"
   ],
   "outputs": [
    {
     "output_type": "stream",
     "name": "stdout",
     "text": [
      "Model: \"sequential_2\"\n",
      "_________________________________________________________________\n",
      "Layer (type)                 Output Shape              Param #   \n",
      "=================================================================\n",
      "lstm_3 (LSTM)                (None, 70, 561)           2006136   \n",
      "_________________________________________________________________\n",
      "dense_3 (Dense)              (None, 70, 332)           186584    \n",
      "_________________________________________________________________\n",
      "dropout_2 (Dropout)          (None, 70, 332)           0         \n",
      "_________________________________________________________________\n",
      "lstm_4 (LSTM)                (None, 70, 561)           2006136   \n",
      "_________________________________________________________________\n",
      "dense_4 (Dense)              (None, 70, 332)           186584    \n",
      "_________________________________________________________________\n",
      "lstm_5 (LSTM)                (None, 561)               2006136   \n",
      "_________________________________________________________________\n",
      "dense_5 (Dense)              (None, 332)               186584    \n",
      "_________________________________________________________________\n",
      "dropout_3 (Dropout)          (None, 332)               0         \n",
      "_________________________________________________________________\n",
      "activation_2 (Activation)    (None, 332)               0         \n",
      "=================================================================\n",
      "Total params: 6,578,160\n",
      "Trainable params: 6,578,160\n",
      "Non-trainable params: 0\n",
      "_________________________________________________________________\n",
      "None\n"
     ]
    }
   ],
   "metadata": {}
  },
  {
   "cell_type": "code",
   "execution_count": 45,
   "source": [
    "# save the model\r\n",
    "lstm_upgraded.save(path_3 + \"lstm_upgraded_1epoch_1song_2.h5\")"
   ],
   "outputs": [],
   "metadata": {}
  },
  {
   "cell_type": "markdown",
   "source": [
    "## GANs"
   ],
   "metadata": {}
  },
  {
   "cell_type": "markdown",
   "source": [
    "### Generative Adversarial Networks (GANs) are types of neural network architectures capable of generating new data that conforms to learned patterns.\r\n",
    "\r\n",
    "### GANs are composed of two halves: a generation model and a discrimination model. The job of the generator model is to create new examples of data, based on the patterns that the model has learned from the training data. The job of the discriminator model is to analyze data and determine if they are generated/fake or genuine.\r\n",
    "\r\n",
    "### The two models are faced against one another; The generator model's goal is to produce data that deceive the discriminator model. While the discriminator model's job is to overcome the generator model, and catch the generated/fake data that the generator produces. \r\n",
    "\r\n",
    "### This structure makes both models to improve. The discriminator gets feedback about which data is genuine and which one is produced by the generator, while the generator is fed information on which of its data were flagged as false by the discriminator. Both models improve during training, with the goal of training a generation model that can produce fake data that is basically indistinguishable from real, genuine data.\r\n",
    "\r\n",
    "### The discriminator model is fed examples from the entire training domain, which is made up of both real and generated data examples. The real examples are contained within the training dataset, while the fake data is produced by the generative model. The process of training the discriminator model is exactly the same as basic, binary-classification model training."
   ],
   "metadata": {}
  },
  {
   "cell_type": "markdown",
   "source": [
    "<table align=\"center\"> \r\n",
    "<tr><td width=\"800\"><img src=\"../resources/gan.png\" style=\"width:10;height:10\"></td>  \r\n",
    "</table>"
   ],
   "metadata": {}
  },
  {
   "cell_type": "markdown",
   "source": [
    "### As two models are being faced there are more pre-processing processes required. \r\n",
    "\r\n",
    "### During the training process the GAN uses real data taken from the network input and generated / fake data produced by the generator. This fake data is generated from a random input. \r\n",
    "\r\n",
    "### 50% of real and 50% of fake data is fed into the discriminator model. It will then render a probabilistic prediction about the nature of the data it receives, outputting a value between 0 and 1, where 1 is typically authentic data and 0 is a fake data. \r\n",
    "\r\n",
    "### This system has a double feedback loop. Each training procedure has three steps per round and they can be done as many rounds as necessary. The first step is to assign random weights to the generator. It obviously produces very poor data that the discriminator model has no problem distinguishing it as fake. Therefore, the generator's parameters are updated.\r\n",
    "\r\n",
    "### The next step is the discriminator round. Slighly improved data is generated by the generator model but the discriminator keep successfully categorising it as fake. However, in this case it is the discriminator model the one that is updated to improve even further. \r\n",
    "\r\n",
    "### In the last step real data is fed to the discriminator to learn what real data is.\r\n",
    "\r\n",
    "### This cycle is repeated, mantaining the updates from the previous round, until the discriminator cannot discern between real or fake data and the generator cannot produced more realistic data. This means that the discriminator will always be rendering probabilities of 50% for real and fake samples, meaning generated / fake data are indistinguishable from the real one. "
   ],
   "metadata": {}
  },
  {
   "cell_type": "markdown",
   "source": [
    "## Data input"
   ],
   "metadata": {}
  },
  {
   "cell_type": "markdown",
   "source": [
    "### Based on the GAN training procedure different network inputs are required. These are the real data, fake data and random input often called as latent points or latent space.\r\n",
    "\r\n",
    "### Real data is a random portion taken from the original network input. This data is fed to the discriminator with a class label specifying they are real."
   ],
   "metadata": {}
  },
  {
   "cell_type": "code",
   "execution_count": 46,
   "source": [
    "# The amount of samples can be changed to better tune the model\r\n",
    "x_real, y_real = md.generate_real_samples(x_gan, n_samples=100,sequence_length=70)"
   ],
   "outputs": [],
   "metadata": {}
  },
  {
   "cell_type": "markdown",
   "source": [
    "### Latent points / random input is random noise. The generator then transforms this noise into a meaningful output. By introducing noise, the GAN produces a wide variety of data, sampling from different places in the target distribution."
   ],
   "metadata": {}
  },
  {
   "cell_type": "code",
   "execution_count": 47,
   "source": [
    "# The amount of samples can be changed to better tune the model\r\n",
    "x_latent = md.generate_latent_points(x_gan, n_samples=100)"
   ],
   "outputs": [],
   "metadata": {}
  },
  {
   "cell_type": "markdown",
   "source": [
    "### Fake data is taken from the random input, interpreted by the generator model, and then fed to the discriminator categorised as fake.\r\n",
    "\r\n",
    "### As this type of data needs to be interpreted by the generator this model needs to be created first."
   ],
   "metadata": {}
  },
  {
   "cell_type": "markdown",
   "source": [
    "## LSTM GAN model"
   ],
   "metadata": {}
  },
  {
   "cell_type": "markdown",
   "source": [
    "### The generator model is responsible for generating new plausible examples that ideally are indistinguishable from real data in the dataset.\r\n",
    "\r\n",
    "### Two different GAN models will be used to compare which one generates the more realistic melody. The first one has been designed as simplest as possible to also be able to use it baseline. In this case, the generator only has one LSTM, Dense and Activation layer (Softmax). \r\n",
    "\r\n",
    "### The generator will only be trained through the GAN model so it is not necessary to compile it."
   ],
   "metadata": {}
  },
  {
   "cell_type": "code",
   "execution_count": 48,
   "source": [
    "# Generator model\r\n",
    "gen_model = m.generator_model(num_units= x_gan.shape[0], n_inputs=(x_gan.shape[1], x_gan.shape[2]))\r\n",
    "gen_model.summary()"
   ],
   "outputs": [
    {
     "output_type": "stream",
     "name": "stdout",
     "text": [
      "Model: \"sequential_3\"\n",
      "_________________________________________________________________\n",
      "Layer (type)                 Output Shape              Param #   \n",
      "=================================================================\n",
      "lstm_6 (LSTM)                (None, 70, 538)           1874392   \n",
      "_________________________________________________________________\n",
      "dense_6 (Dense)              (None, 70, 332)           178948    \n",
      "_________________________________________________________________\n",
      "activation_3 (Activation)    (None, 70, 332)           0         \n",
      "=================================================================\n",
      "Total params: 2,053,340\n",
      "Trainable params: 2,053,340\n",
      "Non-trainable params: 0\n",
      "_________________________________________________________________\n"
     ]
    }
   ],
   "metadata": {}
  },
  {
   "cell_type": "markdown",
   "source": [
    "### The discriminator model is responsible for classifying a given sample as either real (drawn from the dataset) or fake (generated).\r\n",
    "\r\n",
    "### In this first GAN model the discriminator only has one LSTM, Dense and Activation layer. However, now the Activation function is \"sigmoid\" , which exists between 0 to 1. It is used because this model wants to predict the probability of the output and probability of anything exists only between the range of 0 and 1.\r\n",
    "\r\n",
    "### The probabilistic loss in this model is 'binary crossentropy' as it computes the cross-entropy loss between true labels and predicted labels. It is used for binary (0 or 1) classification applications."
   ],
   "metadata": {}
  },
  {
   "cell_type": "code",
   "execution_count": 49,
   "source": [
    "dis_model = m.discriminator_model(num_units= x_gan.shape[0], n_inputs=(x_gan.shape[1], x_gan.shape[2]))\r\n",
    "dis_model.summary()"
   ],
   "outputs": [
    {
     "output_type": "stream",
     "name": "stdout",
     "text": [
      "Model: \"sequential_4\"\n",
      "_________________________________________________________________\n",
      "Layer (type)                 Output Shape              Param #   \n",
      "=================================================================\n",
      "lstm_7 (LSTM)                (None, 538)               1874392   \n",
      "_________________________________________________________________\n",
      "dense_7 (Dense)              (None, 332)               178948    \n",
      "_________________________________________________________________\n",
      "dense_8 (Dense)              (None, 1)                 333       \n",
      "=================================================================\n",
      "Total params: 2,053,673\n",
      "Trainable params: 2,053,673\n",
      "Non-trainable params: 0\n",
      "_________________________________________________________________\n"
     ]
    }
   ],
   "metadata": {}
  },
  {
   "cell_type": "code",
   "execution_count": 50,
   "source": [
    "# Generate fake samples\r\n",
    "x_fake, y_fake = md.generate_fake_data(x_gan, gen_model, n_samples=100)"
   ],
   "outputs": [],
   "metadata": {}
  },
  {
   "cell_type": "markdown",
   "source": [
    "### GAN model comprising both the generator and discriminator model."
   ],
   "metadata": {}
  },
  {
   "cell_type": "code",
   "execution_count": 51,
   "source": [
    "gan_model = m.gan_model(gen_model, dis_model)\r\n",
    "gan_model.summary()"
   ],
   "outputs": [
    {
     "output_type": "stream",
     "name": "stdout",
     "text": [
      "Model: \"sequential_5\"\n",
      "_________________________________________________________________\n",
      "Layer (type)                 Output Shape              Param #   \n",
      "=================================================================\n",
      "sequential_3 (Sequential)    (None, 70, 332)           2053340   \n",
      "_________________________________________________________________\n",
      "batch_normalization (BatchNo (None, 70, 332)           1328      \n",
      "_________________________________________________________________\n",
      "sequential_4 (Sequential)    (None, 1)                 2053673   \n",
      "=================================================================\n",
      "Total params: 4,108,341\n",
      "Trainable params: 2,054,004\n",
      "Non-trainable params: 2,054,337\n",
      "_________________________________________________________________\n"
     ]
    }
   ],
   "metadata": {}
  },
  {
   "cell_type": "markdown",
   "source": [
    "### Once both models have been created it is time to train the network.\r\n",
    "\r\n",
    "### First, the discriminator model is updated for half batch of real samples, then half batch of fake samples, together forming one batch of weight updates. The generator is then updated via the combined GAN model. "
   ],
   "metadata": {}
  },
  {
   "cell_type": "code",
   "execution_count": 52,
   "source": [
    "m.train(x=x_gan, g_model=gen_model, d_model=dis_model, gan_model=gan_model, n_epochs=1, n_batch=129,sequence_length=70)"
   ],
   "outputs": [
    {
     "output_type": "stream",
     "name": "stdout",
     "text": [
      ">1, 1/4, loss_real=0.692, loss_fake=0.725 loss_latent=0.682\n",
      ">1, 2/4, loss_real=0.621, loss_fake=0.684 loss_latent=0.663\n",
      ">1, 3/4, loss_real=0.523, loss_fake=0.427 loss_latent=0.001\n",
      ">1, 4/4, loss_real=1.824, loss_fake=0.145 loss_latent=0.251\n"
     ]
    }
   ],
   "metadata": {}
  },
  {
   "cell_type": "code",
   "execution_count": 53,
   "source": [
    "# save the model\r\n",
    "gan_model.save(path_3 + \"model_gan_model_2.h5\")\r\n",
    "gen_model.save(path_3 + \"model_gen_model_2.h5\")\r\n",
    "dis_model.save(path_3 + \"model_dis_model_2.h5\")"
   ],
   "outputs": [
    {
     "output_type": "stream",
     "name": "stdout",
     "text": [
      "WARNING:tensorflow:Compiled the loaded model, but the compiled metrics have yet to be built. `model.compile_metrics` will be empty until you train or evaluate the model.\n"
     ]
    }
   ],
   "metadata": {}
  },
  {
   "cell_type": "markdown",
   "source": [
    "## Leaky GAN model\r\n",
    "\r\n",
    "### Another type of network has been tested for this project. In this case a LeakyRelu layer has been used. \r\n",
    "\r\n",
    "### It allows a small gradient when the unit is not active. There is a small negative slope, so instead of not firing at all for large gradients, neurons output some value making the layer much more optimized too.\r\n",
    "\r\n",
    "### The derivative is 1 in the positive part, and is a small fraction in the negative part.\r\n",
    "\r\n",
    "### In addition, few layers of Batch Normalization have also been included. It is a layer that normalizes its inputs. It is a transformation that maintains the mean output close to 0 and the output standard deviation close to 1."
   ],
   "metadata": {}
  },
  {
   "cell_type": "code",
   "execution_count": 54,
   "source": [
    "# Generator Leaky Relu model\r\n",
    "gen_model_leaky = m.generator_model_Leaky(n_nodes= x_gan.shape[0] , n_inputs=(x_gan.shape[1], x_gan.shape[2]))\r\n",
    "# Discriminator \r\n",
    "dis_model_leaky = m.discriminator_model_Leaky(num_units= x_gan.shape[0], n_inputs=(x_gan.shape[1], x_gan.shape[2]))\r\n",
    "# Gan combined\r\n",
    "gan_model_leaky = m.gan_model(gen_model_leaky, dis_model_leaky)\r\n",
    "\r\n",
    "gen_model_leaky.summary()"
   ],
   "outputs": [
    {
     "output_type": "stream",
     "name": "stdout",
     "text": [
      "Model: \"sequential_6\"\n",
      "_________________________________________________________________\n",
      "Layer (type)                 Output Shape              Param #   \n",
      "=================================================================\n",
      "dense_9 (Dense)              (None, 70, 538)           179154    \n",
      "_________________________________________________________________\n",
      "leaky_re_lu (LeakyReLU)      (None, 70, 538)           0         \n",
      "_________________________________________________________________\n",
      "dense_10 (Dense)             (None, 70, 538)           289982    \n",
      "_________________________________________________________________\n",
      "leaky_re_lu_1 (LeakyReLU)    (None, 70, 538)           0         \n",
      "_________________________________________________________________\n",
      "batch_normalization_1 (Batch (None, 70, 538)           2152      \n",
      "_________________________________________________________________\n",
      "dense_11 (Dense)             (None, 70, 332)           178948    \n",
      "_________________________________________________________________\n",
      "leaky_re_lu_2 (LeakyReLU)    (None, 70, 332)           0         \n",
      "_________________________________________________________________\n",
      "batch_normalization_2 (Batch (None, 70, 332)           1328      \n",
      "_________________________________________________________________\n",
      "reshape (Reshape)            (None, 70, 332)           0         \n",
      "_________________________________________________________________\n",
      "leaky_re_lu_3 (LeakyReLU)    (None, 70, 332)           0         \n",
      "_________________________________________________________________\n",
      "conv1d_transpose (Conv1DTran (None, 70, 538)           536386    \n",
      "_________________________________________________________________\n",
      "leaky_re_lu_4 (LeakyReLU)    (None, 70, 538)           0         \n",
      "_________________________________________________________________\n",
      "conv1d_transpose_1 (Conv1DTr (None, 70, 332)           536180    \n",
      "=================================================================\n",
      "Total params: 1,724,130\n",
      "Trainable params: 1,722,390\n",
      "Non-trainable params: 1,740\n",
      "_________________________________________________________________\n"
     ]
    }
   ],
   "metadata": {}
  },
  {
   "cell_type": "code",
   "execution_count": 55,
   "source": [
    "# Train\r\n",
    "m.train(x=x_gan, g_model=gen_model_leaky, d_model=dis_model_leaky, gan_model=gan_model_leaky, n_epochs=1, n_batch=129,sequence_length=70)"
   ],
   "outputs": [
    {
     "output_type": "stream",
     "name": "stdout",
     "text": [
      ">1, 1/4, loss_real=0.662, loss_fake=0.766 loss_latent=0.460\n",
      ">1, 2/4, loss_real=0.000, loss_fake=0.702 loss_latent=0.168\n",
      ">1, 3/4, loss_real=0.000, loss_fake=0.641 loss_latent=0.029\n",
      ">1, 4/4, loss_real=0.000, loss_fake=0.573 loss_latent=0.003\n"
     ]
    }
   ],
   "metadata": {}
  },
  {
   "cell_type": "code",
   "execution_count": 56,
   "source": [
    "gen_model_leaky = tf.keras.models.load_model(path_3 +\"model_gen_leaky_2.h5\")\r\n",
    "gen_model_leaky.summary()"
   ],
   "outputs": [
    {
     "output_type": "stream",
     "name": "stdout",
     "text": [
      "WARNING:tensorflow:No training configuration found in the save file, so the model was *not* compiled. Compile it manually.\n",
      "Model: \"sequential_5\"\n",
      "_________________________________________________________________\n",
      "Layer (type)                 Output Shape              Param #   \n",
      "=================================================================\n",
      "dense_6 (Dense)              (None, 70, 538)           182920    \n",
      "_________________________________________________________________\n",
      "leaky_re_lu (LeakyReLU)      (None, 70, 538)           0         \n",
      "_________________________________________________________________\n",
      "dense_7 (Dense)              (None, 70, 538)           289982    \n",
      "_________________________________________________________________\n",
      "leaky_re_lu_1 (LeakyReLU)    (None, 70, 538)           0         \n",
      "_________________________________________________________________\n",
      "batch_normalization_1 (Batch (None, 70, 538)           2152      \n",
      "_________________________________________________________________\n",
      "dense_8 (Dense)              (None, 70, 339)           182721    \n",
      "_________________________________________________________________\n",
      "leaky_re_lu_2 (LeakyReLU)    (None, 70, 339)           0         \n",
      "_________________________________________________________________\n",
      "batch_normalization_2 (Batch (None, 70, 339)           1356      \n",
      "_________________________________________________________________\n",
      "reshape (Reshape)            (None, 70, 339)           0         \n",
      "_________________________________________________________________\n",
      "leaky_re_lu_3 (LeakyReLU)    (None, 70, 339)           0         \n",
      "_________________________________________________________________\n",
      "conv1d_transpose (Conv1DTran (None, 70, 538)           547684    \n",
      "_________________________________________________________________\n",
      "leaky_re_lu_4 (LeakyReLU)    (None, 70, 538)           0         \n",
      "_________________________________________________________________\n",
      "conv1d_transpose_1 (Conv1DTr (None, 70, 339)           547485    \n",
      "=================================================================\n",
      "Total params: 1,754,300\n",
      "Trainable params: 1,752,546\n",
      "Non-trainable params: 1,754\n",
      "_________________________________________________________________\n"
     ]
    }
   ],
   "metadata": {}
  },
  {
   "cell_type": "code",
   "execution_count": 39,
   "source": [
    "# save the model\r\n",
    "gan_model_leaky.save(path_3 + \"model_gan_leaky_2.h5\")\r\n",
    "gen_model_leaky.save(path_3 + \"model_gen_leaky_2.h5\")\r\n",
    "dis_model_leaky.save(path_3 + \"model_dis_leaky_2.h5\")\r\n"
   ],
   "outputs": [
    {
     "output_type": "stream",
     "name": "stdout",
     "text": [
      "WARNING:tensorflow:Compiled the loaded model, but the compiled metrics have yet to be built. `model.compile_metrics` will be empty until you train or evaluate the model.\n"
     ]
    }
   ],
   "metadata": {}
  },
  {
   "cell_type": "markdown",
   "source": [
    "## Model Comparison\r\n",
    "\r\n",
    "### Train the model considering only 1 epoch (iteration). This variable can be adjusted to improve the quality of predictions. Future trials will increase this value to compare model results."
   ],
   "metadata": {}
  },
  {
   "cell_type": "markdown",
   "source": [
    "### The network loss, accuracy and root mean squared error are inserted into a dataframe to be able to compare different models."
   ],
   "metadata": {}
  },
  {
   "cell_type": "code",
   "execution_count": 34,
   "source": [
    "# Baseline LSTM model\r\n",
    "result_errors = model.evaluate(x, y, verbose=0)\r\n",
    "\r\n",
    "# Bidirectional LSTM model\r\n",
    "result_errors_bi = model_bi.evaluate(x, y, verbose=0)\r\n",
    "\r\n",
    "# Upgraded LSTM model\r\n",
    "result_errors_up = lstm_upgraded.evaluate(x, y, verbose=0)\r\n",
    "\r\n",
    "print(f\"LSTM model evaluation:\\n- Loss: {result_errors[0]}\\n- Accuracy: {result_errors[1]}\\n- RMSE: {result_errors[2]}\")\r\n",
    "print(\"\")\r\n",
    "print(f\"Bidirectional LSTM model evaluation:\\n- Loss: {result_errors_bi[0]}\\n- Accuracy: {result_errors_bi[1]}\\n- RMSE: {result_errors_bi[2]}\")\r\n",
    "print(\"\")\r\n",
    "print(f\"Upgraded LSTM model evaluation:\\n- Loss: {result_errors_up[0]}\\n- Accuracy: {result_errors_up[1]}\\n- RMSE: {result_errors_up[2]}\")\r\n"
   ],
   "outputs": [
    {
     "output_type": "stream",
     "name": "stdout",
     "text": [
      "LSTM model evaluation:\n",
      "- Loss: 0.6070066094398499\n",
      "- Accuracy: 0.028520498424768448\n",
      "- RMSE: 0.034225184470415115\n",
      "\n",
      "Bidirectional LSTM model evaluation:\n",
      "- Loss: 0.7158117890357971\n",
      "- Accuracy: 0.01247771829366684\n",
      "- RMSE: 0.03345061093568802\n",
      "\n",
      "Upgraded LSTM model evaluation:\n",
      "- Loss: 0.6906465291976929\n",
      "- Accuracy: 0.008912655524909496\n",
      "- RMSE: 0.03464468568563461\n"
     ]
    }
   ],
   "metadata": {}
  },
  {
   "cell_type": "markdown",
   "source": [
    "### GAN accuracy "
   ],
   "metadata": {}
  },
  {
   "cell_type": "code",
   "execution_count": 40,
   "source": [
    "# Accuracy\r\n",
    "check_performance = m.check_performance(gen_model, dis_model, x_gan, sequence_length = 70, n_samples=100)\r\n",
    "check_performance_leaky = m.check_performance(gen_model_leaky, dis_model_leaky, x_gan, sequence_length = 70, n_samples=100)\r\n",
    "\r\n",
    "print(f\"GAN model evaluation:\\n- Accuracy: {check_performance}\")\r\n",
    "print(\"\")\r\n",
    "print(f\"GAN LeakyRelu model evaluation:\\n- Accuracy: {check_performance_leaky}\")\r\n"
   ],
   "outputs": [
    {
     "output_type": "stream",
     "name": "stdout",
     "text": [
      "GAN model evaluation:\n",
      "- Accuracy: >Accuracy real: 87%, fake: 100%\n",
      "\n",
      "GAN LeakyRelu model evaluation:\n",
      "- Accuracy: >Accuracy real: 100%, fake: 100%\n"
     ]
    }
   ],
   "metadata": {}
  },
  {
   "cell_type": "markdown",
   "source": [
    "### To make a clearer comparison between all models their parameters and evaluation has been included in a dataframe."
   ],
   "metadata": {}
  },
  {
   "cell_type": "markdown",
   "source": [
    "## Comparison"
   ],
   "metadata": {}
  },
  {
   "cell_type": "code",
   "execution_count": null,
   "source": [
    "# Dataframe with model information\r\n",
    "models = [\"LSTM\", \"Bidirectional LSTM\", \"LSTM Upgraded\", \"Baseline GAN\", \"Leaky GAN\"]\r\n",
    "params = [\"1 epoch, loss=categorical_crossentropy, optimizer=rmsprop\", \"1 epoch, loss=categorical_crossentropy, optimizer=rmsprop\",\"1 epoch, loss=categorical_crossentropy, optimizer=rmsprop\", \"1 epoch, loss=binary_crossentropy, optimizer=adam\", \"1 epoch, loss=binary_crossentropy, optimizer=adam\"]\r\n",
    "loss = [result_errors[0], result_errors_bi[0], result_errors_up[0], np.nan, np.nan]\r\n",
    "acc = [result_errors[1], result_errors_bi[1], result_errors_up[1], check_performance, check_performance_leaky]\r\n",
    "rmse = [result_errors[2], result_errors_bi[2],result_errors_up[2], np.nan, np.nan]\r\n",
    "\r\n",
    "df_error = pd.DataFrame({\"model\": models, \"parameters\": params, \"loss\": loss, \"rmse\": rmse, \"accuracy\": acc})\r\n",
    "df_error\r\n"
   ],
   "outputs": [
    {
     "output_type": "execute_result",
     "data": {
      "text/plain": [
       "                model                                         parameters  \\\n",
       "0                LSTM  1 epoch, loss=categorical_crossentropy, optimi...   \n",
       "1  Bidirectional LSTM  1 epoch, loss=categorical_crossentropy, optimi...   \n",
       "2       LSTM Upgraded  1 epoch, loss=categorical_crossentropy, optimi...   \n",
       "3        Baseline GAN  1 epoch, loss=binary_crossentropy, optimizer=adam   \n",
       "4           Leaky GAN  1 epoch, loss=binary_crossentropy, optimizer=adam   \n",
       "\n",
       "       loss      rmse                          accuracy  \n",
       "0  4.536096  0.054373                          0.027223  \n",
       "1  4.369243  0.054193                          0.114338  \n",
       "2  4.704911  0.054544                          0.018149  \n",
       "3       NaN       NaN   >Accuracy real: 94%, fake: 100%  \n",
       "4       NaN       NaN  >Accuracy real: 100%, fake: 100%  "
      ],
      "text/html": [
       "<div>\n",
       "<style scoped>\n",
       "    .dataframe tbody tr th:only-of-type {\n",
       "        vertical-align: middle;\n",
       "    }\n",
       "\n",
       "    .dataframe tbody tr th {\n",
       "        vertical-align: top;\n",
       "    }\n",
       "\n",
       "    .dataframe thead th {\n",
       "        text-align: right;\n",
       "    }\n",
       "</style>\n",
       "<table border=\"1\" class=\"dataframe\">\n",
       "  <thead>\n",
       "    <tr style=\"text-align: right;\">\n",
       "      <th></th>\n",
       "      <th>model</th>\n",
       "      <th>parameters</th>\n",
       "      <th>loss</th>\n",
       "      <th>rmse</th>\n",
       "      <th>accuracy</th>\n",
       "    </tr>\n",
       "  </thead>\n",
       "  <tbody>\n",
       "    <tr>\n",
       "      <th>0</th>\n",
       "      <td>LSTM</td>\n",
       "      <td>1 epoch, loss=categorical_crossentropy, optimi...</td>\n",
       "      <td>4.536096</td>\n",
       "      <td>0.054373</td>\n",
       "      <td>0.027223</td>\n",
       "    </tr>\n",
       "    <tr>\n",
       "      <th>1</th>\n",
       "      <td>Bidirectional LSTM</td>\n",
       "      <td>1 epoch, loss=categorical_crossentropy, optimi...</td>\n",
       "      <td>4.369243</td>\n",
       "      <td>0.054193</td>\n",
       "      <td>0.114338</td>\n",
       "    </tr>\n",
       "    <tr>\n",
       "      <th>2</th>\n",
       "      <td>LSTM Upgraded</td>\n",
       "      <td>1 epoch, loss=categorical_crossentropy, optimi...</td>\n",
       "      <td>4.704911</td>\n",
       "      <td>0.054544</td>\n",
       "      <td>0.018149</td>\n",
       "    </tr>\n",
       "    <tr>\n",
       "      <th>3</th>\n",
       "      <td>Baseline GAN</td>\n",
       "      <td>1 epoch, loss=binary_crossentropy, optimizer=adam</td>\n",
       "      <td>NaN</td>\n",
       "      <td>NaN</td>\n",
       "      <td>&gt;Accuracy real: 94%, fake: 100%</td>\n",
       "    </tr>\n",
       "    <tr>\n",
       "      <th>4</th>\n",
       "      <td>Leaky GAN</td>\n",
       "      <td>1 epoch, loss=binary_crossentropy, optimizer=adam</td>\n",
       "      <td>NaN</td>\n",
       "      <td>NaN</td>\n",
       "      <td>&gt;Accuracy real: 100%, fake: 100%</td>\n",
       "    </tr>\n",
       "  </tbody>\n",
       "</table>\n",
       "</div>"
      ]
     },
     "metadata": {},
     "execution_count": 21
    }
   ],
   "metadata": {}
  },
  {
   "cell_type": "markdown",
   "source": [
    "### Save dataframe for its possible future use"
   ],
   "metadata": {}
  },
  {
   "cell_type": "code",
   "execution_count": null,
   "source": [
    "# save the results dataframe\r\n",
    "md.save_dataframe(path_5, df_error, \"df_results\")"
   ],
   "outputs": [
    {
     "output_type": "execute_result",
     "data": {
      "text/plain": [
       "'Your file has been saved'"
      ]
     },
     "metadata": {},
     "execution_count": 22
    }
   ],
   "metadata": {}
  },
  {
   "cell_type": "markdown",
   "source": [
    "### Insert dataframe into SQL"
   ],
   "metadata": {}
  },
  {
   "cell_type": "code",
   "execution_count": null,
   "source": [
    "# insert into SQL the results dataframe \r\n",
    "\r\n",
    "a.upload_comparison_dataframe(path_5, \"df_results\")         "
   ],
   "outputs": [],
   "metadata": {}
  },
  {
   "cell_type": "code",
   "execution_count": 9,
   "source": [
    "# clean garbage\r\n",
    "import gc\r\n",
    "gc.collect()"
   ],
   "outputs": [
    {
     "output_type": "execute_result",
     "data": {
      "text/plain": [
       "20"
      ]
     },
     "metadata": {},
     "execution_count": 9
    }
   ],
   "metadata": {}
  },
  {
   "cell_type": "markdown",
   "source": [
    "## Predictions"
   ],
   "metadata": {}
  },
  {
   "cell_type": "markdown",
   "source": [
    "### Once the model has been trained, some post-processing operations are required to be able to make predictions. \r\n",
    "\r\n",
    "### To make a prediction a full list of note sequences is chosen using a random index in the original list. This allows to re-run the generation code without changing anything and get different results every time. Contrary to the first process done, a mapping function here will decode the output of the network. This function will transform from numerical data (integers) to categorical data (notes).\r\n",
    "\r\n",
    "### For each predicted note that we want to generate we have to submit a sequence to the network. \r\n",
    "\r\n",
    "### A sequence to the network is fed for each generated note. The first submitted sequence is the sequence of notes at the starting index. A sliding-window method is applied and every subsequent sequence is the output of the previous iteration without the first note. To determine the most likely prediction from the output the index of the highest value is considered and then decoded to represent its note, rest or chord.\r\n",
    "\r\n",
    "### The amount of generated notes can be chosen, for reference 500 notes is roughly two minutes of music."
   ],
   "metadata": {}
  },
  {
   "cell_type": "markdown",
   "source": [
    "### To try to improve predictions differente temperatures can be used. Temperature is a hyperparameter of neural networks used to control the randomness of predictions by scaling the logits before applying softmax. \r\n",
    "\r\n",
    "### Using a higher temperature value produces a softer probability distribution over the classes, and makes the neural network less conservative in its samples, resulting in more diversity and also more mistakes."
   ],
   "metadata": {}
  },
  {
   "cell_type": "code",
   "execution_count": 22,
   "source": [
    "# Baseline LSTM model - 1 epoch\r\n",
    "prediction_output, patterns = md.generate_notes(pitchnames=pitchnames, notes=one_song, model=model, sequence_length=70, temperature=1.0)\r\n",
    "print(prediction_output)"
   ],
   "outputs": [
    {
     "output_type": "stream",
     "name": "stdout",
     "text": [
      "['9.0.4', '7.9.1', 'D4', '11.2.5', '4', 'D4', '9.0', '7', 'D4', 'REST', 'E4', 'B2', 'F4', '8.10', '9', '6.9', 'F5', 'E2', '10.1.5', 'D5', 'C7', '6.9.1', 'G#4', '5.11', 'F2', 'REST', 'A1', 'B2', '10', 'B4', 'F2', 'C5', 'B2', 'B2', 'A1', '11', 'C3', '0.3', 'REST', 'C#2', 'B2', 'D4', 'G5', 'D5', '5.7.11.1', 'A5', 'REST', '5.8', 'F2', 'A2', '8.11.2.4', 'E4', 'E5', '9.0', '5.11', 'A4', '9', 'G#4', 'B2', 'E-5', '4.5', 'B2', '9', 'D4', '9.0', 'F3', '1.4', '8.9', 'A4', '8.10', 'F#5', '9.11.3', '9.2', '4.10', 'A3', '3.5.9', 'B2', 'D4', '0.3', 'E-5', 'REST', '2.5.8', 'G3', '4.7.8', '8.11', 'E4', '6', 'A4', '2', 'A2', 'D5', '9.2', '4.7.10', '11.2', '0.3', '11.4', '11', 'B3', '10.0', 'D4']\n"
     ]
    }
   ],
   "metadata": {}
  },
  {
   "cell_type": "code",
   "execution_count": 28,
   "source": [
    "# Bidirectional LSTM model - 1 epoch\r\n",
    "prediction_output_bi, patterns_bi = md.generate_notes(pitchnames=pitchnames, notes=one_song, model=model_bi, sequence_length=70, temperature=1.0)\r\n",
    "print(prediction_output_bi)"
   ],
   "outputs": [
    {
     "output_type": "stream",
     "name": "stdout",
     "text": [
      "['F#6', 'F6', '8.11', 'C5', '6.11', 'A5', 'A4', 'F4', 'G#2', '7.0', 'C#1', 'A5', 'D2', 'G#4', 'C5', 'C2', 'E3', '5.8.0', '8.11.2.4', 'C2', 'F4', '4.8.11', '11.4.5', 'B4', 'D4', 'D2', 'D2', 'E2', 'B-4', '8', '8', 'D5', 'A4', '0.6', 'G2', 'F4', 'G#4', 'C#3', 'G1', 'C5', '11', 'D4', '9.11.2.5', 'D2', '0.4', 'B-4', 'C#3', 'F4', 'C2', '9', 'F4', 'C#4', 'C2', 'F4', '0.3', 'REST', 'B2', '11.2.4', '8.0', 'F6', 'D4', 'G#2', 'F#3', '2.6', 'G#1', '4.8', 'G4', 'D4', 'G#6', 'C5', 'F#3', '5', 'F#4', 'F4', '2.8', 'REST', '5.6.11', '4.10', 'D7', '1.5', '4.9', 'E3', '10.2', 'G1', '7.10.0', 'C#3', '10.1.5', 'E-6', 'E3', '4.8', 'G1', '2.5.8.11', 'G1', 'REST', 'F#2', 'G#5', '1.3', 'D2', 'E6', '7.0']\n"
     ]
    }
   ],
   "metadata": {}
  },
  {
   "cell_type": "code",
   "execution_count": 29,
   "source": [
    "# Upgraded LSTM model - 1 epoch\r\n",
    "prediction_output_upgraded, patterns_upgraded = md.generate_notes(pitchnames=pitchnames, notes=one_song, model=lstm_upgraded, sequence_length=70, temperature=1.0)\r\n",
    "print(prediction_output_upgraded)"
   ],
   "outputs": [
    {
     "output_type": "stream",
     "name": "stdout",
     "text": [
      "['F#3', '0.2', 'B-2', 'F6', 'D3', '7.8.11.2', '5.11', '7.10.2', 'D4', 'G1', 'REST', 'G2', 'F5', '2.5.7', 'REST', '7', 'F5', '0', 'REST', 'G#3', '1.4.7.10', 'B4', 'G#4', '10.2', 'E-5', 'C#2', '5.8.11', 'E2', 'G6', 'E4', 'D2', 'REST', '2.5.8.11', 'C5', 'C#3', 'G#4', 'F6', '0.2.6', 'F3', 'E2', 'C2', '4.9', 'F5', 'E4', 'B5', 'B2', 'C5', 'F#3', '5.9', 'F6', 'E2', 'F#2', 'F5', '6.10', 'A3', 'E2', 'F#2', 'F5', '10.3', 'E-5', 'E-3', 'C2', 'D2', 'C#3', 'E2', '8.11', '0.4.7', 'E4', 'C5', '2.5.8.11', 'C2', '8.11', 'B4', '1.4', 'B6', '4', '0.4.7', '8.11', '5.8', 'E-3', 'C#5', '4.7.10', 'D1', 'E-5', '11.3', 'G#2', '3.7.10', 'E2', '3.7', 'C#5', 'C5', 'D2', 'C2', 'C2', '4.7', '8.0.3', 'C1', 'D2', 'F5', 'A3']\n"
     ]
    }
   ],
   "metadata": {}
  },
  {
   "cell_type": "code",
   "execution_count": 30,
   "source": [
    "# Baseline GAN - 1 epoch\r\n",
    "prediction_output_gan, patterns_gan = md.generate_notes_gan(pitchnames=pitchnames, notes=one_song, model=gen_model, sequence_length=70, temperature=1.0)\r\n",
    "print(prediction_output_gan)"
   ],
   "outputs": [
    {
     "output_type": "stream",
     "name": "stdout",
     "text": [
      "['11.4', '1.5.7', '3.6.7', '5.7.0', '3.5.8.10', 'E-3', 'G4', '0.4.7', '9.10.2', '5.8.9', '7.8.0', '1.3.8', 'A2', '10.1.4.6', '8.10.3', '1.5.9', '4.8', '9', 'A1', '6.8.1', '10', '0.2.4', '10', '7.9.2', '0.1', 'B-2', 'E-3', '9.1', 'F#1', '10.0', '0.3.6.7', 'E5', '5.9.10', '1.5.8', '4.8.11', '2.7', '9.10', '9.11.4', '3.6.9', '2.5.8.11', '10.0', '6.11.0', '4.7.10.0', '3.6.7', '0.4.8', '8.11.1', '5.6', '9.2', '3.4.9', '5.8', '4.8.11.0', 'A2', '3.5.10', '3.5.10', 'B2', 'A5', 'G#4', '4.7.9', 'A5', 'G5', '9.11.2.5', '4.7.9.0', 'A0', '5.8.11.1', '1.4.7', '3.5.8', 'A4', '3.4.9', '11.2.5.7', 'G4']\n"
     ]
    }
   ],
   "metadata": {}
  },
  {
   "cell_type": "code",
   "execution_count": null,
   "source": [
    "# Baseline GAN LeakyRelu- 1 epoch\r\n",
    "prediction_output_gan_leaky, patterns_gan_leaky = md.generate_notes_gan(pitchnames=pitchnames, notes=one_song, model=gen_model_leaky, sequence_length=70, temperature=1.0)\r\n",
    "print(prediction_output_gan_leaky)"
   ],
   "outputs": [
    {
     "output_type": "stream",
     "name": "stdout",
     "text": [
      "['F#2', 'E-6', '0.5', 'C4', '3.7.9', 'G3', '3.6.8', '4.9.10', 'B-5', '11.3.6', 'B5', '7.9.1', '2.5', '10', '4.5', 'F#7', '1.4.7.9', 'G5', 'A3', '2.6.9', 'F#4', 'G5', 'E2', 'G7', '9.11.1', '4.6.9', 'E6', 'D4', '4.7.10', 'E7', '8.10.3', '6.9.0.2', 'G7', '3.7', '0.2.6.8', '10.1.4', 'E-2', '0.2.6.8', '4.9', '1.4.7.9', '8.9.0.3', '6.11', '1.5.8', 'F#7', '3.7', '4.5.7.11', 'REST', '5.7.10', 'A7', '2.5', '2.4.5.9', 'B3', '1.4.7', '0.2.5', '11.1', 'G3', '1.5.9', '9.11.2.5', '3.4.9', '8.11', '1.3.7', 'G4', '8.0.2', '0.3.6', '9.0.2.5', '3.7.11', '6.7', '4.9.10', '6.7', '4.6.11']\n"
     ]
    }
   ],
   "metadata": {}
  },
  {
   "cell_type": "markdown",
   "source": [
    "## Post-Processing"
   ],
   "metadata": {}
  },
  {
   "cell_type": "markdown",
   "source": [
    "### Now that an array full of predicted notes have been generated it is time to decode it. Its elements can be notes, rests or chords.\r\n",
    "\r\n",
    "### If the patter is a note or a rest it will be decoded using the note and rest object respectively from the librery Music21. It it is a chord, it will be split into an array of notes. Each note will be converted using the note object and then compiled into the chord object considering those notes.\r\n",
    "\r\n",
    "### At the end of this decodification a MIDI file is created with these objects to be able to listen to the model predictions."
   ],
   "metadata": {}
  },
  {
   "cell_type": "code",
   "execution_count": null,
   "source": [
    "# Baseline LSTM model - 1 epoch\r\n",
    "md.gen_midi(prediction_output, path_4, \"baseline_lstm_1epoch_1song_4.mid\")\r\n",
    "# Bidirectional LSTM model - 1 epoch\r\n",
    "md.gen_midi(prediction_output_bi, path_4, \"bi_lstm_1epoch_1song_4.mid\")\r\n",
    "# Upgraded LSTM model - 1 epoch\r\n",
    "md.gen_midi(prediction_output_upgraded, path_4, \"upgraded_lstm_1epoch_1song_3.mid\")\r\n",
    "# Baseline GAN - 1 epoch\r\n",
    "md.gen_midi(prediction_output_gan, path_4, \"gan_lstm_1epoch_1song_3.mid\")\r\n",
    "# GAN LeakyRelu - 1 epoch\r\n",
    "md.gen_midi(prediction_output_gan_leaky, path_4, \"gan_leaky_lstm_1epoch_1song_3.mid\")"
   ],
   "outputs": [
    {
     "output_type": "execute_result",
     "data": {
      "text/plain": [
       "<music21.stream.Stream 0x23503f1c448>"
      ]
     },
     "metadata": {},
     "execution_count": 36
    }
   ],
   "metadata": {}
  },
  {
   "cell_type": "markdown",
   "source": [
    "### The below function allows to play the generated MIDI files in the notebook"
   ],
   "metadata": {}
  },
  {
   "cell_type": "markdown",
   "source": [
    "### Just for comparison this is the first created MIDI file was just one note repeated over 2 minute time."
   ],
   "metadata": {}
  },
  {
   "cell_type": "code",
   "execution_count": 11,
   "source": [
    "md.play_music(path_4 + \"1st_baseline_lstm_10epoch_1song_1.mid\")"
   ],
   "outputs": [],
   "metadata": {}
  },
  {
   "cell_type": "markdown",
   "source": [
    "### After adjusting the pre and post processes, as well as the neural network more interesting melodies were generated."
   ],
   "metadata": {}
  },
  {
   "cell_type": "code",
   "execution_count": null,
   "source": [
    "# Plays music when the below cells are executed "
   ],
   "outputs": [],
   "metadata": {}
  },
  {
   "cell_type": "code",
   "execution_count": null,
   "source": [
    "# Baseline LSTM model - 1 epoch\r\n",
    "md.play_music(path_4 + \"baseline_lstm_1epoch_1song_3.mid\")"
   ],
   "outputs": [],
   "metadata": {}
  },
  {
   "cell_type": "code",
   "execution_count": null,
   "source": [
    "# Bidirectional LSTM model - 1 epoch\r\n",
    "md.play_music(path_4 + \"bi_lstm_1epoch_1song_3.mid\")"
   ],
   "outputs": [],
   "metadata": {}
  },
  {
   "cell_type": "code",
   "execution_count": null,
   "source": [
    "# Upgraded LSTM model - 1 epoch\r\n",
    "md.play_music(path_4 + \"upgraded_lstm_1epoch_1song_2.mid\")"
   ],
   "outputs": [],
   "metadata": {}
  },
  {
   "cell_type": "code",
   "execution_count": 31,
   "source": [
    "# Baseline GAN - 1 epoch\r\n",
    "md.play_music(path_4 + \"gan_lstm_1epoch_1song_2.mid\")"
   ],
   "outputs": [],
   "metadata": {}
  },
  {
   "cell_type": "code",
   "execution_count": 44,
   "source": [
    "# GAN LeakyRelu - 1 epoch\r\n",
    "md.play_music(path_4 + \"gan_leaky_lstm_1epoch_1song_2.mid\")"
   ],
   "outputs": [],
   "metadata": {}
  },
  {
   "cell_type": "markdown",
   "source": [
    "### The above output sounds almost identically, though it was seen from the predictions that they consist on different notes. The reason can be that all models didn't have enough time to be trained and a small list of notes were provided as an input due to software memory issues."
   ],
   "metadata": {}
  },
  {
   "cell_type": "markdown",
   "source": [
    "### Now that we know that the neural network structure works all parameters can be adjusted to maximise predictions. For now and to keep this project simple the baseline LSTM model will be used to generate more new melodies as it has proved that it is as effective as the rest and it takes the least amount of time to make predictions."
   ],
   "metadata": {}
  },
  {
   "cell_type": "code",
   "execution_count": 12,
   "source": [
    "# If more melodies want to be generated the model can be called directly without having to execute all the notebook.\r\n",
    "model = tf.keras.models.load_model(path_3 + \"baseline_lstm_1epoch_1song_2.h5\")"
   ],
   "outputs": [],
   "metadata": {}
  },
  {
   "cell_type": "markdown",
   "source": [
    "## Time to have fun\r\n",
    "\r\n",
    "### Though the models have been trained to predict classical music from one isntrument, they were also tested with more variety of songs        "
   ],
   "metadata": {}
  },
  {
   "cell_type": "code",
   "execution_count": 31,
   "source": [
    "# The melody will play when the cell is executed, also its MIDI file is automatically saved to the folder 'reports'\r\n",
    "#md.process_and_execute(path_1, path_2, path_3, path_6, pitchnames, path_4, name=\"Guns n Roses - Sweet Child O Mine\", output_name=\"GunsnRoses\")\r\n",
    "\r\n",
    "# To avoid overwrite the file it can be loaded back.\r\n",
    "# This melody has been generated with the song Sweet Child of Mine by Guns and Roses:\r\n",
    "md.play_music(path_4 + \"GunsnRoses.mid\")"
   ],
   "outputs": [],
   "metadata": {}
  },
  {
   "cell_type": "code",
   "execution_count": 32,
   "source": [
    "#process_and_execute(name=\"Never-Gonna-Give-You-Up-1\", output_name=\"GiveUp\")\r\n",
    "\r\n",
    "# To avoid overwrite the file it can be loaded back.\r\n",
    "# This melody has been generated with the song Never gonna with you up:\r\n",
    "md.play_music(path_4 + \"GiveUp.mid\")"
   ],
   "outputs": [],
   "metadata": {}
  },
  {
   "cell_type": "code",
   "execution_count": 60,
   "source": [
    "# The melody will play when the cell is executed, also its MIDI file is automatically saved to the folder 'reports'\r\n",
    "md.process_and_execute(p1=path_1, p2=path_3, p3=path_6, p4=pitchnames, p5=path_4, p6=path_2, name=\"Naruto - sadness and sorrow\", output_name=\"Naruto\")\r\n",
    "# This melody has been generated with the song Never gonna with you up:\r\n",
    "#md.play_music(path_4 + \"Naruto.mid\")"
   ],
   "outputs": [
    {
     "output_type": "stream",
     "name": "stdout",
     "text": [
      "563\n"
     ]
    }
   ],
   "metadata": {}
  },
  {
   "cell_type": "markdown",
   "source": [
    "## Conclusion"
   ],
   "metadata": {}
  },
  {
   "cell_type": "markdown",
   "source": [
    "### This one-week project has proved that deep learning is capable of generating new melodies. Though results are far from perfect it is still impressive what a shallow neural network and a simple GAN network are capable to do. \r\n",
    "\r\n",
    "### **What can you conclude about your data study?**\r\n",
    "### The study concludes that artificial intelligence can generate new melodies. Now it is only required to invest more time and research to improve the selected models to improve the predictions. There are differente ideas, all explained in the below section \"future steps\" that can be carried out to improve the study. \r\n",
    "\r\n",
    "### **What would you change if you needed to do another DS project?**\r\n",
    "### With the available time and software the results were already capped off before even the analysis was started. \r\n",
    "### More time is required to use a GAN model. Their internal structure is complicated and results won't be optimised unless all parts are completely understood.\r\n",
    "\r\n",
    "### **What do you learn doing this project?**\r\n",
    "### Investigation is key when using neural network as increasing internal layers or modifying some parameters did not improve, or at least significantly, the generated melody. To obtain further improvements it is necessary to have a better understanding of this internal structure and all their available options.\r\n",
    "### Additionally, more time or a more robust software would be preferable to test models as the training process can be very time-consuming."
   ],
   "metadata": {}
  },
  {
   "cell_type": "markdown",
   "source": [
    "### At last the below pit chart ilustrates the approximate distribution of time spent in the project. There have been more sections that are not shown here to not overcrowd the chart."
   ],
   "metadata": {}
  },
  {
   "cell_type": "code",
   "execution_count": 42,
   "source": [
    "# Time spent in each project step\r\n",
    "vis.piechart(path_4)"
   ],
   "outputs": [
    {
     "output_type": "display_data",
     "data": {
      "text/plain": [
       "<Figure size 360x288 with 1 Axes>"
      ],
      "image/png": "[encoded data removed]"
     },
     "metadata": {
      "image/png": {
       "width": 390,
       "height": 247
      }
     }
    }
   ],
   "metadata": {}
  },
  {
   "cell_type": "markdown",
   "source": [
    "## Future steps\r\n",
    "\r\n",
    "### Different alternatives and additional work can always be done to improve this work. Due to the available time and resources it was not possible to implement all ideas. Some of them that can contribute to the improvement of the predictions are listed below:"
   ],
   "metadata": {}
  },
  {
   "cell_type": "markdown",
   "source": [
    "### - Change time signature to 4/4 to achieve more consistancy to the input and ease patterns\r\n",
    "### - Keep the length of all pieces the same\r\n",
    "### - Try more parameters and layers to all networks. However, deeper networks also required a more powerful computer.\r\n",
    "### - Play around with the number of epoch and batches to optimised results\r\n",
    "### - Train the model with files consisting of different instruments\r\n",
    "### - Clean the data based on sound frequency\r\n",
    "### - Convert MIDI files to WAV files automatically in Python\r\n",
    "### - Use Selenium to be able to automatically make predictions in Streamlit. Currently this is not possible as MIDI files cannot be uploaded and the conversion to WAV is done manually."
   ],
   "metadata": {}
  },
  {
   "cell_type": "code",
   "execution_count": null,
   "source": [],
   "outputs": [],
   "metadata": {}
  }
 ],
 "metadata": {
  "interpreter": {
   "hash": "2d8a740277f67c33143a8e5c8e55f738530a350d8def4a85d8635b690074994c"
  },
  "kernelspec": {
   "display_name": "Python 3.7.4 64-bit",
   "name": "python3"
  },
  "language_info": {
   "codemirror_mode": {
    "name": "ipython",
    "version": 3
   },
   "file_extension": ".py",
   "mimetype": "text/x-python",
   "name": "python",
   "nbconvert_exporter": "python",
   "pygments_lexer": "ipython3",
   "version": "3.7.4"
  },
  "orig_nbformat": 4
 },
 "nbformat": 4,
 "nbformat_minor": 2
}